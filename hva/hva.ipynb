{
 "cells": [
  {
   "cell_type": "code",
   "execution_count": 1,
   "metadata": {},
   "outputs": [],
   "source": [
    "from qaravan.core import TFI, brickwall_skeleton, RunContext, ChiralHeisenberg, Gate, Circuit, two_local_circ, CNOT, H, Circuit, pauli_X, pauli_Y, pauli_Z, embed_operator, string_to_sv\n",
    "from qaravan.tensorQ import environment_state_prep, StatevectorSim, all_zero_sv, random_sv\n",
    "import matplotlib.pyplot as plt\n",
    "import numpy as np\n",
    "import torch\n",
    "import scipy\n",
    "from functools import reduce"
   ]
  },
  {
   "cell_type": "code",
   "execution_count": 2,
   "metadata": {},
   "outputs": [],
   "source": [
    "from qaravan.core.param_gates import *\n",
    "\n",
    "def tfi_hva(params, num_sites): \n",
    "    backend = \"torch\" if torch.is_tensor(params) else \"numpy\"\n",
    "    zz = zzN if backend == \"numpy\" else zzT\n",
    "    x = pauli_X if backend == \"numpy\" else pauli_XT \n",
    "    expm = scipy.linalg.expm if backend == \"numpy\" else torch.matrix_exp\n",
    "\n",
    "    num_layers = len(params) // 2\n",
    "    gate_list = [H(i) for i in range(num_sites)]\n",
    "    for k in range(num_layers): \n",
    "        zrot = expm(-1j * params[2*k] * zz)\n",
    "        for i in range(0, num_sites, 2):\n",
    "            gate = Gate('R2', [i, i + 1], zrot)\n",
    "            gate_list.append(gate)\n",
    "        for i in range(1, num_sites, 2):\n",
    "            gate = Gate('R2', [i, (i + 1)%num_sites], zrot)\n",
    "            gate_list.append(gate)\n",
    "\n",
    "        xrot = expm(-1j * params[2*k + 1] * x)\n",
    "        for i in range(num_sites):\n",
    "            gate = Gate('R1', [i], xrot)\n",
    "            gate_list.append(gate)\n",
    "    \n",
    "    return Circuit(gate_list, num_sites)\n",
    "\n",
    "def tfi_hva_cost(params, num_sites, target_sv): \n",
    "    circ = tfi_hva(params, num_sites)\n",
    "    sim = StatevectorSim(circ, backend=\"torch\")\n",
    "    sim.run(progress_bar=False)\n",
    "    ansatz_sv = sim.get_statevector()\n",
    "    return 1 - torch.abs(torch.dot(ansatz_sv.conj(), target_sv))**2\n",
    "\n",
    "def tfi_hva_energy(params, num_sites, ham_mat):\n",
    "    circ = tfi_hva(params, num_sites)\n",
    "    sim = StatevectorSim(circ, backend=\"torch\")\n",
    "    sim.run(progress_bar=False)\n",
    "    ansatz_sv = sim.get_statevector()\n",
    "    return (torch.dot(ansatz_sv.conj(), torch.mv(ham_mat, ansatz_sv))).real\n",
    "\n",
    "def optimize_func(cost_func, params, cost_args=(), opt_kwargs=None, sch_kwargs=None, context=None):\n",
    "    opt_kwargs = opt_kwargs or {'lr':0.1, 'weight_decay':1e-4}\n",
    "    sch_kwargs = sch_kwargs or {'mode':'min', 'factor':0.1, 'patience':200, 'threshold':1e-4, 'threshold_mode':'rel'}\n",
    "\n",
    "    if not isinstance(params, torch.nn.Parameter):\n",
    "        params = torch.nn.Parameter(params)\n",
    "\n",
    "    optimizer = torch.optim.AdamW([params], **opt_kwargs)\n",
    "    scheduler = torch.optim.lr_scheduler.ReduceLROnPlateau(optimizer, **sch_kwargs)\n",
    "\n",
    "    if context is None:\n",
    "        context = RunContext(\n",
    "            progress_interval=2,\n",
    "            max_iter=10000,\n",
    "            checkpoint_file=None,\n",
    "            checkpoint_interval=100,\n",
    "            resume=False,\n",
    "            convergence_check=True,\n",
    "            stop_ratio=1e-6\n",
    "        )\n",
    "\n",
    "    cost_list = []\n",
    "    run_state = {\n",
    "        \"cost_list\": cost_list,\n",
    "        \"step\": context.step\n",
    "    }\n",
    "\n",
    "    while True:\n",
    "        cost = cost_func(params, *cost_args)\n",
    "        cost_val = cost.item()\n",
    "        cost_list.append(cost_val)\n",
    "\n",
    "        optimizer.zero_grad()\n",
    "        cost.backward()\n",
    "        optimizer.step()\n",
    "\n",
    "        old_lr = optimizer.param_groups[0]['lr']\n",
    "        scheduler.step(cost_val)\n",
    "        new_lr = optimizer.param_groups[0]['lr']\n",
    "        if new_lr < old_lr:\n",
    "            print(f\"[LR Drop] Step {run_state['step']}: cost = {cost:.2e}, LR dropped from {old_lr:.2e} to {new_lr:.2e}\")\n",
    "\n",
    "        run_state[\"step\"] += 1\n",
    "\n",
    "        if context.step_update(run_state):\n",
    "            break\n",
    "\n",
    "    return cost_list, params"
   ]
  },
  {
   "cell_type": "code",
   "execution_count": 6,
   "metadata": {},
   "outputs": [
    {
     "ename": "KeyboardInterrupt",
     "evalue": "",
     "output_type": "error",
     "traceback": [
      "\u001b[31m---------------------------------------------------------------------------\u001b[39m",
      "\u001b[31mKeyboardInterrupt\u001b[39m                         Traceback (most recent call last)",
      "\u001b[36mCell\u001b[39m\u001b[36m \u001b[39m\u001b[32mIn[6]\u001b[39m\u001b[32m, line 4\u001b[39m\n\u001b[32m      1\u001b[39m n = \u001b[32m16\u001b[39m\n\u001b[32m      3\u001b[39m critical_ham = TFI(n, \u001b[32m1\u001b[39m, \u001b[32m0.5\u001b[39m, periodic_x=\u001b[38;5;28;01mTrue\u001b[39;00m)\n\u001b[32m----> \u001b[39m\u001b[32m4\u001b[39m ge, gs = \u001b[43mcritical_ham\u001b[49m\u001b[43m.\u001b[49m\u001b[43mground\u001b[49m\u001b[43m(\u001b[49m\u001b[43m)\u001b[49m\n\u001b[32m      5\u001b[39m target_sv = torch.tensor(gs[:,\u001b[32m0\u001b[39m])\n\u001b[32m      7\u001b[39m num_layers = \u001b[32m7\u001b[39m\n",
      "\u001b[36mFile \u001b[39m\u001b[32m~/.conda/envs/qaravan-env-final/lib/python3.11/site-packages/qaravan/core/hamiltonians.py:81\u001b[39m, in \u001b[36mHamiltonian.ground\u001b[39m\u001b[34m(self)\u001b[39m\n\u001b[32m     80\u001b[39m \u001b[38;5;28;01mdef\u001b[39;00m\u001b[38;5;250m \u001b[39m\u001b[34mground\u001b[39m(\u001b[38;5;28mself\u001b[39m): \n\u001b[32m---> \u001b[39m\u001b[32m81\u001b[39m     H = \u001b[38;5;28;43mself\u001b[39;49m\u001b[43m.\u001b[49m\u001b[43mmatrix\u001b[49m\u001b[43m(\u001b[49m\u001b[43m)\u001b[49m\n\u001b[32m     82\u001b[39m     \u001b[38;5;28;01mreturn\u001b[39;00m sp.linalg.eigsh(H, k=\u001b[32m1\u001b[39m, which=\u001b[33m'\u001b[39m\u001b[33mSA\u001b[39m\u001b[33m'\u001b[39m)\n",
      "\u001b[36mFile \u001b[39m\u001b[32m~/.conda/envs/qaravan-env-final/lib/python3.11/site-packages/qaravan/core/hamiltonians.py:75\u001b[39m, in \u001b[36mHamiltonian.matrix\u001b[39m\u001b[34m(self, dense)\u001b[39m\n\u001b[32m     74\u001b[39m \u001b[38;5;28;01mdef\u001b[39;00m\u001b[38;5;250m \u001b[39m\u001b[34mmatrix\u001b[39m(\u001b[38;5;28mself\u001b[39m, dense=\u001b[38;5;28;01mFalse\u001b[39;00m):\n\u001b[32m---> \u001b[39m\u001b[32m75\u001b[39m     \u001b[38;5;28;01mreturn\u001b[39;00m \u001b[43mterms_to_matrix\u001b[49m\u001b[43m(\u001b[49m\u001b[38;5;28;43mself\u001b[39;49m\u001b[43m.\u001b[49m\u001b[43mterms\u001b[49m\u001b[43m,\u001b[49m\u001b[43m \u001b[49m\u001b[38;5;28;43mself\u001b[39;49m\u001b[43m.\u001b[49m\u001b[43mnum_sites\u001b[49m\u001b[43m,\u001b[49m\u001b[43m \u001b[49m\u001b[43mdense\u001b[49m\u001b[43m=\u001b[49m\u001b[43mdense\u001b[49m\u001b[43m)\u001b[49m\n",
      "\u001b[36mFile \u001b[39m\u001b[32m~/.conda/envs/qaravan-env-final/lib/python3.11/site-packages/qaravan/core/hamiltonians.py:11\u001b[39m, in \u001b[36mterms_to_matrix\u001b[39m\u001b[34m(terms, num_sites, dense)\u001b[39m\n\u001b[32m      9\u001b[39m H = sp.csr_matrix((\u001b[32m2\u001b[39m**num_sites, \u001b[32m2\u001b[39m**num_sites), dtype=\u001b[38;5;28mcomplex\u001b[39m)\n\u001b[32m     10\u001b[39m \u001b[38;5;28;01mfor\u001b[39;00m coeff, active_sites, local_ops \u001b[38;5;129;01min\u001b[39;00m terms:\n\u001b[32m---> \u001b[39m\u001b[32m11\u001b[39m     H += coeff * \u001b[43membed_operator\u001b[49m\u001b[43m(\u001b[49m\u001b[43mnum_sites\u001b[49m\u001b[43m,\u001b[49m\u001b[43m \u001b[49m\u001b[43mactive_sites\u001b[49m\u001b[43m,\u001b[49m\u001b[43m \u001b[49m\u001b[43m[\u001b[49m\u001b[43mpauli_mapping\u001b[49m\u001b[43m[\u001b[49m\u001b[43mop\u001b[49m\u001b[43m]\u001b[49m\u001b[43m \u001b[49m\u001b[38;5;28;43;01mfor\u001b[39;49;00m\u001b[43m \u001b[49m\u001b[43mop\u001b[49m\u001b[43m \u001b[49m\u001b[38;5;129;43;01min\u001b[39;49;00m\u001b[43m \u001b[49m\u001b[43mlocal_ops\u001b[49m\u001b[43m]\u001b[49m\u001b[43m,\u001b[49m\u001b[43m \u001b[49m\u001b[43mfactor\u001b[49m\u001b[43m=\u001b[49m\u001b[38;5;28;43;01mTrue\u001b[39;49;00m\u001b[43m)\u001b[49m\n\u001b[32m     12\u001b[39m \u001b[38;5;28;01mif\u001b[39;00m dense: \n\u001b[32m     13\u001b[39m     \u001b[38;5;28;01mreturn\u001b[39;00m H.toarray()\n",
      "\u001b[36mFile \u001b[39m\u001b[32m~/.conda/envs/qaravan-env-final/lib/python3.11/site-packages/qaravan/core/gates.py:30\u001b[39m, in \u001b[36membed_operator\u001b[39m\u001b[34m(num_sites, active_sites, local_ops, local_dim, dense, factor)\u001b[39m\n\u001b[32m     28\u001b[39m \u001b[38;5;28;01mfor\u001b[39;00m site, op \u001b[38;5;129;01min\u001b[39;00m \u001b[38;5;28mzip\u001b[39m(active_sites, local_ops):\n\u001b[32m     29\u001b[39m     full_op[site] = sp.csr_matrix(op) \u001b[38;5;28;01mif\u001b[39;00m \u001b[38;5;129;01mnot\u001b[39;00m factor \u001b[38;5;28;01melse\u001b[39;00m sp.csr_matrix(op/\u001b[32m2\u001b[39m)\n\u001b[32m---> \u001b[39m\u001b[32m30\u001b[39m \u001b[38;5;28;01mreturn\u001b[39;00m \u001b[43mreduce\u001b[49m\u001b[43m(\u001b[49m\u001b[43msp\u001b[49m\u001b[43m.\u001b[49m\u001b[43mkron\u001b[49m\u001b[43m,\u001b[49m\u001b[43m \u001b[49m\u001b[43mfull_op\u001b[49m\u001b[43m)\u001b[49m\n",
      "\u001b[36mFile \u001b[39m\u001b[32m~/.conda/envs/qaravan-env-final/lib/python3.11/site-packages/scipy/sparse/_construct.py:526\u001b[39m, in \u001b[36mkron\u001b[39m\u001b[34m(A, B, format)\u001b[39m\n\u001b[32m    523\u001b[39m     data = A.data.repeat(B.size).reshape(-\u001b[32m1\u001b[39m,B.shape[\u001b[32m0\u001b[39m],B.shape[\u001b[32m1\u001b[39m])\n\u001b[32m    524\u001b[39m     data = data * B\n\u001b[32m--> \u001b[39m\u001b[32m526\u001b[39m     \u001b[38;5;28;01mreturn\u001b[39;00m \u001b[43mbsr_sparse\u001b[49m\u001b[43m(\u001b[49m\u001b[43m(\u001b[49m\u001b[43mdata\u001b[49m\u001b[43m,\u001b[49m\u001b[43mA\u001b[49m\u001b[43m.\u001b[49m\u001b[43mindices\u001b[49m\u001b[43m,\u001b[49m\u001b[43mA\u001b[49m\u001b[43m.\u001b[49m\u001b[43mindptr\u001b[49m\u001b[43m)\u001b[49m\u001b[43m,\u001b[49m\u001b[43m \u001b[49m\u001b[43mshape\u001b[49m\u001b[43m=\u001b[49m\u001b[43moutput_shape\u001b[49m\u001b[43m)\u001b[49m\n\u001b[32m    527\u001b[39m \u001b[38;5;28;01melse\u001b[39;00m:\n\u001b[32m    528\u001b[39m     \u001b[38;5;66;03m# use COO\u001b[39;00m\n\u001b[32m    529\u001b[39m     A = coo_sparse(A)\n",
      "\u001b[36mFile \u001b[39m\u001b[32m~/.conda/envs/qaravan-env-final/lib/python3.11/site-packages/scipy/sparse/_bsr.py:27\u001b[39m, in \u001b[36m_bsr_base.__init__\u001b[39m\u001b[34m(self, arg1, shape, dtype, copy, blocksize, maxprint)\u001b[39m\n\u001b[32m     24\u001b[39m \u001b[38;5;28;01mclass\u001b[39;00m\u001b[38;5;250m \u001b[39m\u001b[34;01m_bsr_base\u001b[39;00m(_cs_matrix, _minmax_mixin):\n\u001b[32m     25\u001b[39m     _format = \u001b[33m'\u001b[39m\u001b[33mbsr\u001b[39m\u001b[33m'\u001b[39m\n\u001b[32m---> \u001b[39m\u001b[32m27\u001b[39m     \u001b[38;5;28;01mdef\u001b[39;00m\u001b[38;5;250m \u001b[39m\u001b[34m__init__\u001b[39m(\u001b[38;5;28mself\u001b[39m, arg1, shape=\u001b[38;5;28;01mNone\u001b[39;00m, dtype=\u001b[38;5;28;01mNone\u001b[39;00m, copy=\u001b[38;5;28;01mFalse\u001b[39;00m,\n\u001b[32m     28\u001b[39m                  blocksize=\u001b[38;5;28;01mNone\u001b[39;00m, *, maxprint=\u001b[38;5;28;01mNone\u001b[39;00m):\n\u001b[32m     29\u001b[39m         _data_matrix.\u001b[34m__init__\u001b[39m(\u001b[38;5;28mself\u001b[39m, arg1, maxprint=maxprint)\n\u001b[32m     31\u001b[39m         \u001b[38;5;28;01mif\u001b[39;00m issparse(arg1):\n",
      "\u001b[31mKeyboardInterrupt\u001b[39m: "
     ]
    }
   ],
   "source": [
    "n = 14\n",
    "\n",
    "critical_ham = TFI(n, 1, 0.5, periodic_x=True)\n",
    "ge, gs = critical_ham.ground()\n",
    "target_sv = torch.tensor(gs[:,0])\n",
    "\n",
    "num_layers = 7\n",
    "num_params = 2 * num_layers\n",
    "params = torch.tensor(np.random.rand(num_params))\n",
    "cost_func = tfi_hva_cost\n",
    "opt_kwargs = {'lr': 0.1, 'weight_decay': 1e-4}\n",
    "sch_kwargs = {'mode': 'min', 'factor': 0.1, 'patience': 100}\n",
    "\n",
    "cost_list, params = optimize_func(cost_func, params, (n, target_sv), opt_kwargs=opt_kwargs, sch_kwargs=sch_kwargs) \n",
    "\n",
    "plt.plot(cost_list)\n",
    "plt.yscale('log')\n",
    "plt.xlabel('iteration')\n",
    "plt.ylabel('infidelity')"
   ]
  },
  {
   "cell_type": "code",
   "execution_count": null,
   "metadata": {},
   "outputs": [],
   "source": []
  },
  {
   "cell_type": "code",
   "execution_count": 62,
   "metadata": {},
   "outputs": [
    {
     "name": "stdout",
     "output_type": "stream",
     "text": [
      "Step 100 at 2025-06-03T12:12:37 with cost -1.306546452805938\n",
      "Step 200 at 2025-06-03T12:12:37 with cost -1.3065629639110634\n",
      "Step 300 at 2025-06-03T12:12:37 with cost -1.3065629648273716\n",
      "Step 400 at 2025-06-03T12:12:38 with cost -1.3065629648415547\n",
      "Step 500 at 2025-06-03T12:12:38 with cost -1.306562964849876\n",
      "Step 600 at 2025-06-03T12:12:38 with cost -1.306562964855403\n",
      "Step 700 at 2025-06-03T12:12:39 with cost -1.3065629648593322\n",
      "Step 800 at 2025-06-03T12:12:39 with cost -1.306562964862251\n",
      "Step 900 at 2025-06-03T12:12:39 with cost -1.3065629648645074\n",
      "Step 1000 at 2025-06-03T12:12:40 with cost -1.3065629648662913\n",
      "Step 1100 at 2025-06-03T12:12:40 with cost -1.3065629648677128\n",
      "Plateau detected with cost -1.306562964867799 at step 1107\n"
     ]
    },
    {
     "data": {
      "text/plain": [
       "Text(0, 0.5, 'relative energy error')"
      ]
     },
     "execution_count": 62,
     "metadata": {},
     "output_type": "execute_result"
    },
    {
     "data": {
      "image/png": "[encoded data removed]",
      "text/plain": [
       "<Figure size 640x480 with 1 Axes>"
      ]
     },
     "metadata": {},
     "output_type": "display_data"
    }
   ],
   "source": [
    "n = 4\n",
    "\n",
    "critical_ham = TFI(n, 1, 0.5, periodic_x=True)\n",
    "ge, gs = critical_ham.ground()\n",
    "ham_mat = torch.tensor(critical_ham.matrix(dense=True))\n",
    "\n",
    "num_layers = 2\n",
    "num_params = 2 * num_layers\n",
    "params = torch.tensor(np.random.rand(num_params))\n",
    "cost_func = tfi_hva_energy\n",
    "opt_kwargs = {'lr': 0.1, 'weight_decay': 1e-4}\n",
    "sch_kwargs = {'mode': 'min', 'factor': 0.1, 'patience': 100}\n",
    "\n",
    "context = RunContext(\n",
    "            progress_interval=100,\n",
    "            max_iter=10000,\n",
    "            checkpoint_file=None,\n",
    "            checkpoint_interval=100,\n",
    "            resume=False,\n",
    "            convergence_check=True,\n",
    "            stop_ratio=1e-16\n",
    "        )\n",
    "\n",
    "energies, params = optimize_func(cost_func, params, (n, ham_mat), opt_kwargs=opt_kwargs, sch_kwargs=sch_kwargs, \n",
    "                                 context=context) \n",
    "cost_list = [np.abs(energy-ge)/np.abs(ge) for energy in energies]\n",
    "\n",
    "plt.plot(cost_list)\n",
    "plt.yscale('log')\n",
    "plt.xlabel('iteration')\n",
    "plt.ylabel('relative energy error')"
   ]
  },
  {
   "cell_type": "code",
   "execution_count": 42,
   "metadata": {},
   "outputs": [
    {
     "data": {
      "text/plain": [
       "array([2.10236839])"
      ]
     },
     "execution_count": 42,
     "metadata": {},
     "output_type": "execute_result"
    }
   ],
   "source": [
    "n = 4\n",
    "critical_ham = TFI(n, 1, 0.5, periodic_x=True)\n",
    "ge, gs = critical_ham.ground()\n",
    "ham_mat = torch.tensor(critical_ham.matrix(dense=True), dtype=torch.complex128)\n",
    "\n",
    "num_layers = 3\n",
    "num_params = 2 * num_layers\n",
    "params = torch.tensor(np.random.rand(num_params), dtype=torch.float64, requires_grad=True)\n",
    "np.abs(tfi_hva_energy(params, ham_mat, n).item() - ge)"
   ]
  },
  {
   "cell_type": "code",
   "execution_count": 40,
   "metadata": {},
   "outputs": [],
   "source": [
    "optimizer = torch.optim.SGD([params], lr=0.01)\n",
    "\n",
    "num_iterations = 1000\n",
    "cost_list = []\n",
    "for _ in range(num_iterations):\n",
    "    optimizer.zero_grad()\n",
    "    loss = tfi_hva_energy(params, ham_mat, n)\n",
    "    loss.backward()\n",
    "    optimizer.step()\n",
    "    cost_list.append(loss.item())"
   ]
  },
  {
   "cell_type": "code",
   "execution_count": 41,
   "metadata": {},
   "outputs": [
    {
     "data": {
      "image/png": "[encoded data removed]",
      "text/plain": [
       "<Figure size 640x480 with 1 Axes>"
      ]
     },
     "metadata": {},
     "output_type": "display_data"
    }
   ],
   "source": [
    "plt.plot([np.abs(c-ge) for c in cost_list])\n",
    "plt.yscale('log')"
   ]
  },
  {
   "cell_type": "code",
   "execution_count": 18,
   "metadata": {},
   "outputs": [
    {
     "data": {
      "text/plain": [
       "(array([-1.18969262]), -1.1640119166944993)"
      ]
     },
     "execution_count": 18,
     "metadata": {},
     "output_type": "execute_result"
    }
   ],
   "source": [
    "ge, cost_list[-1]"
   ]
  },
  {
   "cell_type": "code",
   "execution_count": 20,
   "metadata": {},
   "outputs": [
    {
     "name": "stdout",
     "output_type": "stream",
     "text": [
      "H gate on site(s) [0] \n",
      "H gate on site(s) [1] \n",
      "H gate on site(s) [2] \n",
      "H gate on site(s) [3] \n",
      "R2 gate on site(s) [0, 1] \n",
      "R2 gate on site(s) [2, 3] \n",
      "R2 gate on site(s) [1, 2] \n",
      "R2 gate on site(s) [3, 0] \n",
      "R1 gate on site(s) [0] \n",
      "R1 gate on site(s) [1] \n",
      "R1 gate on site(s) [2] \n",
      "R1 gate on site(s) [3] \n",
      "R2 gate on site(s) [0, 1] \n",
      "R2 gate on site(s) [2, 3] \n",
      "R2 gate on site(s) [1, 2] \n",
      "R2 gate on site(s) [3, 0] \n",
      "R1 gate on site(s) [0] \n",
      "R1 gate on site(s) [1] \n",
      "R1 gate on site(s) [2] \n",
      "R1 gate on site(s) [3] \n",
      "R2 gate on site(s) [0, 1] \n",
      "R2 gate on site(s) [2, 3] \n",
      "R2 gate on site(s) [1, 2] \n",
      "R2 gate on site(s) [3, 0] \n",
      "R1 gate on site(s) [0] \n",
      "R1 gate on site(s) [1] \n",
      "R1 gate on site(s) [2] \n",
      "R1 gate on site(s) [3]\n"
     ]
    }
   ],
   "source": [
    "print(tfi_hva(params, n))"
   ]
  },
  {
   "cell_type": "code",
   "execution_count": 17,
   "metadata": {},
   "outputs": [
    {
     "data": {
      "text/plain": [
       "[<matplotlib.lines.Line2D at 0x13d42ec90>]"
      ]
     },
     "execution_count": 17,
     "metadata": {},
     "output_type": "execute_result"
    },
    {
     "data": {
      "image/png": "[encoded data removed]",
      "text/plain": [
       "<Figure size 640x480 with 1 Axes>"
      ]
     },
     "metadata": {},
     "output_type": "display_data"
    }
   ],
   "source": [
    "plt.plot(cost_list)"
   ]
  },
  {
   "cell_type": "code",
   "execution_count": 3,
   "metadata": {},
   "outputs": [
    {
     "name": "stdout",
     "output_type": "stream",
     "text": [
      "1\n",
      "1\n",
      "1\n",
      "1\n",
      "1\n",
      "1\n",
      "1\n",
      "1\n",
      "1\n",
      "1\n",
      "1\n",
      "1\n",
      "1\n",
      "1\n",
      "1\n",
      "1\n",
      "1\n",
      "1\n",
      "1\n",
      "1\n",
      "1\n",
      "1\n",
      "1\n",
      "1\n",
      "1\n",
      "1\n",
      "1\n",
      "1\n",
      "1\n",
      "1\n",
      "1\n",
      "1\n",
      "1\n",
      "1\n",
      "1\n",
      "1\n",
      "1\n",
      "1\n",
      "1\n",
      "1\n",
      "1\n",
      "1\n",
      "1\n",
      "1\n",
      "1\n",
      "1\n",
      "1\n",
      "1\n",
      "1\n",
      "1\n",
      "1\n",
      "1\n",
      "1\n",
      "1\n",
      "1\n",
      "1\n",
      "1\n",
      "1\n",
      "1\n",
      "1\n",
      "1\n",
      "1\n",
      "1\n",
      "1\n",
      "1\n",
      "1\n",
      "1\n",
      "1\n",
      "1\n",
      "1\n",
      "1\n",
      "1\n",
      "1\n",
      "1\n",
      "1\n",
      "1\n",
      "1\n",
      "1\n",
      "1\n",
      "1\n",
      "1\n",
      "1\n",
      "1\n",
      "1\n",
      "1\n",
      "1\n",
      "Plateau detected with cost 0.6757515578914528 at step 86\n"
     ]
    }
   ],
   "source": []
  },
  {
   "cell_type": "code",
   "execution_count": 13,
   "metadata": {},
   "outputs": [
    {
     "name": "stdout",
     "output_type": "stream",
     "text": [
      "30\n",
      "30\n",
      "30\n",
      "30\n",
      "30\n",
      "30\n",
      "30\n",
      "30\n",
      "30\n",
      "30\n",
      "30\n",
      "30\n",
      "30\n",
      "30\n",
      "30\n",
      "30\n",
      "30\n",
      "30\n",
      "30\n",
      "30\n",
      "30\n",
      "30\n",
      "30\n",
      "30\n",
      "30\n",
      "30\n",
      "30\n",
      "30\n",
      "30\n",
      "30\n",
      "30\n",
      "30\n",
      "30\n",
      "30\n",
      "30\n",
      "30\n",
      "30\n",
      "30\n",
      "30\n",
      "30\n",
      "30\n",
      "30\n",
      "30\n",
      "30\n",
      "30\n",
      "30\n",
      "30\n",
      "30\n",
      "30\n",
      "30\n",
      "30\n",
      "30\n",
      "30\n",
      "30\n",
      "30\n",
      "30\n",
      "30\n",
      "30\n",
      "30\n",
      "30\n",
      "30\n",
      "30\n",
      "30\n",
      "30\n",
      "30\n",
      "30\n",
      "30\n",
      "30\n",
      "30\n",
      "30\n",
      "30\n",
      "30\n",
      "30\n",
      "30\n",
      "30\n",
      "30\n",
      "30\n",
      "30\n",
      "30\n",
      "30\n",
      "30\n",
      "30\n",
      "30\n",
      "30\n",
      "30\n",
      "30\n",
      "30\n",
      "30\n",
      "30\n",
      "30\n",
      "30\n",
      "30\n",
      "30\n",
      "30\n",
      "30\n",
      "30\n",
      "30\n",
      "30\n",
      "30\n",
      "30\n"
     ]
    }
   ],
   "source": []
  },
  {
   "cell_type": "code",
   "execution_count": 14,
   "metadata": {},
   "outputs": [
    {
     "data": {
      "text/plain": [
       "tensor(-0.9793, dtype=torch.float64, grad_fn=<SelectBackward0>)"
      ]
     },
     "execution_count": 14,
     "metadata": {},
     "output_type": "execute_result"
    }
   ],
   "source": [
    "loss"
   ]
  },
  {
   "cell_type": "code",
   "execution_count": 12,
   "metadata": {},
   "outputs": [
    {
     "name": "stdout",
     "output_type": "stream",
     "text": [
      "30\n",
      "30\n",
      "Plateau detected with cost 0.9999999999999993 at step 2\n",
      "30\n",
      "30\n"
     ]
    },
    {
     "data": {
      "text/plain": [
       "(array([-1.18969262]), 0.9966495900436616, 0.9999999999999993)"
      ]
     },
     "execution_count": 12,
     "metadata": {},
     "output_type": "execute_result"
    }
   ],
   "source": [
    "n = 4\n",
    "\n",
    "critical_ham = TFI(n, 1, 0.5)\n",
    "ham_mat = torch.tensor(critical_ham.matrix(dense=True))\n",
    "\n",
    "num_layers = 30\n",
    "num_params = 2 * num_layers\n",
    "#params = torch.tensor(np.random.rand(num_params))\n",
    "params = torch.tensor(np.zeros(num_params))\n",
    "cost_func = tfi_hva_energy\n",
    "opt_kwargs = {'lr': 0.01, 'weight_decay': 1e-4}\n",
    "sch_kwargs = {'mode': 'min', 'factor': 0.1, 'patience': 100}\n",
    "\n",
    "cost_list, params = optimize_func(cost_func, params, (ham_mat, n), opt_kwargs=opt_kwargs, sch_kwargs=sch_kwargs) \n",
    "ge, tfi_hva_cost(params, n, target_sv).item(), tfi_hva_energy(params, ham_mat, n).item()"
   ]
  },
  {
   "cell_type": "code",
   "execution_count": 11,
   "metadata": {},
   "outputs": [
    {
     "data": {
      "text/plain": [
       "[<matplotlib.lines.Line2D at 0x13d4bca10>]"
      ]
     },
     "execution_count": 11,
     "metadata": {},
     "output_type": "execute_result"
    },
    {
     "data": {
      "image/png": "[encoded data removed]",
      "text/plain": [
       "<Figure size 640x480 with 1 Axes>"
      ]
     },
     "metadata": {},
     "output_type": "display_data"
    }
   ],
   "source": [
    "plt.plot(cost_list)\n",
    "#plt.yscale('log')"
   ]
  },
  {
   "cell_type": "code",
   "execution_count": 69,
   "metadata": {},
   "outputs": [
    {
     "name": "stdout",
     "output_type": "stream",
     "text": [
      "4\n"
     ]
    },
    {
     "data": {
      "text/plain": [
       "<qaravan.core.circuits.Circuit at 0x13c19dc90>"
      ]
     },
     "execution_count": 69,
     "metadata": {},
     "output_type": "execute_result"
    }
   ],
   "source": [
    "n = 4\n",
    "\n",
    "critical_ham = TFI(n, 1, 0.5)\n",
    "ham_mat = torch.tensor(critical_ham.matrix(dense=True))\n",
    "\n",
    "num_layers = 4\n",
    "num_params = 2 * num_layers\n",
    "params = torch.tensor(np.random.rand(num_params))\n",
    "tfi_hva(params, n)"
   ]
  },
  {
   "cell_type": "code",
   "execution_count": null,
   "metadata": {},
   "outputs": [],
   "source": []
  },
  {
   "cell_type": "code",
   "execution_count": null,
   "metadata": {},
   "outputs": [],
   "source": []
  },
  {
   "cell_type": "code",
   "execution_count": null,
   "metadata": {},
   "outputs": [
    {
     "name": "stdout",
     "output_type": "stream",
     "text": [
      "Step 10 at 2025-05-29T17:12:41 with cost 0.1483380099640862\n",
      "Step 20 at 2025-05-29T17:12:41 with cost 0.06023261484331843\n",
      "Step 30 at 2025-05-29T17:12:41 with cost 0.03272678179516164\n",
      "Step 40 at 2025-05-29T17:12:41 with cost 0.022390432125282356\n",
      "Step 50 at 2025-05-29T17:12:41 with cost 0.02381322294946797\n",
      "Step 60 at 2025-05-29T17:12:41 with cost 0.021964064593009147\n",
      "Step 70 at 2025-05-29T17:12:41 with cost 0.02191730018516269\n",
      "Step 80 at 2025-05-29T17:12:42 with cost 0.021873214555673037\n",
      "Step 90 at 2025-05-29T17:12:42 with cost 0.021843533866392928\n",
      "Step 100 at 2025-05-29T17:12:42 with cost 0.02183686168332888\n",
      "[Checkpoint saved at step 100]\n",
      "Step 110 at 2025-05-29T17:12:42 with cost 0.0218384701844343\n",
      "Step 120 at 2025-05-29T17:12:42 with cost 0.021834497640321082\n",
      "Step 130 at 2025-05-29T17:12:42 with cost 0.021834863743278476\n",
      "Step 140 at 2025-05-29T17:12:42 with cost 0.021834453194566783\n",
      "Step 150 at 2025-05-29T17:12:42 with cost 0.021834334338576844\n",
      "Step 160 at 2025-05-29T17:12:43 with cost 0.021834299314899996\n",
      "Step 170 at 2025-05-29T17:12:43 with cost 0.021834293668824833\n",
      "Step 180 at 2025-05-29T17:12:43 with cost 0.02183428924587638\n",
      "Step 190 at 2025-05-29T17:12:43 with cost 0.021834285769598227\n",
      "Step 200 at 2025-05-29T17:12:43 with cost 0.02183428559168088\n",
      "[Checkpoint saved at step 200]\n",
      "Step 210 at 2025-05-29T17:12:43 with cost 0.02183428557098488\n",
      "Step 220 at 2025-05-29T17:12:43 with cost 0.021834285500915707\n",
      "Step 230 at 2025-05-29T17:12:43 with cost 0.02183428543642718\n",
      "Step 240 at 2025-05-29T17:12:44 with cost 0.021834285424922162\n",
      "Step 250 at 2025-05-29T17:12:44 with cost 0.021834286224086785\n",
      "Step 260 at 2025-05-29T17:12:44 with cost 0.021856985961431374\n",
      "Step 270 at 2025-05-29T17:12:44 with cost 0.027164810473015555\n",
      "Step 280 at 2025-05-29T17:12:44 with cost 0.035300301781762466\n",
      "Step 290 at 2025-05-29T17:12:44 with cost 0.024513539212451363\n",
      "Step 300 at 2025-05-29T17:12:44 with cost 0.021971126755142456\n",
      "[Checkpoint saved at step 300]\n",
      "Step 310 at 2025-05-29T17:12:44 with cost 0.021846278302887656\n",
      "Step 320 at 2025-05-29T17:12:44 with cost 0.02184788732329468\n",
      "Step 330 at 2025-05-29T17:12:45 with cost 0.021835676158793005\n",
      "[LR Drop] Step 331: cost = 2.19e-02, LR dropped from 1.00e-01 to 1.00e-02\n",
      "Step 340 at 2025-05-29T17:12:45 with cost 0.021840349052198338\n",
      "Step 350 at 2025-05-29T17:12:45 with cost 0.02183719609946322\n",
      "Step 360 at 2025-05-29T17:12:45 with cost 0.02183521355859319\n",
      "Step 370 at 2025-05-29T17:12:45 with cost 0.021834525350492906\n",
      "Step 380 at 2025-05-29T17:12:45 with cost 0.021834335381703762\n",
      "Step 390 at 2025-05-29T17:12:45 with cost 0.02183429305792961\n",
      "Step 400 at 2025-05-29T17:12:45 with cost 0.021834286305346007\n",
      "[Checkpoint saved at step 400]\n",
      "Step 410 at 2025-05-29T17:12:46 with cost 0.021834285677857945\n",
      "Step 420 at 2025-05-29T17:12:46 with cost 0.021834285485866856\n",
      "Step 430 at 2025-05-29T17:12:46 with cost 0.02183428546691868\n",
      "Step 440 at 2025-05-29T17:12:46 with cost 0.02183428543732624\n",
      "Step 450 at 2025-05-29T17:12:46 with cost 0.02183428542941601\n",
      "Step 460 at 2025-05-29T17:12:46 with cost 0.021834285433880996\n",
      "Step 470 at 2025-05-29T17:12:46 with cost 0.021834285429897515\n",
      "Step 480 at 2025-05-29T17:12:46 with cost 0.02183428543254562\n",
      "Step 490 at 2025-05-29T17:12:47 with cost 0.021834285429321754\n",
      "Step 500 at 2025-05-29T17:12:47 with cost 0.02183428543068\n",
      "[Checkpoint saved at step 500]\n",
      "Step 510 at 2025-05-29T17:12:47 with cost 0.021834285429247702\n",
      "Step 520 at 2025-05-29T17:12:47 with cost 0.021834285429408906\n",
      "Step 530 at 2025-05-29T17:12:47 with cost 0.021834285428770084\n",
      "[LR Drop] Step 532: cost = 2.18e-02, LR dropped from 1.00e-02 to 1.00e-03\n",
      "Step 540 at 2025-05-29T17:12:47 with cost 0.02183428543274657\n",
      "Step 550 at 2025-05-29T17:12:47 with cost 0.02183428543458943\n",
      "Step 560 at 2025-05-29T17:12:47 with cost 0.021834285433971035\n",
      "Step 570 at 2025-05-29T17:12:48 with cost 0.021834285433408263\n",
      "Step 580 at 2025-05-29T17:12:48 with cost 0.021834285434195744\n",
      "Step 590 at 2025-05-29T17:12:48 with cost 0.021834285433225742\n",
      "Step 600 at 2025-05-29T17:12:48 with cost 0.021834285433267486\n",
      "[Checkpoint saved at step 600]\n",
      "Step 610 at 2025-05-29T17:12:48 with cost 0.021834285432910994\n",
      "Step 620 at 2025-05-29T17:12:48 with cost 0.021834285432745015\n",
      "Step 630 at 2025-05-29T17:12:48 with cost 0.021834285432574818\n",
      "Step 640 at 2025-05-29T17:12:48 with cost 0.021834285432317913\n",
      "Step 650 at 2025-05-29T17:12:49 with cost 0.021834285432174916\n",
      "Step 660 at 2025-05-29T17:12:49 with cost 0.021834285432038913\n",
      "Step 670 at 2025-05-29T17:12:49 with cost 0.021834285432073886\n",
      "Step 680 at 2025-05-29T17:12:49 with cost 0.021834285431935108\n",
      "Step 690 at 2025-05-29T17:12:49 with cost 0.021834285431584388\n",
      "Step 700 at 2025-05-29T17:12:49 with cost 0.021834285431405198\n",
      "[Checkpoint saved at step 700]\n",
      "Step 710 at 2025-05-29T17:12:49 with cost 0.021834285431270084\n",
      "Step 720 at 2025-05-29T17:12:49 with cost 0.0218342854311544\n",
      "Step 730 at 2025-05-29T17:12:50 with cost 0.02183428543127952\n"
     ]
    },
    {
     "ename": "KeyboardInterrupt",
     "evalue": "",
     "output_type": "error",
     "traceback": [
      "\u001b[31m---------------------------------------------------------------------------\u001b[39m",
      "\u001b[31mKeyboardInterrupt\u001b[39m                         Traceback (most recent call last)",
      "\u001b[36mCell\u001b[39m\u001b[36m \u001b[39m\u001b[32mIn[37]\u001b[39m\u001b[32m, line 1\u001b[39m\n\u001b[32m----> \u001b[39m\u001b[32m1\u001b[39m \u001b[43mmax_overlap\u001b[49m\u001b[43m(\u001b[49m\u001b[43mtarget_sv\u001b[49m\u001b[43m,\u001b[49m\u001b[43m \u001b[49m\u001b[43mnum_layers\u001b[49m\u001b[43m=\u001b[49m\u001b[32;43m8\u001b[39;49m\u001b[43m,\u001b[49m\u001b[43m \u001b[49m\u001b[43mlr\u001b[49m\u001b[43m=\u001b[49m\u001b[32;43m0.1\u001b[39;49m\u001b[43m,\u001b[49m\u001b[43m \u001b[49m\u001b[43mfunc\u001b[49m\u001b[43m=\u001b[49m\u001b[43mtfi_hva_cost\u001b[49m\u001b[43m,\u001b[49m\u001b[43m \u001b[49m\u001b[43mgamma\u001b[49m\u001b[43m=\u001b[49m\u001b[32;43m0.1\u001b[39;49m\u001b[43m,\u001b[49m\u001b[43m \u001b[49m\u001b[43mpatience\u001b[49m\u001b[43m=\u001b[49m\u001b[32;43m200\u001b[39;49m\u001b[43m)\u001b[49m\n",
      "\u001b[36mCell\u001b[39m\u001b[36m \u001b[39m\u001b[32mIn[34]\u001b[39m\u001b[32m, line 66\u001b[39m, in \u001b[36mmax_overlap\u001b[39m\u001b[34m(target_sv, num_layers, lr, func, gamma, patience)\u001b[39m\n\u001b[32m     60\u001b[39m run_state = {\n\u001b[32m     61\u001b[39m     \u001b[33m\"\u001b[39m\u001b[33mcost_list\u001b[39m\u001b[33m\"\u001b[39m: cost_list,\n\u001b[32m     62\u001b[39m     \u001b[33m\"\u001b[39m\u001b[33mstep\u001b[39m\u001b[33m\"\u001b[39m: context.step\n\u001b[32m     63\u001b[39m }\n\u001b[32m     65\u001b[39m \u001b[38;5;28;01mwhile\u001b[39;00m \u001b[38;5;28;01mTrue\u001b[39;00m:\n\u001b[32m---> \u001b[39m\u001b[32m66\u001b[39m     cost = \u001b[43mfunc\u001b[49m\u001b[43m(\u001b[49m\u001b[43mparams\u001b[49m\u001b[43m,\u001b[49m\u001b[43m \u001b[49m\u001b[43mnum_sites\u001b[49m\u001b[43m,\u001b[49m\u001b[43m \u001b[49m\u001b[43mtarget_sv\u001b[49m\u001b[43m)\u001b[49m\n\u001b[32m     67\u001b[39m     cost_val = cost.item()\n\u001b[32m     68\u001b[39m     cost_list.append(cost_val)\n",
      "\u001b[36mCell\u001b[39m\u001b[36m \u001b[39m\u001b[32mIn[34]\u001b[39m\u001b[32m, line 30\u001b[39m, in \u001b[36mtfi_hva_cost\u001b[39m\u001b[34m(params, num_sites, target_sv)\u001b[39m\n\u001b[32m     28\u001b[39m circ = tfi_hva(params, num_sites)\n\u001b[32m     29\u001b[39m sim = StatevectorSim(circ, backend=\u001b[33m\"\u001b[39m\u001b[33mtorch\u001b[39m\u001b[33m\"\u001b[39m)\n\u001b[32m---> \u001b[39m\u001b[32m30\u001b[39m \u001b[43msim\u001b[49m\u001b[43m.\u001b[49m\u001b[43mrun\u001b[49m\u001b[43m(\u001b[49m\u001b[43mprogress_bar\u001b[49m\u001b[43m=\u001b[49m\u001b[38;5;28;43;01mFalse\u001b[39;49;00m\u001b[43m)\u001b[49m\n\u001b[32m     31\u001b[39m ansatz_sv = sim.get_statevector()\n\u001b[32m     32\u001b[39m \u001b[38;5;28;01mreturn\u001b[39;00m \u001b[32m1\u001b[39m - torch.abs(torch.dot(ansatz_sv.conj(), target_sv))**\u001b[32m2\u001b[39m\n",
      "\u001b[36mFile \u001b[39m\u001b[32m~/.conda/envs/qaravan-env-final/lib/python3.11/site-packages/qaravan/core/base_sim.py:37\u001b[39m, in \u001b[36mBaseSim.run\u001b[39m\u001b[34m(self, progress_bar, debug)\u001b[39m\n\u001b[32m     35\u001b[39m \u001b[38;5;28;01mfor\u001b[39;00m layer \u001b[38;5;129;01min\u001b[39;00m layers:\n\u001b[32m     36\u001b[39m     \u001b[38;5;28;01mfor\u001b[39;00m gate \u001b[38;5;129;01min\u001b[39;00m layer:\n\u001b[32m---> \u001b[39m\u001b[32m37\u001b[39m         \u001b[38;5;28;43mself\u001b[39;49m\u001b[43m.\u001b[49m\u001b[43mapply_gate\u001b[49m\u001b[43m(\u001b[49m\u001b[43mgate\u001b[49m\u001b[43m)\u001b[49m\n\u001b[32m     38\u001b[39m         \u001b[38;5;28;01mif\u001b[39;00m debug == \u001b[32m2\u001b[39m:\n\u001b[32m     39\u001b[39m             \u001b[38;5;28mprint\u001b[39m(\u001b[38;5;28mself\u001b[39m)\n",
      "\u001b[36mFile \u001b[39m\u001b[32m~/.conda/envs/qaravan-env-final/lib/python3.11/site-packages/qaravan/tensorQ/statevector_sim.py:48\u001b[39m, in \u001b[36mStatevectorSim.apply_gate\u001b[39m\u001b[34m(self, gate)\u001b[39m\n\u001b[32m     46\u001b[39m \u001b[38;5;28;01mdef\u001b[39;00m\u001b[38;5;250m \u001b[39m\u001b[34mapply_gate\u001b[39m(\u001b[38;5;28mself\u001b[39m, gate):\n\u001b[32m     47\u001b[39m     mat = \u001b[38;5;28mself\u001b[39m.to_backend(gate.matrix)\n\u001b[32m---> \u001b[39m\u001b[32m48\u001b[39m     \u001b[38;5;28mself\u001b[39m.state = \u001b[43mop_action\u001b[49m\u001b[43m(\u001b[49m\u001b[43mmat\u001b[49m\u001b[43m,\u001b[49m\u001b[43m \u001b[49m\u001b[43mgate\u001b[49m\u001b[43m.\u001b[49m\u001b[43mindices\u001b[49m\u001b[43m,\u001b[49m\u001b[43m \u001b[49m\u001b[38;5;28;43mself\u001b[39;49m\u001b[43m.\u001b[49m\u001b[43mstate\u001b[49m\u001b[43m,\u001b[49m\u001b[43m \u001b[49m\u001b[43mlocal_dim\u001b[49m\u001b[43m=\u001b[49m\u001b[38;5;28;43mself\u001b[39;49m\u001b[43m.\u001b[49m\u001b[43mlocal_dim\u001b[49m\u001b[43m)\u001b[49m\n",
      "\u001b[36mFile \u001b[39m\u001b[32m~/.conda/envs/qaravan-env-final/lib/python3.11/site-packages/qaravan/tensorQ/statevector_sim.py:100\u001b[39m, in \u001b[36mop_action\u001b[39m\u001b[34m(op, indices, sv, local_dim)\u001b[39m\n\u001b[32m     97\u001b[39m op = permute(op, perm)\n\u001b[32m     99\u001b[39m gate_indices, state_indices = locs_to_indices(sorted_indices, n)\n\u001b[32m--> \u001b[39m\u001b[32m100\u001b[39m new_sv = \u001b[43mncon\u001b[49m\u001b[43m(\u001b[49m\u001b[43m(\u001b[49m\u001b[43mop\u001b[49m\u001b[43m,\u001b[49m\u001b[43m \u001b[49m\u001b[43mstate\u001b[49m\u001b[43m)\u001b[49m\u001b[43m,\u001b[49m\u001b[43m \u001b[49m\u001b[43m(\u001b[49m\u001b[43mgate_indices\u001b[49m\u001b[43m,\u001b[49m\u001b[43m \u001b[49m\u001b[43mstate_indices\u001b[49m\u001b[43m)\u001b[49m\u001b[43m)\u001b[49m\n\u001b[32m    101\u001b[39m \u001b[38;5;28;01mreturn\u001b[39;00m new_sv.reshape(local_dim**n) \u001b[38;5;28;01mif\u001b[39;00m sv.ndim == \u001b[32m1\u001b[39m \u001b[38;5;28;01melse\u001b[39;00m new_sv\n",
      "\u001b[36mFile \u001b[39m\u001b[32m~/.conda/envs/qaravan-env-final/lib/python3.11/site-packages/ncon_torch/ncon.py:78\u001b[39m, in \u001b[36mncon\u001b[39m\u001b[34m(L, v, order, forder, check_indices)\u001b[39m\n\u001b[32m     76\u001b[39m L.append(new_A)\n\u001b[32m     77\u001b[39m v.append(find_newv(v, tcon, icon))  \u001b[38;5;66;03m# Add the v for the new tensor\u001b[39;00m\n\u001b[32m---> \u001b[39m\u001b[32m78\u001b[39m \u001b[38;5;28;01mfor\u001b[39;00m i \u001b[38;5;129;01min\u001b[39;00m \u001b[38;5;28msorted\u001b[39m(tcon, reverse=\u001b[38;5;28;01mTrue\u001b[39;00m):\n\u001b[32m     79\u001b[39m     \u001b[38;5;66;03m# Delete the contracted tensors and indices from the lists.\u001b[39;00m\n\u001b[32m     80\u001b[39m     \u001b[38;5;66;03m# tcon is reverse sorted so that tensors are removed starting from\u001b[39;00m\n\u001b[32m     81\u001b[39m     \u001b[38;5;66;03m# the end of L, otherwise the order would get messed.\u001b[39;00m\n\u001b[32m     82\u001b[39m     \u001b[38;5;28;01mdel\u001b[39;00m L[i]\n\u001b[32m     83\u001b[39m     \u001b[38;5;28;01mdel\u001b[39;00m v[i]\n",
      "\u001b[31mKeyboardInterrupt\u001b[39m: "
     ]
    }
   ],
   "source": [
    "max_overlap(target_sv, num_layers=8, lr=0.1, func=tfi_hva_cost, gamma=0.1, patience=200)"
   ]
  },
  {
   "cell_type": "code",
   "execution_count": null,
   "metadata": {},
   "outputs": [
    {
     "data": {
      "text/plain": [
       "(array([-9.83795145]), -9.837951447459421)"
      ]
     },
     "execution_count": 4,
     "metadata": {},
     "output_type": "execute_result"
    }
   ],
   "source": [
    "n = 8\n",
    "J = 1\n",
    "h = 0.5\n",
    "ham = TFI(n, J, h)\n",
    "4*ham.ground()[0], (1-1/np.sin(np.pi / (4*n+2)))"
   ]
  },
  {
   "cell_type": "code",
   "execution_count": null,
   "metadata": {},
   "outputs": [],
   "source": []
  },
  {
   "cell_type": "code",
   "execution_count": null,
   "metadata": {},
   "outputs": [
    {
     "data": {
      "text/plain": [
       "[<matplotlib.lines.Line2D at 0x137a6e590>]"
      ]
     },
     "execution_count": 5,
     "metadata": {},
     "output_type": "execute_result"
    },
    {
     "data": {
      "image/png": "[encoded data removed]",
      "text/plain": [
       "<Figure size 640x480 with 1 Axes>"
      ]
     },
     "metadata": {},
     "output_type": "display_data"
    }
   ],
   "source": [
    "h_range = np.arange(0.3,0.7,0.01)\n",
    "J = 1\n",
    "\n",
    "gap = []\n",
    "for h in h_range: \n",
    "    ham = TFI(n, J, h)\n",
    "    mat = ham.matrix(dense=True)\n",
    "    evals = scipy.linalg.eigvalsh(mat)\n",
    "    evals.sort()\n",
    "    gap.append(evals[1] - evals[0])\n",
    "\n",
    "import matplotlib.pyplot as plt \n",
    "plt.plot(h_range, gap, label='Exact Gap')"
   ]
  },
  {
   "cell_type": "code",
   "execution_count": null,
   "metadata": {},
   "outputs": [],
   "source": []
  },
  {
   "cell_type": "code",
   "execution_count": null,
   "metadata": {},
   "outputs": [],
   "source": []
  },
  {
   "cell_type": "code",
   "execution_count": null,
   "metadata": {},
   "outputs": [
    {
     "data": {
      "text/plain": [
       "[<matplotlib.lines.Line2D at 0x13f4afa90>]"
      ]
     },
     "execution_count": 80,
     "metadata": {},
     "output_type": "execute_result"
    },
    {
     "data": {
      "image/png": "[encoded data removed]",
      "text/plain": [
       "<Figure size 640x480 with 1 Axes>"
      ]
     },
     "metadata": {},
     "output_type": "display_data"
    }
   ],
   "source": [
    "h_range = np.arange(0,2,0.1)\n",
    "J = 1\n",
    "\n",
    "gap = []\n",
    "for h in h_range: \n",
    "    ham = TFI(n, J, h)\n",
    "    mat = ham.matrix(dense=True)\n",
    "    evals = scipy.linalg.eigvalsh(mat)\n",
    "    evals.sort()\n",
    "    gap.append(evals[2] - evals[1])\n",
    "\n",
    "import matplotlib.pyplot as plt \n",
    "\n",
    "plt.plot(h_range, gap, label='Exact Gap')"
   ]
  },
  {
   "cell_type": "code",
   "execution_count": null,
   "metadata": {},
   "outputs": [
    {
     "data": {
      "text/plain": [
       "(array([[0.99856723-0.05351159j, 0.        +0.j        ,\n",
       "         0.        +0.j        , 0.        +0.j        ],\n",
       "        [0.        +0.j        , 0.99856723+0.05351159j,\n",
       "         0.        +0.j        , 0.        +0.j        ],\n",
       "        [0.        +0.j        , 0.        +0.j        ,\n",
       "         0.99856723+0.05351159j, 0.        +0.j        ],\n",
       "        [0.        +0.j        , 0.        +0.j        ,\n",
       "         0.        +0.j        , 0.99856723-0.05351159j]]),\n",
       " array([[0.99856723-0.05351159j, 0.        +0.j        ,\n",
       "         0.        +0.j        , 0.        +0.j        ],\n",
       "        [0.        +0.j        , 0.99856723+0.05351159j,\n",
       "         0.        +0.j        , 0.        +0.j        ],\n",
       "        [0.        +0.j        , 0.        +0.j        ,\n",
       "         0.99856723+0.05351159j, 0.        +0.j        ],\n",
       "        [0.        +0.j        , 0.        +0.j        ,\n",
       "         0.        +0.j        , 0.99856723-0.05351159j]]),\n",
       " array([[0.8897501-0.45644798j, 0.       +0.j        ,\n",
       "         0.       +0.j        , 0.       +0.j        ],\n",
       "        [0.       +0.j        , 0.8897501+0.45644798j,\n",
       "         0.       +0.j        , 0.       +0.j        ],\n",
       "        [0.       +0.j        , 0.       +0.j        ,\n",
       "         0.8897501+0.45644798j, 0.       +0.j        ],\n",
       "        [0.       +0.j        , 0.       +0.j        ,\n",
       "         0.       +0.j        , 0.8897501-0.45644798j]]),\n",
       " array([[0.55153255+0.j        , 0.        -0.83415337j],\n",
       "        [0.        -0.83415337j, 0.55153255+0.j        ]]))"
      ]
     },
     "execution_count": 65,
     "metadata": {},
     "output_type": "execute_result"
    }
   ],
   "source": [
    "ansatz[0].matrix, ansatz[1].matrix, ansatz[2].matrix, ansatz[3].matrix"
   ]
  },
  {
   "cell_type": "code",
   "execution_count": null,
   "metadata": {},
   "outputs": [],
   "source": []
  },
  {
   "cell_type": "code",
   "execution_count": null,
   "metadata": {},
   "outputs": [],
   "source": [
    "# hva \n",
    "\n",
    "def hva_layer(ham, odd_angle, even_angle):\n",
    "    \"\"\"\n",
    "    torch-aware HVA layer construction.\n",
    "    uses different unitary matrices for even and odd triangle indices,\n",
    "    and adapts to NumPy or Torch backends based on input types.\n",
    "    \"\"\"\n",
    "    backend = \"torch\" if torch.is_tensor(odd_angle) or torch.is_tensor(even_angle) else \"numpy\"\n",
    "    expm = scipy.linalg.expm if backend == \"numpy\" else torch.linalg.matrix_exp\n",
    "\n",
    "    tmat_np, _ = ham.primitive_matrices()\n",
    "    tmat = tmat_np if backend == \"numpy\" else torch.tensor(tmat_np, dtype=odd_angle.dtype)\n",
    "\n",
    "    even_unitary = expm(-1j * even_angle * tmat)\n",
    "    odd_unitary = expm(-1j * odd_angle * tmat)\n",
    "\n",
    "    triangles = sorted(list(ham.lattice.triangle_terms))\n",
    "    gate_list = [Gate(\"triangle\", tri, even_unitary) for tri in triangles[::2]] + \\\n",
    "                [Gate(\"triangle\", tri, odd_unitary) for tri in triangles[1::2]]\n",
    "    \n",
    "    return gate_list\n",
    "\n",
    "def hva_circ(params, ham): \n",
    "    \"\"\" return Circuit built from several layers of HVA gates \"\"\"\n",
    "    gate_list = [] \n",
    "    for i in range(len(params)//2): \n",
    "        gate_list += hva_layer(ham, params[2*i], params[2*i+1])\n",
    "\n",
    "    return Circuit(gate_list)\n",
    "\n",
    "def hva_cost(params, ham, target_sv, init_state): \n",
    "    \"\"\" return cost function for HVA circuit \"\"\"\n",
    "    circ = hva_circ(params, ham)\n",
    "    sim = StatevectorSim(circ, init_state=init_state, backend=\"torch\")\n",
    "    sim.run(progress_bar=False)\n",
    "    ansatz_sv = sim.get_statevector()\n",
    "    return 1 - torch.abs(torch.dot(ansatz_sv.conj(), target_sv))**2\n",
    "\n",
    "def generic_cost(params, ham, target_sv): \n",
    "    \"\"\" return cost function for generic circuit \"\"\"\n",
    "    num_sites = ham.num_sites\n",
    "    num_layers = len(params) // (15*(num_sites-1))\n",
    "    skeleton = brickwall_skeleton(num_sites, num_layers)\n",
    "\n",
    "    circ = two_local_circ(skeleton, params)\n",
    "    sim = StatevectorSim(circ, backend=\"torch\")\n",
    "    sim.run(progress_bar=False)\n",
    "    ansatz_sv = sim.get_statevector()\n",
    "    return 1 - torch.abs(torch.dot(ansatz_sv.conj(), target_sv))**2\n",
    "\n",
    "def max_overlap(ham, target_sv, init_state, num_layers=2, lr=0.05, func=hva_cost, gamma=0.1, patience=200):\n",
    "    num_params = num_layers * 2 if func == hva_cost else 15 * (ham.num_sites - 1) * num_layers\n",
    "    params = torch.nn.Parameter(torch.randn(num_params))\n",
    "    optimizer = torch.optim.AdamW([params], lr=lr, weight_decay=1e-4)\n",
    "    scheduler = torch.optim.lr_scheduler.ReduceLROnPlateau(\n",
    "        optimizer,\n",
    "        mode='min',             \n",
    "        factor=gamma,           \n",
    "        patience=patience,      \n",
    "        threshold=1e-4,         \n",
    "        threshold_mode='rel'\n",
    "    )\n",
    "\n",
    "    context = RunContext(\n",
    "        progress_interval=10,\n",
    "        max_iter=10000,\n",
    "        checkpoint_file=\"hva_checkpoint.pickle\",\n",
    "        checkpoint_interval=100,\n",
    "        resume=False,\n",
    "        convergence_check=True,\n",
    "        stop_ratio=1e-18,\n",
    "        stop_absolute=1e-7\n",
    "    )\n",
    "\n",
    "    cost_list = []\n",
    "    run_state = {\n",
    "        \"cost_list\": cost_list,\n",
    "        \"step\": context.step\n",
    "    }\n",
    "\n",
    "    while True:\n",
    "        cost = func(params, ham, target_sv, init_state)\n",
    "        cost_val = cost.item()\n",
    "        cost_list.append(cost_val)\n",
    "        optimizer.zero_grad()\n",
    "        cost.backward()\n",
    "        optimizer.step()\n",
    "\n",
    "        old_lr = optimizer.param_groups[0]['lr']\n",
    "        scheduler.step(cost_val)\n",
    "        new_lr = optimizer.param_groups[0]['lr']\n",
    "        if new_lr < old_lr:\n",
    "            print(f\"[LR Drop] Step {run_state['step']}: cost = {cost:.2e}, LR dropped from {old_lr:.2e} to {new_lr:.2e}\")\n",
    "\n",
    "        run_state[\"step\"] += 1\n",
    "        run_state[\"cost_list\"] = cost_list\n",
    "\n",
    "        if context.step_update(run_state): \n",
    "            break\n",
    "\n",
    "    return cost_list, params"
   ]
  },
  {
   "cell_type": "code",
   "execution_count": null,
   "metadata": {},
   "outputs": [],
   "source": [
    "# quantum numbers\n",
    "\n",
    "def total_sz(num_sites):\n",
    "    \"\"\"Compute the total S^z operator for a system of qubits.\"\"\"\n",
    "    total_z = np.zeros((2**num_sites, 2**num_sites), dtype=complex)\n",
    "    for i in range(num_sites):\n",
    "        op = embed_operator(num_sites, [i], [pauli_Z], dense=True, factor=True)\n",
    "        total_z += op\n",
    "    return total_z\n",
    "\n",
    "def total_spin(num_sites):\n",
    "    \"\"\"Compute the total spin operators S^x, S^y, S^z.\"\"\"\n",
    "    total_x = np.zeros((2**num_sites, 2**num_sites), dtype=complex)\n",
    "    total_y = np.zeros((2**num_sites, 2**num_sites), dtype=complex)\n",
    "    total_z = np.zeros((2**num_sites, 2**num_sites), dtype=complex)\n",
    "    \n",
    "    for i in range(num_sites):\n",
    "        total_x += embed_operator(num_sites, [i], [pauli_X], dense=True, factor=True)\n",
    "        total_y += embed_operator(num_sites, [i], [pauli_Y], dense=True, factor=True)\n",
    "        total_z += embed_operator(num_sites, [i], [pauli_Z], dense=True, factor=True)\n",
    "        \n",
    "    return total_x, total_y, total_z\n",
    "\n",
    "def total_spin_squared(num_sites):\n",
    "    \"\"\"Compute the total spin squared operator S^2 = S_x^2 + S_y^2 + S_z^2.\"\"\"\n",
    "    sx, sy, sz = total_spin(num_sites)\n",
    "    return sx @ sx + sy @ sy + sz @ sz"
   ]
  },
  {
   "cell_type": "code",
   "execution_count": null,
   "metadata": {},
   "outputs": [
    {
     "ename": "KeyboardInterrupt",
     "evalue": "",
     "output_type": "error",
     "traceback": [
      "\u001b[31m---------------------------------------------------------------------------\u001b[39m",
      "\u001b[31mKeyboardInterrupt\u001b[39m                         Traceback (most recent call last)",
      "\u001b[36mCell\u001b[39m\u001b[36m \u001b[39m\u001b[32mIn[53]\u001b[39m\u001b[32m, line 8\u001b[39m\n\u001b[32m      5\u001b[39m ham = ChiralHeisenberg(row_layout=row_layout, sp=sp)\n\u001b[32m      6\u001b[39m \u001b[38;5;66;03m#ham.lattice.plot()\u001b[39;00m\n\u001b[32m----> \u001b[39m\u001b[32m8\u001b[39m true_ge, true_gs = \u001b[43mham\u001b[49m\u001b[43m.\u001b[49m\u001b[43mground\u001b[49m\u001b[43m(\u001b[49m\u001b[43m)\u001b[49m\n",
      "\u001b[36mFile \u001b[39m\u001b[32m~/.conda/envs/qaravan-env-final/lib/python3.11/site-packages/qaravan/core/hamiltonians.py:81\u001b[39m, in \u001b[36mHamiltonian.ground\u001b[39m\u001b[34m(self)\u001b[39m\n\u001b[32m     80\u001b[39m \u001b[38;5;28;01mdef\u001b[39;00m\u001b[38;5;250m \u001b[39m\u001b[34mground\u001b[39m(\u001b[38;5;28mself\u001b[39m): \n\u001b[32m---> \u001b[39m\u001b[32m81\u001b[39m     H = \u001b[38;5;28;43mself\u001b[39;49m\u001b[43m.\u001b[49m\u001b[43mmatrix\u001b[49m\u001b[43m(\u001b[49m\u001b[43m)\u001b[49m\n\u001b[32m     82\u001b[39m     \u001b[38;5;28;01mreturn\u001b[39;00m sp.linalg.eigsh(H, k=\u001b[32m1\u001b[39m, which=\u001b[33m'\u001b[39m\u001b[33mSA\u001b[39m\u001b[33m'\u001b[39m)\n",
      "\u001b[36mFile \u001b[39m\u001b[32m~/.conda/envs/qaravan-env-final/lib/python3.11/site-packages/qaravan/core/hamiltonians.py:75\u001b[39m, in \u001b[36mHamiltonian.matrix\u001b[39m\u001b[34m(self, dense)\u001b[39m\n\u001b[32m     74\u001b[39m \u001b[38;5;28;01mdef\u001b[39;00m\u001b[38;5;250m \u001b[39m\u001b[34mmatrix\u001b[39m(\u001b[38;5;28mself\u001b[39m, dense=\u001b[38;5;28;01mFalse\u001b[39;00m):\n\u001b[32m---> \u001b[39m\u001b[32m75\u001b[39m     \u001b[38;5;28;01mreturn\u001b[39;00m \u001b[43mterms_to_matrix\u001b[49m\u001b[43m(\u001b[49m\u001b[38;5;28;43mself\u001b[39;49m\u001b[43m.\u001b[49m\u001b[43mterms\u001b[49m\u001b[43m,\u001b[49m\u001b[43m \u001b[49m\u001b[38;5;28;43mself\u001b[39;49m\u001b[43m.\u001b[49m\u001b[43mnum_sites\u001b[49m\u001b[43m,\u001b[49m\u001b[43m \u001b[49m\u001b[43mdense\u001b[49m\u001b[43m=\u001b[49m\u001b[43mdense\u001b[49m\u001b[43m)\u001b[49m\n",
      "\u001b[36mFile \u001b[39m\u001b[32m~/.conda/envs/qaravan-env-final/lib/python3.11/site-packages/qaravan/core/hamiltonians.py:11\u001b[39m, in \u001b[36mterms_to_matrix\u001b[39m\u001b[34m(terms, num_sites, dense)\u001b[39m\n\u001b[32m      9\u001b[39m H = sp.csr_matrix((\u001b[32m2\u001b[39m**num_sites, \u001b[32m2\u001b[39m**num_sites), dtype=\u001b[38;5;28mcomplex\u001b[39m)\n\u001b[32m     10\u001b[39m \u001b[38;5;28;01mfor\u001b[39;00m coeff, active_sites, local_ops \u001b[38;5;129;01min\u001b[39;00m terms:\n\u001b[32m---> \u001b[39m\u001b[32m11\u001b[39m     H += coeff * \u001b[43membed_operator\u001b[49m\u001b[43m(\u001b[49m\u001b[43mnum_sites\u001b[49m\u001b[43m,\u001b[49m\u001b[43m \u001b[49m\u001b[43mactive_sites\u001b[49m\u001b[43m,\u001b[49m\u001b[43m \u001b[49m\u001b[43m[\u001b[49m\u001b[43mpauli_mapping\u001b[49m\u001b[43m[\u001b[49m\u001b[43mop\u001b[49m\u001b[43m]\u001b[49m\u001b[43m \u001b[49m\u001b[38;5;28;43;01mfor\u001b[39;49;00m\u001b[43m \u001b[49m\u001b[43mop\u001b[49m\u001b[43m \u001b[49m\u001b[38;5;129;43;01min\u001b[39;49;00m\u001b[43m \u001b[49m\u001b[43mlocal_ops\u001b[49m\u001b[43m]\u001b[49m\u001b[43m,\u001b[49m\u001b[43m \u001b[49m\u001b[43mfactor\u001b[49m\u001b[43m=\u001b[49m\u001b[38;5;28;43;01mTrue\u001b[39;49;00m\u001b[43m)\u001b[49m\n\u001b[32m     12\u001b[39m \u001b[38;5;28;01mif\u001b[39;00m dense: \n\u001b[32m     13\u001b[39m     \u001b[38;5;28;01mreturn\u001b[39;00m H.toarray()\n",
      "\u001b[36mFile \u001b[39m\u001b[32m~/.conda/envs/qaravan-env-final/lib/python3.11/site-packages/qaravan/core/gates.py:30\u001b[39m, in \u001b[36membed_operator\u001b[39m\u001b[34m(num_sites, active_sites, local_ops, local_dim, dense, factor)\u001b[39m\n\u001b[32m     28\u001b[39m \u001b[38;5;28;01mfor\u001b[39;00m site, op \u001b[38;5;129;01min\u001b[39;00m \u001b[38;5;28mzip\u001b[39m(active_sites, local_ops):\n\u001b[32m     29\u001b[39m     full_op[site] = sp.csr_matrix(op) \u001b[38;5;28;01mif\u001b[39;00m \u001b[38;5;129;01mnot\u001b[39;00m factor \u001b[38;5;28;01melse\u001b[39;00m sp.csr_matrix(op/\u001b[32m2\u001b[39m)\n\u001b[32m---> \u001b[39m\u001b[32m30\u001b[39m \u001b[38;5;28;01mreturn\u001b[39;00m \u001b[43mreduce\u001b[49m\u001b[43m(\u001b[49m\u001b[43msp\u001b[49m\u001b[43m.\u001b[49m\u001b[43mkron\u001b[49m\u001b[43m,\u001b[49m\u001b[43m \u001b[49m\u001b[43mfull_op\u001b[49m\u001b[43m)\u001b[49m\n",
      "\u001b[36mFile \u001b[39m\u001b[32m~/.conda/envs/qaravan-env-final/lib/python3.11/site-packages/scipy/sparse/_construct.py:523\u001b[39m, in \u001b[36mkron\u001b[39m\u001b[34m(A, B, format)\u001b[39m\n\u001b[32m    520\u001b[39m     \u001b[38;5;28;01mreturn\u001b[39;00m coo_sparse(output_shape).asformat(\u001b[38;5;28mformat\u001b[39m)\n\u001b[32m    522\u001b[39m B = B.toarray()\n\u001b[32m--> \u001b[39m\u001b[32m523\u001b[39m data = \u001b[43mA\u001b[49m\u001b[43m.\u001b[49m\u001b[43mdata\u001b[49m\u001b[43m.\u001b[49m\u001b[43mrepeat\u001b[49m\u001b[43m(\u001b[49m\u001b[43mB\u001b[49m\u001b[43m.\u001b[49m\u001b[43msize\u001b[49m\u001b[43m)\u001b[49m.reshape(-\u001b[32m1\u001b[39m,B.shape[\u001b[32m0\u001b[39m],B.shape[\u001b[32m1\u001b[39m])\n\u001b[32m    524\u001b[39m data = data * B\n\u001b[32m    526\u001b[39m \u001b[38;5;28;01mreturn\u001b[39;00m bsr_sparse((data,A.indices,A.indptr), shape=output_shape)\n",
      "\u001b[31mKeyboardInterrupt\u001b[39m: "
     ]
    }
   ],
   "source": [
    "row_layout = [{'num_cells': 1, 'shift': 0.0}, \n",
    "             {'num_cells': 2, 'shift': -0.5}, \n",
    "             {'num_cells': 3, 'shift': -1}]\n",
    "sp = [0,1,9,11,16,17]\n",
    "ham = ChiralHeisenberg(row_layout=row_layout, sp=sp)\n",
    "#ham.lattice.plot()\n",
    "\n",
    "true_ge, true_gs = ham.ground()"
   ]
  },
  {
   "cell_type": "code",
   "execution_count": null,
   "metadata": {},
   "outputs": [
    {
     "ename": "NameError",
     "evalue": "name 'total_sz' is not defined",
     "output_type": "error",
     "traceback": [
      "\u001b[31m---------------------------------------------------------------------------\u001b[39m",
      "\u001b[31mNameError\u001b[39m                                 Traceback (most recent call last)",
      "\u001b[36mCell\u001b[39m\u001b[36m \u001b[39m\u001b[32mIn[8]\u001b[39m\u001b[32m, line 1\u001b[39m\n\u001b[32m----> \u001b[39m\u001b[32m1\u001b[39m Sz = \u001b[43mtotal_sz\u001b[49m(ham.num_sites)\n\u001b[32m      2\u001b[39m Ssq = total_spin_squared(ham.num_sites)\n\u001b[32m      4\u001b[39m \u001b[38;5;28mprint\u001b[39m(true_gs.conj().T @ Sz @ true_gs, true_gs.conj().T @ Ssq @ true_gs)\n",
      "\u001b[31mNameError\u001b[39m: name 'total_sz' is not defined"
     ]
    }
   ],
   "source": [
    "Sz = total_sz(ham.num_sites)\n",
    "Ssq = total_spin_squared(ham.num_sites)\n",
    "\n",
    "print(true_gs.conj().T @ Sz @ true_gs, true_gs.conj().T @ Ssq @ true_gs)\n",
    "\n",
    "singlet = (1/np.sqrt(2)) * (string_to_sv(\"01\", local_dim=2) - string_to_sv(\"10\", local_dim=2))\n",
    "singlet_12 = reduce(np.kron, [singlet]*6)\n",
    "singlet_12.conj().T @ Sz @ singlet_12, singlet_12.conj().T @ Ssq @ singlet_12"
   ]
  },
  {
   "cell_type": "code",
   "execution_count": null,
   "metadata": {},
   "outputs": [
    {
     "data": {
      "text/plain": [
       "5"
      ]
     },
     "execution_count": 9,
     "metadata": {},
     "output_type": "execute_result"
    }
   ],
   "source": [
    "len(torch.tensor(np.random.rand(5)))"
   ]
  },
  {
   "cell_type": "code",
   "execution_count": null,
   "metadata": {},
   "outputs": [],
   "source": []
  },
  {
   "cell_type": "code",
   "execution_count": null,
   "metadata": {},
   "outputs": [],
   "source": []
  },
  {
   "cell_type": "code",
   "execution_count": null,
   "metadata": {},
   "outputs": [
    {
     "name": "stdout",
     "output_type": "stream",
     "text": [
      "Step 10 at 2025-05-29T14:10:30 with cost 0.9906476579071452\n",
      "Step 20 at 2025-05-29T14:10:35 with cost 0.9910933848443123\n",
      "Step 30 at 2025-05-29T14:10:39 with cost 0.9904819539264139\n",
      "Step 40 at 2025-05-29T14:10:43 with cost 0.9897719091026365\n",
      "Step 50 at 2025-05-29T14:10:48 with cost 0.9895631742376696\n",
      "Step 60 at 2025-05-29T14:10:52 with cost 0.9894010943337259\n",
      "Step 70 at 2025-05-29T14:10:57 with cost 0.9896667651854404\n",
      "Step 80 at 2025-05-29T14:11:01 with cost 0.9893569955241968\n",
      "Step 90 at 2025-05-29T14:11:05 with cost 0.989224419766928\n",
      "Step 100 at 2025-05-29T14:11:10 with cost 0.9892116786953112\n",
      "[Checkpoint saved at step 100]\n",
      "Step 110 at 2025-05-29T14:11:14 with cost 0.9891898930544462\n",
      "Step 120 at 2025-05-29T14:11:18 with cost 0.9891793611202772\n",
      "Step 130 at 2025-05-29T14:11:23 with cost 0.98923803588925\n",
      "Step 140 at 2025-05-29T14:11:27 with cost 0.9894680131343013\n",
      "Step 150 at 2025-05-29T14:11:32 with cost 0.9893352704536393\n",
      "Step 160 at 2025-05-29T14:11:36 with cost 0.9891625590023173\n",
      "Step 170 at 2025-05-29T14:11:40 with cost 0.989145445674519\n",
      "Step 180 at 2025-05-29T14:13:27 with cost 0.9893590998863623\n",
      "Step 190 at 2025-05-29T14:13:32 with cost 0.9892433610659828\n",
      "Step 200 at 2025-05-29T14:13:37 with cost 0.9891220834486688\n",
      "[Checkpoint saved at step 200]\n",
      "Step 210 at 2025-05-29T14:13:41 with cost 0.9892512151756929\n",
      "Step 220 at 2025-05-29T14:13:46 with cost 0.9892719407031223\n",
      "Step 230 at 2025-05-29T14:13:50 with cost 0.9891084419134977\n",
      "Step 240 at 2025-05-29T14:13:55 with cost 0.9892333060277179\n",
      "Step 250 at 2025-05-29T14:13:59 with cost 0.9892588060043154\n",
      "Step 260 at 2025-05-29T14:14:03 with cost 0.9890948475855156\n",
      "Step 270 at 2025-05-29T14:14:08 with cost 0.9892530495866608\n",
      "Step 280 at 2025-05-29T14:14:12 with cost 0.9892054671922009\n",
      "Step 290 at 2025-05-29T14:14:17 with cost 0.9890843677067949\n",
      "Step 300 at 2025-05-29T14:14:21 with cost 0.9893648723470796\n",
      "[Checkpoint saved at step 300]\n",
      "Step 310 at 2025-05-29T14:14:26 with cost 0.9891229473042326\n",
      "Step 320 at 2025-05-29T14:14:30 with cost 0.9890844475672037\n",
      "Step 330 at 2025-05-29T14:14:34 with cost 0.9894636428850856\n",
      "Step 340 at 2025-05-29T14:14:38 with cost 0.9890776118307936\n",
      "Step 350 at 2025-05-29T14:14:43 with cost 0.9891734177290962\n",
      "Step 360 at 2025-05-29T14:14:47 with cost 0.9890942000018956\n",
      "Step 370 at 2025-05-29T14:14:51 with cost 0.9890869050106845\n",
      "Step 380 at 2025-05-29T14:14:56 with cost 0.989414856932402\n",
      "Step 390 at 2025-05-29T14:15:00 with cost 0.9890705759661855\n",
      "[LR Drop] Step 399: cost = 9.90e-01, LR dropped from 1.00e-01 to 1.00e-02\n",
      "Step 400 at 2025-05-29T14:15:04 with cost 0.9895009900343453\n",
      "[Checkpoint saved at step 400]\n",
      "Step 410 at 2025-05-29T14:15:09 with cost 0.9891772373884322\n",
      "Step 420 at 2025-05-29T14:15:13 with cost 0.9891159017568867\n",
      "Step 430 at 2025-05-29T14:15:17 with cost 0.9890865889794825\n",
      "Step 440 at 2025-05-29T14:15:21 with cost 0.9890729738807439\n",
      "Step 450 at 2025-05-29T14:15:26 with cost 0.9890677400494707\n",
      "Step 460 at 2025-05-29T14:15:30 with cost 0.9890660269751692\n",
      "Step 470 at 2025-05-29T14:15:34 with cost 0.989065932803052\n",
      "Step 480 at 2025-05-29T14:15:38 with cost 0.9890658929046773\n",
      "Step 490 at 2025-05-29T14:15:43 with cost 0.9890657952384835\n",
      "Step 500 at 2025-05-29T14:15:47 with cost 0.9890655394417823\n",
      "[Checkpoint saved at step 500]\n",
      "Step 510 at 2025-05-29T14:15:51 with cost 0.9890655323030725\n",
      "Step 520 at 2025-05-29T14:15:56 with cost 0.9890652770451318\n",
      "Step 530 at 2025-05-29T14:16:00 with cost 0.989065284368396\n",
      "Step 540 at 2025-05-29T14:16:05 with cost 0.989065309697101\n",
      "Step 550 at 2025-05-29T14:16:09 with cost 0.98906500153401\n",
      "Step 560 at 2025-05-29T14:16:14 with cost 0.9890650666866728\n",
      "Step 570 at 2025-05-29T14:16:19 with cost 0.9890649101830181\n",
      "Step 580 at 2025-05-29T14:16:23 with cost 0.9890647402512039\n",
      "Step 590 at 2025-05-29T14:16:28 with cost 0.9890647258176218\n",
      "Step 600 at 2025-05-29T14:16:33 with cost 0.9890644349326311\n",
      "[Checkpoint saved at step 600]\n",
      "[LR Drop] Step 600: cost = 9.89e-01, LR dropped from 1.00e-02 to 1.00e-03\n",
      "Step 610 at 2025-05-29T14:16:37 with cost 0.9890646788001276\n",
      "Step 620 at 2025-05-29T14:16:41 with cost 0.98906447734586\n",
      "Step 630 at 2025-05-29T14:16:46 with cost 0.9890644999074488\n",
      "Step 640 at 2025-05-29T14:16:50 with cost 0.9890645503702467\n",
      "Step 650 at 2025-05-29T14:16:54 with cost 0.9890645300413073\n",
      "Step 660 at 2025-05-29T14:16:58 with cost 0.9890645354212904\n",
      "Step 670 at 2025-05-29T14:17:03 with cost 0.9890645992859668\n",
      "Step 680 at 2025-05-29T14:17:07 with cost 0.9890643851733522\n",
      "Step 690 at 2025-05-29T14:17:12 with cost 0.9890644348024249\n",
      "Step 700 at 2025-05-29T14:17:16 with cost 0.9890644281769638\n",
      "[Checkpoint saved at step 700]\n",
      "Step 710 at 2025-05-29T14:17:21 with cost 0.989064368535044\n",
      "Step 720 at 2025-05-29T14:17:25 with cost 0.9890643861763174\n",
      "Step 730 at 2025-05-29T14:17:30 with cost 0.9890643752565442\n",
      "Step 740 at 2025-05-29T14:17:34 with cost 0.9890643179422157\n",
      "Step 750 at 2025-05-29T14:17:38 with cost 0.9890643445363166\n",
      "Step 760 at 2025-05-29T14:17:43 with cost 0.9890643839448439\n",
      "Step 770 at 2025-05-29T14:17:47 with cost 0.9890643175298222\n",
      "Step 780 at 2025-05-29T14:17:51 with cost 0.9890642822978698\n",
      "Step 790 at 2025-05-29T14:17:55 with cost 0.9890642508873401\n",
      "Step 800 at 2025-05-29T14:18:00 with cost 0.9890641723365001\n",
      "[Checkpoint saved at step 800]\n",
      "[LR Drop] Step 801: cost = 9.89e-01, LR dropped from 1.00e-03 to 1.00e-04\n",
      "Step 810 at 2025-05-29T14:18:04 with cost 0.9890643618889396\n",
      "Step 820 at 2025-05-29T14:18:08 with cost 0.9890644137160284\n",
      "Step 830 at 2025-05-29T14:18:13 with cost 0.9890644208557469\n",
      "Step 840 at 2025-05-29T14:18:18 with cost 0.9890642991742653\n",
      "Step 850 at 2025-05-29T14:18:22 with cost 0.9890642391360585\n",
      "Step 860 at 2025-05-29T14:18:27 with cost 0.989064228484914\n"
     ]
    },
    {
     "ename": "KeyboardInterrupt",
     "evalue": "",
     "output_type": "error",
     "traceback": [
      "\u001b[31m---------------------------------------------------------------------------\u001b[39m",
      "\u001b[31mKeyboardInterrupt\u001b[39m                         Traceback (most recent call last)",
      "\u001b[36mCell\u001b[39m\u001b[36m \u001b[39m\u001b[32mIn[49]\u001b[39m\u001b[32m, line 3\u001b[39m\n\u001b[32m      1\u001b[39m true_gs_torch = torch.tensor(true_gs[:,\u001b[32m0\u001b[39m], dtype=torch.complex128)\n\u001b[32m      2\u001b[39m singlet_12_torch = torch.tensor(singlet_12, dtype=torch.complex128)\n\u001b[32m----> \u001b[39m\u001b[32m3\u001b[39m cost_list, params = \u001b[43mmax_overlap\u001b[49m\u001b[43m(\u001b[49m\u001b[43mham\u001b[49m\u001b[43m,\u001b[49m\u001b[43m \u001b[49m\u001b[43mtrue_gs_torch\u001b[49m\u001b[43m,\u001b[49m\u001b[43m \u001b[49m\u001b[43msinglet_12_torch\u001b[49m\u001b[43m,\u001b[49m\u001b[43m \u001b[49m\u001b[43mnum_layers\u001b[49m\u001b[43m=\u001b[49m\u001b[32;43m40\u001b[39;49m\u001b[43m,\u001b[49m\u001b[43m \u001b[49m\u001b[43mlr\u001b[49m\u001b[43m=\u001b[49m\u001b[32;43m0.1\u001b[39;49m\u001b[43m,\u001b[49m\u001b[43m \u001b[49m\u001b[43mfunc\u001b[49m\u001b[43m=\u001b[49m\u001b[43mhva_cost\u001b[49m\u001b[43m,\u001b[49m\u001b[43m \u001b[49m\u001b[43mgamma\u001b[49m\u001b[43m=\u001b[49m\u001b[32;43m0.1\u001b[39;49m\u001b[43m,\u001b[49m\u001b[43m \u001b[49m\u001b[43mpatience\u001b[49m\u001b[43m=\u001b[49m\u001b[32;43m200\u001b[39;49m\u001b[43m)\u001b[49m\n",
      "\u001b[36mCell\u001b[39m\u001b[36m \u001b[39m\u001b[32mIn[45]\u001b[39m\u001b[32m, line 83\u001b[39m, in \u001b[36mmax_overlap\u001b[39m\u001b[34m(ham, target_sv, init_state, num_layers, lr, func, gamma, patience)\u001b[39m\n\u001b[32m     77\u001b[39m run_state = {\n\u001b[32m     78\u001b[39m     \u001b[33m\"\u001b[39m\u001b[33mcost_list\u001b[39m\u001b[33m\"\u001b[39m: cost_list,\n\u001b[32m     79\u001b[39m     \u001b[33m\"\u001b[39m\u001b[33mstep\u001b[39m\u001b[33m\"\u001b[39m: context.step\n\u001b[32m     80\u001b[39m }\n\u001b[32m     82\u001b[39m \u001b[38;5;28;01mwhile\u001b[39;00m \u001b[38;5;28;01mTrue\u001b[39;00m:\n\u001b[32m---> \u001b[39m\u001b[32m83\u001b[39m     cost = \u001b[43mfunc\u001b[49m\u001b[43m(\u001b[49m\u001b[43mparams\u001b[49m\u001b[43m,\u001b[49m\u001b[43m \u001b[49m\u001b[43mham\u001b[49m\u001b[43m,\u001b[49m\u001b[43m \u001b[49m\u001b[43mtarget_sv\u001b[49m\u001b[43m,\u001b[49m\u001b[43m \u001b[49m\u001b[43minit_state\u001b[49m\u001b[43m)\u001b[49m\n\u001b[32m     84\u001b[39m     cost_val = cost.item()\n\u001b[32m     85\u001b[39m     cost_list.append(cost_val)\n",
      "\u001b[36mCell\u001b[39m\u001b[36m \u001b[39m\u001b[32mIn[45]\u001b[39m\u001b[32m, line 34\u001b[39m, in \u001b[36mhva_cost\u001b[39m\u001b[34m(params, ham, target_sv, init_state)\u001b[39m\n\u001b[32m     32\u001b[39m \u001b[38;5;28;01mdef\u001b[39;00m\u001b[38;5;250m \u001b[39m\u001b[34mhva_cost\u001b[39m(params, ham, target_sv, init_state): \n\u001b[32m     33\u001b[39m \u001b[38;5;250m    \u001b[39m\u001b[33;03m\"\"\" return cost function for HVA circuit \"\"\"\u001b[39;00m\n\u001b[32m---> \u001b[39m\u001b[32m34\u001b[39m     circ = \u001b[43mhva_circ\u001b[49m\u001b[43m(\u001b[49m\u001b[43mparams\u001b[49m\u001b[43m,\u001b[49m\u001b[43m \u001b[49m\u001b[43mham\u001b[49m\u001b[43m)\u001b[49m\n\u001b[32m     35\u001b[39m     sim = StatevectorSim(circ, init_state=init_state, backend=\u001b[33m\"\u001b[39m\u001b[33mtorch\u001b[39m\u001b[33m\"\u001b[39m)\n\u001b[32m     36\u001b[39m     sim.run(progress_bar=\u001b[38;5;28;01mFalse\u001b[39;00m)\n",
      "\u001b[36mCell\u001b[39m\u001b[36m \u001b[39m\u001b[32mIn[45]\u001b[39m\u001b[32m, line 28\u001b[39m, in \u001b[36mhva_circ\u001b[39m\u001b[34m(params, ham)\u001b[39m\n\u001b[32m     26\u001b[39m gate_list = [] \n\u001b[32m     27\u001b[39m \u001b[38;5;28;01mfor\u001b[39;00m i \u001b[38;5;129;01min\u001b[39;00m \u001b[38;5;28mrange\u001b[39m(\u001b[38;5;28mlen\u001b[39m(params)//\u001b[32m2\u001b[39m): \n\u001b[32m---> \u001b[39m\u001b[32m28\u001b[39m     gate_list += \u001b[43mhva_layer\u001b[49m\u001b[43m(\u001b[49m\u001b[43mham\u001b[49m\u001b[43m,\u001b[49m\u001b[43m \u001b[49m\u001b[43mparams\u001b[49m\u001b[43m[\u001b[49m\u001b[32;43m2\u001b[39;49m\u001b[43m*\u001b[49m\u001b[43mi\u001b[49m\u001b[43m]\u001b[49m\u001b[43m,\u001b[49m\u001b[43m \u001b[49m\u001b[43mparams\u001b[49m\u001b[43m[\u001b[49m\u001b[32;43m2\u001b[39;49m\u001b[43m*\u001b[49m\u001b[43mi\u001b[49m\u001b[43m+\u001b[49m\u001b[32;43m1\u001b[39;49m\u001b[43m]\u001b[49m\u001b[43m)\u001b[49m\n\u001b[32m     30\u001b[39m \u001b[38;5;28;01mreturn\u001b[39;00m Circuit(gate_list)\n",
      "\u001b[36mCell\u001b[39m\u001b[36m \u001b[39m\u001b[32mIn[45]\u001b[39m\u001b[32m, line 12\u001b[39m, in \u001b[36mhva_layer\u001b[39m\u001b[34m(ham, odd_angle, even_angle)\u001b[39m\n\u001b[32m      9\u001b[39m backend = \u001b[33m\"\u001b[39m\u001b[33mtorch\u001b[39m\u001b[33m\"\u001b[39m \u001b[38;5;28;01mif\u001b[39;00m torch.is_tensor(odd_angle) \u001b[38;5;129;01mor\u001b[39;00m torch.is_tensor(even_angle) \u001b[38;5;28;01melse\u001b[39;00m \u001b[33m\"\u001b[39m\u001b[33mnumpy\u001b[39m\u001b[33m\"\u001b[39m\n\u001b[32m     10\u001b[39m expm = scipy.linalg.expm \u001b[38;5;28;01mif\u001b[39;00m backend == \u001b[33m\"\u001b[39m\u001b[33mnumpy\u001b[39m\u001b[33m\"\u001b[39m \u001b[38;5;28;01melse\u001b[39;00m torch.linalg.matrix_exp\n\u001b[32m---> \u001b[39m\u001b[32m12\u001b[39m tmat_np, _ = \u001b[43mham\u001b[49m\u001b[43m.\u001b[49m\u001b[43mprimitive_matrices\u001b[49m\u001b[43m(\u001b[49m\u001b[43m)\u001b[49m\n\u001b[32m     13\u001b[39m tmat = tmat_np \u001b[38;5;28;01mif\u001b[39;00m backend == \u001b[33m\"\u001b[39m\u001b[33mnumpy\u001b[39m\u001b[33m\"\u001b[39m \u001b[38;5;28;01melse\u001b[39;00m torch.tensor(tmat_np, dtype=odd_angle.dtype)\n\u001b[32m     15\u001b[39m even_unitary = expm(-\u001b[32m1\u001b[39mj * even_angle * tmat)\n",
      "\u001b[36mFile \u001b[39m\u001b[32m~/.conda/envs/qaravan-env-final/lib/python3.11/site-packages/qaravan/core/hamiltonians.py:278\u001b[39m, in \u001b[36mChiralHeisenberg.primitive_matrices\u001b[39m\u001b[34m(self)\u001b[39m\n\u001b[32m    276\u001b[39m \u001b[38;5;250m\u001b[39m\u001b[33;03m\"\"\" returns small 8 by 8 matrix for triangle primitives and 4 by 4 matrix for edge primitives \"\"\"\u001b[39;00m\n\u001b[32m    277\u001b[39m triangle_terms = \u001b[38;5;28mself\u001b[39m.pairwise_terms([(\u001b[32m0\u001b[39m,\u001b[32m1\u001b[39m), (\u001b[32m1\u001b[39m,\u001b[32m2\u001b[39m), (\u001b[32m0\u001b[39m,\u001b[32m2\u001b[39m)]) + \u001b[38;5;28mself\u001b[39m.chiral_terms((\u001b[32m0\u001b[39m,\u001b[32m1\u001b[39m,\u001b[32m2\u001b[39m))\n\u001b[32m--> \u001b[39m\u001b[32m278\u001b[39m tmat = \u001b[38;5;28msum\u001b[39m(\u001b[43m[\u001b[49m\u001b[43mcoeff\u001b[49m\u001b[43m \u001b[49m\u001b[43m*\u001b[49m\u001b[43m \u001b[49m\u001b[43membed_operator\u001b[49m\u001b[43m(\u001b[49m\u001b[32;43m3\u001b[39;49m\u001b[43m,\u001b[49m\u001b[43m \u001b[49m\u001b[43msites\u001b[49m\u001b[43m,\u001b[49m\u001b[43m \u001b[49m\u001b[43m[\u001b[49m\u001b[43mpauli_mapping\u001b[49m\u001b[43m[\u001b[49m\u001b[43mop\u001b[49m\u001b[43m]\u001b[49m\u001b[43m \u001b[49m\u001b[38;5;28;43;01mfor\u001b[39;49;00m\u001b[43m \u001b[49m\u001b[43mop\u001b[49m\u001b[43m \u001b[49m\u001b[38;5;129;43;01min\u001b[39;49;00m\u001b[43m \u001b[49m\u001b[43mlocal_ops\u001b[49m\u001b[43m]\u001b[49m\u001b[43m,\u001b[49m\u001b[43m \u001b[49m\u001b[43mfactor\u001b[49m\u001b[43m=\u001b[49m\u001b[38;5;28;43;01mTrue\u001b[39;49;00m\u001b[43m)\u001b[49m\u001b[43m \u001b[49m\u001b[38;5;28;43;01mfor\u001b[39;49;00m\u001b[43m \u001b[49m\u001b[43mcoeff\u001b[49m\u001b[43m,\u001b[49m\u001b[43m \u001b[49m\u001b[43msites\u001b[49m\u001b[43m,\u001b[49m\u001b[43m \u001b[49m\u001b[43mlocal_ops\u001b[49m\u001b[43m \u001b[49m\u001b[38;5;129;43;01min\u001b[39;49;00m\u001b[43m \u001b[49m\u001b[43mtriangle_terms\u001b[49m\u001b[43m]\u001b[49m)\n\u001b[32m    280\u001b[39m edge_terms = \u001b[38;5;28mself\u001b[39m.pairwise_terms([(\u001b[32m0\u001b[39m,\u001b[32m1\u001b[39m),])\n\u001b[32m    281\u001b[39m emat = \u001b[38;5;28msum\u001b[39m([coeff * embed_operator(\u001b[32m2\u001b[39m, sites, [pauli_mapping[op] \u001b[38;5;28;01mfor\u001b[39;00m op \u001b[38;5;129;01min\u001b[39;00m local_ops], factor=\u001b[38;5;28;01mTrue\u001b[39;00m) \u001b[38;5;28;01mfor\u001b[39;00m coeff, sites, local_ops \u001b[38;5;129;01min\u001b[39;00m edge_terms])\n",
      "\u001b[36mFile \u001b[39m\u001b[32m~/.conda/envs/qaravan-env-final/lib/python3.11/site-packages/qaravan/core/hamiltonians.py:278\u001b[39m, in \u001b[36m<listcomp>\u001b[39m\u001b[34m(.0)\u001b[39m\n\u001b[32m    276\u001b[39m \u001b[38;5;250m\u001b[39m\u001b[33;03m\"\"\" returns small 8 by 8 matrix for triangle primitives and 4 by 4 matrix for edge primitives \"\"\"\u001b[39;00m\n\u001b[32m    277\u001b[39m triangle_terms = \u001b[38;5;28mself\u001b[39m.pairwise_terms([(\u001b[32m0\u001b[39m,\u001b[32m1\u001b[39m), (\u001b[32m1\u001b[39m,\u001b[32m2\u001b[39m), (\u001b[32m0\u001b[39m,\u001b[32m2\u001b[39m)]) + \u001b[38;5;28mself\u001b[39m.chiral_terms((\u001b[32m0\u001b[39m,\u001b[32m1\u001b[39m,\u001b[32m2\u001b[39m))\n\u001b[32m--> \u001b[39m\u001b[32m278\u001b[39m tmat = \u001b[38;5;28msum\u001b[39m([coeff * \u001b[43membed_operator\u001b[49m\u001b[43m(\u001b[49m\u001b[32;43m3\u001b[39;49m\u001b[43m,\u001b[49m\u001b[43m \u001b[49m\u001b[43msites\u001b[49m\u001b[43m,\u001b[49m\u001b[43m \u001b[49m\u001b[43m[\u001b[49m\u001b[43mpauli_mapping\u001b[49m\u001b[43m[\u001b[49m\u001b[43mop\u001b[49m\u001b[43m]\u001b[49m\u001b[43m \u001b[49m\u001b[38;5;28;43;01mfor\u001b[39;49;00m\u001b[43m \u001b[49m\u001b[43mop\u001b[49m\u001b[43m \u001b[49m\u001b[38;5;129;43;01min\u001b[39;49;00m\u001b[43m \u001b[49m\u001b[43mlocal_ops\u001b[49m\u001b[43m]\u001b[49m\u001b[43m,\u001b[49m\u001b[43m \u001b[49m\u001b[43mfactor\u001b[49m\u001b[43m=\u001b[49m\u001b[38;5;28;43;01mTrue\u001b[39;49;00m\u001b[43m)\u001b[49m \u001b[38;5;28;01mfor\u001b[39;00m coeff, sites, local_ops \u001b[38;5;129;01min\u001b[39;00m triangle_terms])\n\u001b[32m    280\u001b[39m edge_terms = \u001b[38;5;28mself\u001b[39m.pairwise_terms([(\u001b[32m0\u001b[39m,\u001b[32m1\u001b[39m),])\n\u001b[32m    281\u001b[39m emat = \u001b[38;5;28msum\u001b[39m([coeff * embed_operator(\u001b[32m2\u001b[39m, sites, [pauli_mapping[op] \u001b[38;5;28;01mfor\u001b[39;00m op \u001b[38;5;129;01min\u001b[39;00m local_ops], factor=\u001b[38;5;28;01mTrue\u001b[39;00m) \u001b[38;5;28;01mfor\u001b[39;00m coeff, sites, local_ops \u001b[38;5;129;01min\u001b[39;00m edge_terms])\n",
      "\u001b[36mFile \u001b[39m\u001b[32m~/.conda/envs/qaravan-env-final/lib/python3.11/site-packages/qaravan/core/gates.py:30\u001b[39m, in \u001b[36membed_operator\u001b[39m\u001b[34m(num_sites, active_sites, local_ops, local_dim, dense, factor)\u001b[39m\n\u001b[32m     28\u001b[39m \u001b[38;5;28;01mfor\u001b[39;00m site, op \u001b[38;5;129;01min\u001b[39;00m \u001b[38;5;28mzip\u001b[39m(active_sites, local_ops):\n\u001b[32m     29\u001b[39m     full_op[site] = sp.csr_matrix(op) \u001b[38;5;28;01mif\u001b[39;00m \u001b[38;5;129;01mnot\u001b[39;00m factor \u001b[38;5;28;01melse\u001b[39;00m sp.csr_matrix(op/\u001b[32m2\u001b[39m)\n\u001b[32m---> \u001b[39m\u001b[32m30\u001b[39m \u001b[38;5;28;01mreturn\u001b[39;00m \u001b[43mreduce\u001b[49m\u001b[43m(\u001b[49m\u001b[43msp\u001b[49m\u001b[43m.\u001b[49m\u001b[43mkron\u001b[49m\u001b[43m,\u001b[49m\u001b[43m \u001b[49m\u001b[43mfull_op\u001b[49m\u001b[43m)\u001b[49m\n",
      "\u001b[36mFile \u001b[39m\u001b[32m~/.conda/envs/qaravan-env-final/lib/python3.11/site-packages/scipy/sparse/_construct.py:507\u001b[39m, in \u001b[36mkron\u001b[39m\u001b[34m(A, B, format)\u001b[39m\n\u001b[32m    504\u001b[39m     csr_sparse = csr_matrix\n\u001b[32m    505\u001b[39m     coo_sparse = coo_matrix\n\u001b[32m--> \u001b[39m\u001b[32m507\u001b[39m B = \u001b[43mcoo_sparse\u001b[49m\u001b[43m(\u001b[49m\u001b[43mB\u001b[49m\u001b[43m)\u001b[49m\n\u001b[32m    508\u001b[39m \u001b[38;5;28;01mif\u001b[39;00m B.ndim != \u001b[32m2\u001b[39m:\n\u001b[32m    509\u001b[39m     \u001b[38;5;28;01mraise\u001b[39;00m \u001b[38;5;167;01mValueError\u001b[39;00m(\u001b[33mf\u001b[39m\u001b[33m\"\u001b[39m\u001b[33mkron requires 2D input arrays. `B` is \u001b[39m\u001b[38;5;132;01m{\u001b[39;00mB.ndim\u001b[38;5;132;01m}\u001b[39;00m\u001b[33mD.\u001b[39m\u001b[33m\"\u001b[39m)\n",
      "\u001b[36mFile \u001b[39m\u001b[32m~/.conda/envs/qaravan-env-final/lib/python3.11/site-packages/scipy/sparse/_coo.py:101\u001b[39m, in \u001b[36m_coo_base.__init__\u001b[39m\u001b[34m(self, arg1, shape, dtype, copy, maxprint)\u001b[39m\n\u001b[32m     98\u001b[39m \u001b[38;5;28;01mif\u001b[39;00m \u001b[38;5;28mlen\u001b[39m(\u001b[38;5;28mself\u001b[39m._shape) > \u001b[32m2\u001b[39m:\n\u001b[32m     99\u001b[39m     \u001b[38;5;28mself\u001b[39m.coords = \u001b[38;5;28mtuple\u001b[39m(idx.astype(np.int64, copy=\u001b[38;5;28;01mFalse\u001b[39;00m) \u001b[38;5;28;01mfor\u001b[39;00m idx \u001b[38;5;129;01min\u001b[39;00m \u001b[38;5;28mself\u001b[39m.coords)\n\u001b[32m--> \u001b[39m\u001b[32m101\u001b[39m \u001b[38;5;28;43mself\u001b[39;49m\u001b[43m.\u001b[49m\u001b[43m_check\u001b[49m\u001b[43m(\u001b[49m\u001b[43m)\u001b[49m\n",
      "\u001b[36mFile \u001b[39m\u001b[32m~/.conda/envs/qaravan-env-final/lib/python3.11/site-packages/scipy/sparse/_coo.py:214\u001b[39m, in \u001b[36m_coo_base._check\u001b[39m\u001b[34m(self)\u001b[39m\n\u001b[32m    210\u001b[39m     \u001b[38;5;28;01mif\u001b[39;00m idx.dtype.kind != \u001b[33m'\u001b[39m\u001b[33mi\u001b[39m\u001b[33m'\u001b[39m:\n\u001b[32m    211\u001b[39m         warn(\u001b[33mf\u001b[39m\u001b[33m'\u001b[39m\u001b[33mindex array \u001b[39m\u001b[38;5;132;01m{\u001b[39;00mi\u001b[38;5;132;01m}\u001b[39;00m\u001b[33m has non-integer dtype (\u001b[39m\u001b[38;5;132;01m{\u001b[39;00midx.dtype.name\u001b[38;5;132;01m}\u001b[39;00m\u001b[33m)\u001b[39m\u001b[33m'\u001b[39m,\n\u001b[32m    212\u001b[39m              stacklevel=\u001b[32m3\u001b[39m)\n\u001b[32m--> \u001b[39m\u001b[32m214\u001b[39m idx_dtype = \u001b[38;5;28mself\u001b[39m._get_index_dtype(\u001b[38;5;28mself\u001b[39m.coords, maxval=\u001b[38;5;28;43mmax\u001b[39;49m\u001b[43m(\u001b[49m\u001b[38;5;28;43mself\u001b[39;49m\u001b[43m.\u001b[49m\u001b[43mshape\u001b[49m\u001b[43m)\u001b[49m)\n\u001b[32m    215\u001b[39m \u001b[38;5;28mself\u001b[39m.coords = \u001b[38;5;28mtuple\u001b[39m(np.asarray(idx, dtype=idx_dtype)\n\u001b[32m    216\u001b[39m                      \u001b[38;5;28;01mfor\u001b[39;00m idx \u001b[38;5;129;01min\u001b[39;00m \u001b[38;5;28mself\u001b[39m.coords)\n\u001b[32m    217\u001b[39m \u001b[38;5;28mself\u001b[39m.data = to_native(\u001b[38;5;28mself\u001b[39m.data)\n",
      "\u001b[31mKeyboardInterrupt\u001b[39m: "
     ]
    }
   ],
   "source": [
    "true_gs_torch = torch.tensor(true_gs[:,0], dtype=torch.complex128)\n",
    "singlet_12_torch = torch.tensor(singlet_12, dtype=torch.complex128)\n",
    "cost_list, params = max_overlap(ham, true_gs_torch, singlet_12_torch, num_layers=40, lr=0.1, func=hva_cost, gamma=0.1, patience=200)"
   ]
  },
  {
   "cell_type": "code",
   "execution_count": null,
   "metadata": {},
   "outputs": [],
   "source": [
    "from functools import reduce\n",
    "\n",
    "#singlet.conj().T @ total_sz(2) @ singlet, singlet.conj().T @ total_spin_squared(2) @ singlet"
   ]
  },
  {
   "cell_type": "code",
   "execution_count": null,
   "metadata": {},
   "outputs": [],
   "source": [
    "#target = random_sv(ham.num_sites) \n",
    "\n",
    "circ = Circuit([H(0), CNOT([1,0]), CNOT([2,1]), CNOT([3,2]), CNOT([4,3]), CNOT([5,4]), CNOT([6,5]), CNOT([7,6]), CNOT([8,7]), CNOT([9,8]), CNOT([10, 9]), CNOT([11,10])])\n",
    "target = circ.to_matrix() @ all_zero_sv(ham.num_sites, dense=True)\n",
    "target = torch.tensor(target, dtype=torch.complex128)"
   ]
  },
  {
   "cell_type": "code",
   "execution_count": null,
   "metadata": {},
   "outputs": [
    {
     "data": {
      "text/plain": [
       "torch.Size([4096])"
      ]
     },
     "execution_count": 8,
     "metadata": {},
     "output_type": "execute_result"
    }
   ],
   "source": [
    "target.shape"
   ]
  },
  {
   "cell_type": "code",
   "execution_count": null,
   "metadata": {},
   "outputs": [
    {
     "name": "stdout",
     "output_type": "stream",
     "text": [
      "Step 10 at 2025-05-22T14:12:24 with cost 0.499997829977581\n",
      "Step 20 at 2025-05-22T14:12:26 with cost 0.4999982083286978\n",
      "Step 30 at 2025-05-22T14:12:28 with cost 0.4999950855283354\n",
      "Step 40 at 2025-05-22T14:12:30 with cost 0.4999952723398755\n",
      "Step 50 at 2025-05-22T14:12:33 with cost 0.49999479132584757\n",
      "Step 60 at 2025-05-22T14:12:35 with cost 0.4999929474504522\n",
      "Step 70 at 2025-05-22T14:12:37 with cost 0.49999068666133106\n",
      "Step 80 at 2025-05-22T14:12:39 with cost 0.49999315993893767\n",
      "Step 90 at 2025-05-22T14:12:41 with cost 0.49998902011694013\n",
      "Step 100 at 2025-05-22T14:12:44 with cost 0.49999493019057295\n",
      "[Checkpoint saved at step 100]\n",
      "Step 110 at 2025-05-22T14:12:46 with cost 0.49998799653079784\n",
      "Step 120 at 2025-05-22T14:12:48 with cost 0.4999933225317509\n",
      "Step 130 at 2025-05-22T14:12:50 with cost 0.4999943612747926\n",
      "Step 140 at 2025-05-22T14:12:52 with cost 0.4999947689062705\n",
      "Step 150 at 2025-05-22T14:12:55 with cost 0.49999462673364226\n",
      "Step 160 at 2025-05-22T14:12:57 with cost 0.49999010415708633\n",
      "Step 170 at 2025-05-22T14:12:59 with cost 0.4999926705213471\n",
      "Step 180 at 2025-05-22T14:13:01 with cost 0.4999936115938457\n",
      "Step 190 at 2025-05-22T14:13:03 with cost 0.49999680043451034\n",
      "Step 200 at 2025-05-22T14:13:06 with cost 0.4999878261072005\n",
      "[Checkpoint saved at step 200]\n",
      "[LR Drop] Step 201: cost = 5.00e-01, LR dropped from 1.00e-01 to 1.00e-02\n",
      "Step 210 at 2025-05-22T14:13:08 with cost 0.499990650495983\n",
      "Step 220 at 2025-05-22T14:13:10 with cost 0.49998773085915815\n",
      "Step 230 at 2025-05-22T14:13:12 with cost 0.49998587974220476\n",
      "Step 240 at 2025-05-22T14:13:14 with cost 0.49999283488743274\n",
      "Step 250 at 2025-05-22T14:13:17 with cost 0.49999423389585707\n"
     ]
    },
    {
     "ename": "KeyboardInterrupt",
     "evalue": "",
     "output_type": "error",
     "traceback": [
      "\u001b[31m---------------------------------------------------------------------------\u001b[39m",
      "\u001b[31mKeyboardInterrupt\u001b[39m                         Traceback (most recent call last)",
      "\u001b[36mCell\u001b[39m\u001b[36m \u001b[39m\u001b[32mIn[10]\u001b[39m\u001b[32m, line 1\u001b[39m\n\u001b[32m----> \u001b[39m\u001b[32m1\u001b[39m cost_list, params = \u001b[43mmax_overlap\u001b[49m\u001b[43m(\u001b[49m\u001b[43mham\u001b[49m\u001b[43m,\u001b[49m\u001b[43m \u001b[49m\u001b[43mtarget\u001b[49m\u001b[43m,\u001b[49m\u001b[43m \u001b[49m\u001b[43mnum_layers\u001b[49m\u001b[43m=\u001b[49m\u001b[32;43m20\u001b[39;49m\u001b[43m,\u001b[49m\u001b[43m \u001b[49m\u001b[43mlr\u001b[49m\u001b[43m=\u001b[49m\u001b[32;43m0.1\u001b[39;49m\u001b[43m,\u001b[49m\u001b[43m \u001b[49m\u001b[43mfunc\u001b[49m\u001b[43m=\u001b[49m\u001b[43mhva_cost\u001b[49m\u001b[43m,\u001b[49m\u001b[43m \u001b[49m\u001b[43mgamma\u001b[49m\u001b[43m=\u001b[49m\u001b[32;43m0.1\u001b[39;49m\u001b[43m,\u001b[49m\u001b[43m \u001b[49m\u001b[43mpatience\u001b[49m\u001b[43m=\u001b[49m\u001b[32;43m200\u001b[39;49m\u001b[43m)\u001b[49m\n",
      "\u001b[36mCell\u001b[39m\u001b[36m \u001b[39m\u001b[32mIn[2]\u001b[39m\u001b[32m, line 81\u001b[39m, in \u001b[36mmax_overlap\u001b[39m\u001b[34m(ham, target_sv, num_layers, lr, func, gamma, patience)\u001b[39m\n\u001b[32m     75\u001b[39m run_state = {\n\u001b[32m     76\u001b[39m     \u001b[33m\"\u001b[39m\u001b[33mcost_list\u001b[39m\u001b[33m\"\u001b[39m: cost_list,\n\u001b[32m     77\u001b[39m     \u001b[33m\"\u001b[39m\u001b[33mstep\u001b[39m\u001b[33m\"\u001b[39m: context.step\n\u001b[32m     78\u001b[39m }\n\u001b[32m     80\u001b[39m \u001b[38;5;28;01mwhile\u001b[39;00m \u001b[38;5;28;01mTrue\u001b[39;00m:\n\u001b[32m---> \u001b[39m\u001b[32m81\u001b[39m     cost = \u001b[43mfunc\u001b[49m\u001b[43m(\u001b[49m\u001b[43mparams\u001b[49m\u001b[43m,\u001b[49m\u001b[43m \u001b[49m\u001b[43mham\u001b[49m\u001b[43m,\u001b[49m\u001b[43m \u001b[49m\u001b[43mtarget_sv\u001b[49m\u001b[43m)\u001b[49m\n\u001b[32m     82\u001b[39m     cost_val = cost.item()\n\u001b[32m     83\u001b[39m     cost_list.append(cost_val)\n",
      "\u001b[36mCell\u001b[39m\u001b[36m \u001b[39m\u001b[32mIn[2]\u001b[39m\u001b[32m, line 32\u001b[39m, in \u001b[36mhva_cost\u001b[39m\u001b[34m(params, ham, target_sv)\u001b[39m\n\u001b[32m     30\u001b[39m \u001b[38;5;28;01mdef\u001b[39;00m\u001b[38;5;250m \u001b[39m\u001b[34mhva_cost\u001b[39m(params, ham, target_sv): \n\u001b[32m     31\u001b[39m \u001b[38;5;250m    \u001b[39m\u001b[33;03m\"\"\" return cost function for HVA circuit \"\"\"\u001b[39;00m\n\u001b[32m---> \u001b[39m\u001b[32m32\u001b[39m     circ = \u001b[43mhva_circ\u001b[49m\u001b[43m(\u001b[49m\u001b[43mparams\u001b[49m\u001b[43m,\u001b[49m\u001b[43m \u001b[49m\u001b[43mham\u001b[49m\u001b[43m)\u001b[49m\n\u001b[32m     33\u001b[39m     sim = StatevectorSim(circ, backend=\u001b[33m\"\u001b[39m\u001b[33mtorch\u001b[39m\u001b[33m\"\u001b[39m)\n\u001b[32m     34\u001b[39m     sim.run(progress_bar=\u001b[38;5;28;01mFalse\u001b[39;00m)\n",
      "\u001b[36mCell\u001b[39m\u001b[36m \u001b[39m\u001b[32mIn[2]\u001b[39m\u001b[32m, line 26\u001b[39m, in \u001b[36mhva_circ\u001b[39m\u001b[34m(params, ham)\u001b[39m\n\u001b[32m     24\u001b[39m gate_list = [] \n\u001b[32m     25\u001b[39m \u001b[38;5;28;01mfor\u001b[39;00m i \u001b[38;5;129;01min\u001b[39;00m \u001b[38;5;28mrange\u001b[39m(\u001b[38;5;28mlen\u001b[39m(params)//\u001b[32m2\u001b[39m): \n\u001b[32m---> \u001b[39m\u001b[32m26\u001b[39m     gate_list += \u001b[43mhva_layer\u001b[49m\u001b[43m(\u001b[49m\u001b[43mham\u001b[49m\u001b[43m,\u001b[49m\u001b[43m \u001b[49m\u001b[43mparams\u001b[49m\u001b[43m[\u001b[49m\u001b[32;43m2\u001b[39;49m\u001b[43m*\u001b[49m\u001b[43mi\u001b[49m\u001b[43m]\u001b[49m\u001b[43m,\u001b[49m\u001b[43m \u001b[49m\u001b[43mparams\u001b[49m\u001b[43m[\u001b[49m\u001b[32;43m2\u001b[39;49m\u001b[43m*\u001b[49m\u001b[43mi\u001b[49m\u001b[43m+\u001b[49m\u001b[32;43m1\u001b[39;49m\u001b[43m]\u001b[49m\u001b[43m)\u001b[49m\n\u001b[32m     28\u001b[39m \u001b[38;5;28;01mreturn\u001b[39;00m Circuit(gate_list)\n",
      "\u001b[36mCell\u001b[39m\u001b[36m \u001b[39m\u001b[32mIn[2]\u001b[39m\u001b[32m, line 10\u001b[39m, in \u001b[36mhva_layer\u001b[39m\u001b[34m(ham, odd_angle, even_angle)\u001b[39m\n\u001b[32m      7\u001b[39m backend = \u001b[33m\"\u001b[39m\u001b[33mtorch\u001b[39m\u001b[33m\"\u001b[39m \u001b[38;5;28;01mif\u001b[39;00m torch.is_tensor(odd_angle) \u001b[38;5;129;01mor\u001b[39;00m torch.is_tensor(even_angle) \u001b[38;5;28;01melse\u001b[39;00m \u001b[33m\"\u001b[39m\u001b[33mnumpy\u001b[39m\u001b[33m\"\u001b[39m\n\u001b[32m      8\u001b[39m expm = scipy.linalg.expm \u001b[38;5;28;01mif\u001b[39;00m backend == \u001b[33m\"\u001b[39m\u001b[33mnumpy\u001b[39m\u001b[33m\"\u001b[39m \u001b[38;5;28;01melse\u001b[39;00m torch.linalg.matrix_exp\n\u001b[32m---> \u001b[39m\u001b[32m10\u001b[39m tmat_np, _ = \u001b[43mham\u001b[49m\u001b[43m.\u001b[49m\u001b[43mprimitive_matrices\u001b[49m\u001b[43m(\u001b[49m\u001b[43m)\u001b[49m\n\u001b[32m     11\u001b[39m tmat = tmat_np \u001b[38;5;28;01mif\u001b[39;00m backend == \u001b[33m\"\u001b[39m\u001b[33mnumpy\u001b[39m\u001b[33m\"\u001b[39m \u001b[38;5;28;01melse\u001b[39;00m torch.tensor(tmat_np, dtype=odd_angle.dtype)\n\u001b[32m     13\u001b[39m even_unitary = expm(-\u001b[32m1\u001b[39mj * even_angle * tmat)\n",
      "\u001b[36mFile \u001b[39m\u001b[32m~/.conda/envs/qaravan-env-final/lib/python3.11/site-packages/qaravan/core/hamiltonians.py:278\u001b[39m, in \u001b[36mChiralHeisenberg.primitive_matrices\u001b[39m\u001b[34m(self)\u001b[39m\n\u001b[32m    276\u001b[39m \u001b[38;5;250m\u001b[39m\u001b[33;03m\"\"\" returns small 8 by 8 matrix for triangle primitives and 4 by 4 matrix for edge primitives \"\"\"\u001b[39;00m\n\u001b[32m    277\u001b[39m triangle_terms = \u001b[38;5;28mself\u001b[39m.pairwise_terms([(\u001b[32m0\u001b[39m,\u001b[32m1\u001b[39m), (\u001b[32m1\u001b[39m,\u001b[32m2\u001b[39m), (\u001b[32m0\u001b[39m,\u001b[32m2\u001b[39m)]) + \u001b[38;5;28mself\u001b[39m.chiral_terms((\u001b[32m0\u001b[39m,\u001b[32m1\u001b[39m,\u001b[32m2\u001b[39m))\n\u001b[32m--> \u001b[39m\u001b[32m278\u001b[39m tmat = \u001b[38;5;28msum\u001b[39m(\u001b[43m[\u001b[49m\u001b[43mcoeff\u001b[49m\u001b[43m \u001b[49m\u001b[43m*\u001b[49m\u001b[43m \u001b[49m\u001b[43membed_operator\u001b[49m\u001b[43m(\u001b[49m\u001b[32;43m3\u001b[39;49m\u001b[43m,\u001b[49m\u001b[43m \u001b[49m\u001b[43msites\u001b[49m\u001b[43m,\u001b[49m\u001b[43m \u001b[49m\u001b[43m[\u001b[49m\u001b[43mpauli_mapping\u001b[49m\u001b[43m[\u001b[49m\u001b[43mop\u001b[49m\u001b[43m]\u001b[49m\u001b[43m \u001b[49m\u001b[38;5;28;43;01mfor\u001b[39;49;00m\u001b[43m \u001b[49m\u001b[43mop\u001b[49m\u001b[43m \u001b[49m\u001b[38;5;129;43;01min\u001b[39;49;00m\u001b[43m \u001b[49m\u001b[43mlocal_ops\u001b[49m\u001b[43m]\u001b[49m\u001b[43m,\u001b[49m\u001b[43m \u001b[49m\u001b[43mfactor\u001b[49m\u001b[43m=\u001b[49m\u001b[38;5;28;43;01mTrue\u001b[39;49;00m\u001b[43m)\u001b[49m\u001b[43m \u001b[49m\u001b[38;5;28;43;01mfor\u001b[39;49;00m\u001b[43m \u001b[49m\u001b[43mcoeff\u001b[49m\u001b[43m,\u001b[49m\u001b[43m \u001b[49m\u001b[43msites\u001b[49m\u001b[43m,\u001b[49m\u001b[43m \u001b[49m\u001b[43mlocal_ops\u001b[49m\u001b[43m \u001b[49m\u001b[38;5;129;43;01min\u001b[39;49;00m\u001b[43m \u001b[49m\u001b[43mtriangle_terms\u001b[49m\u001b[43m]\u001b[49m)\n\u001b[32m    280\u001b[39m edge_terms = \u001b[38;5;28mself\u001b[39m.pairwise_terms([(\u001b[32m0\u001b[39m,\u001b[32m1\u001b[39m),])\n\u001b[32m    281\u001b[39m emat = \u001b[38;5;28msum\u001b[39m([coeff * embed_operator(\u001b[32m2\u001b[39m, sites, [pauli_mapping[op] \u001b[38;5;28;01mfor\u001b[39;00m op \u001b[38;5;129;01min\u001b[39;00m local_ops], factor=\u001b[38;5;28;01mTrue\u001b[39;00m) \u001b[38;5;28;01mfor\u001b[39;00m coeff, sites, local_ops \u001b[38;5;129;01min\u001b[39;00m edge_terms])\n",
      "\u001b[36mFile \u001b[39m\u001b[32m~/.conda/envs/qaravan-env-final/lib/python3.11/site-packages/qaravan/core/hamiltonians.py:278\u001b[39m, in \u001b[36m<listcomp>\u001b[39m\u001b[34m(.0)\u001b[39m\n\u001b[32m    276\u001b[39m \u001b[38;5;250m\u001b[39m\u001b[33;03m\"\"\" returns small 8 by 8 matrix for triangle primitives and 4 by 4 matrix for edge primitives \"\"\"\u001b[39;00m\n\u001b[32m    277\u001b[39m triangle_terms = \u001b[38;5;28mself\u001b[39m.pairwise_terms([(\u001b[32m0\u001b[39m,\u001b[32m1\u001b[39m), (\u001b[32m1\u001b[39m,\u001b[32m2\u001b[39m), (\u001b[32m0\u001b[39m,\u001b[32m2\u001b[39m)]) + \u001b[38;5;28mself\u001b[39m.chiral_terms((\u001b[32m0\u001b[39m,\u001b[32m1\u001b[39m,\u001b[32m2\u001b[39m))\n\u001b[32m--> \u001b[39m\u001b[32m278\u001b[39m tmat = \u001b[38;5;28msum\u001b[39m([coeff * \u001b[43membed_operator\u001b[49m\u001b[43m(\u001b[49m\u001b[32;43m3\u001b[39;49m\u001b[43m,\u001b[49m\u001b[43m \u001b[49m\u001b[43msites\u001b[49m\u001b[43m,\u001b[49m\u001b[43m \u001b[49m\u001b[43m[\u001b[49m\u001b[43mpauli_mapping\u001b[49m\u001b[43m[\u001b[49m\u001b[43mop\u001b[49m\u001b[43m]\u001b[49m\u001b[43m \u001b[49m\u001b[38;5;28;43;01mfor\u001b[39;49;00m\u001b[43m \u001b[49m\u001b[43mop\u001b[49m\u001b[43m \u001b[49m\u001b[38;5;129;43;01min\u001b[39;49;00m\u001b[43m \u001b[49m\u001b[43mlocal_ops\u001b[49m\u001b[43m]\u001b[49m\u001b[43m,\u001b[49m\u001b[43m \u001b[49m\u001b[43mfactor\u001b[49m\u001b[43m=\u001b[49m\u001b[38;5;28;43;01mTrue\u001b[39;49;00m\u001b[43m)\u001b[49m \u001b[38;5;28;01mfor\u001b[39;00m coeff, sites, local_ops \u001b[38;5;129;01min\u001b[39;00m triangle_terms])\n\u001b[32m    280\u001b[39m edge_terms = \u001b[38;5;28mself\u001b[39m.pairwise_terms([(\u001b[32m0\u001b[39m,\u001b[32m1\u001b[39m),])\n\u001b[32m    281\u001b[39m emat = \u001b[38;5;28msum\u001b[39m([coeff * embed_operator(\u001b[32m2\u001b[39m, sites, [pauli_mapping[op] \u001b[38;5;28;01mfor\u001b[39;00m op \u001b[38;5;129;01min\u001b[39;00m local_ops], factor=\u001b[38;5;28;01mTrue\u001b[39;00m) \u001b[38;5;28;01mfor\u001b[39;00m coeff, sites, local_ops \u001b[38;5;129;01min\u001b[39;00m edge_terms])\n",
      "\u001b[36mFile \u001b[39m\u001b[32m~/.conda/envs/qaravan-env-final/lib/python3.11/site-packages/qaravan/core/gates.py:30\u001b[39m, in \u001b[36membed_operator\u001b[39m\u001b[34m(num_sites, active_sites, local_ops, local_dim, dense, factor)\u001b[39m\n\u001b[32m     28\u001b[39m \u001b[38;5;28;01mfor\u001b[39;00m site, op \u001b[38;5;129;01min\u001b[39;00m \u001b[38;5;28mzip\u001b[39m(active_sites, local_ops):\n\u001b[32m     29\u001b[39m     full_op[site] = sp.csr_matrix(op) \u001b[38;5;28;01mif\u001b[39;00m \u001b[38;5;129;01mnot\u001b[39;00m factor \u001b[38;5;28;01melse\u001b[39;00m sp.csr_matrix(op/\u001b[32m2\u001b[39m)\n\u001b[32m---> \u001b[39m\u001b[32m30\u001b[39m \u001b[38;5;28;01mreturn\u001b[39;00m \u001b[43mreduce\u001b[49m\u001b[43m(\u001b[49m\u001b[43msp\u001b[49m\u001b[43m.\u001b[49m\u001b[43mkron\u001b[49m\u001b[43m,\u001b[49m\u001b[43m \u001b[49m\u001b[43mfull_op\u001b[49m\u001b[43m)\u001b[49m\n",
      "\u001b[36mFile \u001b[39m\u001b[32m~/.conda/envs/qaravan-env-final/lib/python3.11/site-packages/scipy/sparse/_construct.py:507\u001b[39m, in \u001b[36mkron\u001b[39m\u001b[34m(A, B, format)\u001b[39m\n\u001b[32m    504\u001b[39m     csr_sparse = csr_matrix\n\u001b[32m    505\u001b[39m     coo_sparse = coo_matrix\n\u001b[32m--> \u001b[39m\u001b[32m507\u001b[39m B = \u001b[43mcoo_sparse\u001b[49m\u001b[43m(\u001b[49m\u001b[43mB\u001b[49m\u001b[43m)\u001b[49m\n\u001b[32m    508\u001b[39m \u001b[38;5;28;01mif\u001b[39;00m B.ndim != \u001b[32m2\u001b[39m:\n\u001b[32m    509\u001b[39m     \u001b[38;5;28;01mraise\u001b[39;00m \u001b[38;5;167;01mValueError\u001b[39;00m(\u001b[33mf\u001b[39m\u001b[33m\"\u001b[39m\u001b[33mkron requires 2D input arrays. `B` is \u001b[39m\u001b[38;5;132;01m{\u001b[39;00mB.ndim\u001b[38;5;132;01m}\u001b[39;00m\u001b[33mD.\u001b[39m\u001b[33m\"\u001b[39m)\n",
      "\u001b[36mFile \u001b[39m\u001b[32m~/.conda/envs/qaravan-env-final/lib/python3.11/site-packages/scipy/sparse/_coo.py:72\u001b[39m, in \u001b[36m_coo_base.__init__\u001b[39m\u001b[34m(self, arg1, shape, dtype, copy, maxprint)\u001b[39m\n\u001b[32m     70\u001b[39m     \u001b[38;5;28mself\u001b[39m.has_canonical_format = arg1.has_canonical_format\n\u001b[32m     71\u001b[39m \u001b[38;5;28;01melse\u001b[39;00m:\n\u001b[32m---> \u001b[39m\u001b[32m72\u001b[39m     coo = \u001b[43marg1\u001b[49m\u001b[43m.\u001b[49m\u001b[43mtocoo\u001b[49m\u001b[43m(\u001b[49m\u001b[43m)\u001b[49m\n\u001b[32m     73\u001b[39m     \u001b[38;5;28mself\u001b[39m.coords = \u001b[38;5;28mtuple\u001b[39m(coo.coords)\n\u001b[32m     74\u001b[39m     \u001b[38;5;28mself\u001b[39m.data = coo.data.astype(getdtype(dtype, coo), copy=\u001b[38;5;28;01mFalse\u001b[39;00m)\n",
      "\u001b[36mFile \u001b[39m\u001b[32m~/.conda/envs/qaravan-env-final/lib/python3.11/site-packages/scipy/sparse/_compressed.py:1161\u001b[39m, in \u001b[36m_cs_matrix.tocoo\u001b[39m\u001b[34m(self, copy)\u001b[39m\n\u001b[32m   1158\u001b[39m _sparsetools.expandptr(major_dim, \u001b[38;5;28mself\u001b[39m.indptr, major_indices)\n\u001b[32m   1159\u001b[39m coords = \u001b[38;5;28mself\u001b[39m._swap((major_indices, minor_indices))\n\u001b[32m-> \u001b[39m\u001b[32m1161\u001b[39m \u001b[38;5;28;01mreturn\u001b[39;00m \u001b[38;5;28;43mself\u001b[39;49m\u001b[43m.\u001b[49m\u001b[43m_coo_container\u001b[49m\u001b[43m(\u001b[49m\n\u001b[32m   1162\u001b[39m \u001b[43m    \u001b[49m\u001b[43m(\u001b[49m\u001b[38;5;28;43mself\u001b[39;49m\u001b[43m.\u001b[49m\u001b[43mdata\u001b[49m\u001b[43m,\u001b[49m\u001b[43m \u001b[49m\u001b[43mcoords\u001b[49m\u001b[43m)\u001b[49m\u001b[43m,\u001b[49m\u001b[43m \u001b[49m\u001b[38;5;28;43mself\u001b[39;49m\u001b[43m.\u001b[49m\u001b[43mshape\u001b[49m\u001b[43m,\u001b[49m\u001b[43m \u001b[49m\u001b[43mcopy\u001b[49m\u001b[43m=\u001b[49m\u001b[43mcopy\u001b[49m\u001b[43m,\u001b[49m\u001b[43m \u001b[49m\u001b[43mdtype\u001b[49m\u001b[43m=\u001b[49m\u001b[38;5;28;43mself\u001b[39;49m\u001b[43m.\u001b[49m\u001b[43mdtype\u001b[49m\n\u001b[32m   1163\u001b[39m \u001b[43m\u001b[49m\u001b[43m)\u001b[49m\n",
      "\u001b[36mFile \u001b[39m\u001b[32m~/.conda/envs/qaravan-env-final/lib/python3.11/site-packages/scipy/sparse/_coo.py:101\u001b[39m, in \u001b[36m_coo_base.__init__\u001b[39m\u001b[34m(self, arg1, shape, dtype, copy, maxprint)\u001b[39m\n\u001b[32m     98\u001b[39m \u001b[38;5;28;01mif\u001b[39;00m \u001b[38;5;28mlen\u001b[39m(\u001b[38;5;28mself\u001b[39m._shape) > \u001b[32m2\u001b[39m:\n\u001b[32m     99\u001b[39m     \u001b[38;5;28mself\u001b[39m.coords = \u001b[38;5;28mtuple\u001b[39m(idx.astype(np.int64, copy=\u001b[38;5;28;01mFalse\u001b[39;00m) \u001b[38;5;28;01mfor\u001b[39;00m idx \u001b[38;5;129;01min\u001b[39;00m \u001b[38;5;28mself\u001b[39m.coords)\n\u001b[32m--> \u001b[39m\u001b[32m101\u001b[39m \u001b[38;5;28;43mself\u001b[39;49m\u001b[43m.\u001b[49m\u001b[43m_check\u001b[49m\u001b[43m(\u001b[49m\u001b[43m)\u001b[49m\n",
      "\u001b[36mFile \u001b[39m\u001b[32m~/.conda/envs/qaravan-env-final/lib/python3.11/site-packages/scipy/sparse/_coo.py:221\u001b[39m, in \u001b[36m_coo_base._check\u001b[39m\u001b[34m(self)\u001b[39m\n\u001b[32m    219\u001b[39m \u001b[38;5;28;01mif\u001b[39;00m \u001b[38;5;28mself\u001b[39m.nnz > \u001b[32m0\u001b[39m:\n\u001b[32m    220\u001b[39m     \u001b[38;5;28;01mfor\u001b[39;00m i, idx \u001b[38;5;129;01min\u001b[39;00m \u001b[38;5;28menumerate\u001b[39m(\u001b[38;5;28mself\u001b[39m.coords):\n\u001b[32m--> \u001b[39m\u001b[32m221\u001b[39m         \u001b[38;5;28;01mif\u001b[39;00m \u001b[43midx\u001b[49m\u001b[43m.\u001b[49m\u001b[43mmax\u001b[49m\u001b[43m(\u001b[49m\u001b[43m)\u001b[49m >= \u001b[38;5;28mself\u001b[39m.shape[i]:\n\u001b[32m    222\u001b[39m             \u001b[38;5;28;01mraise\u001b[39;00m \u001b[38;5;167;01mValueError\u001b[39;00m(\u001b[33mf\u001b[39m\u001b[33m'\u001b[39m\u001b[33maxis \u001b[39m\u001b[38;5;132;01m{\u001b[39;00mi\u001b[38;5;132;01m}\u001b[39;00m\u001b[33m index \u001b[39m\u001b[38;5;132;01m{\u001b[39;00midx.max()\u001b[38;5;132;01m}\u001b[39;00m\u001b[33m exceeds \u001b[39m\u001b[33m'\u001b[39m\n\u001b[32m    223\u001b[39m                              \u001b[33mf\u001b[39m\u001b[33m'\u001b[39m\u001b[33mmatrix dimension \u001b[39m\u001b[38;5;132;01m{\u001b[39;00m\u001b[38;5;28mself\u001b[39m.shape[i]\u001b[38;5;132;01m}\u001b[39;00m\u001b[33m'\u001b[39m)\n\u001b[32m    224\u001b[39m         \u001b[38;5;28;01mif\u001b[39;00m idx.min() < \u001b[32m0\u001b[39m:\n",
      "\u001b[36mFile \u001b[39m\u001b[32m~/.conda/envs/qaravan-env-final/lib/python3.11/site-packages/numpy/core/_methods.py:41\u001b[39m, in \u001b[36m_amax\u001b[39m\u001b[34m(a, axis, out, keepdims, initial, where)\u001b[39m\n\u001b[32m     39\u001b[39m \u001b[38;5;28;01mdef\u001b[39;00m\u001b[38;5;250m \u001b[39m\u001b[34m_amax\u001b[39m(a, axis=\u001b[38;5;28;01mNone\u001b[39;00m, out=\u001b[38;5;28;01mNone\u001b[39;00m, keepdims=\u001b[38;5;28;01mFalse\u001b[39;00m,\n\u001b[32m     40\u001b[39m           initial=_NoValue, where=\u001b[38;5;28;01mTrue\u001b[39;00m):\n\u001b[32m---> \u001b[39m\u001b[32m41\u001b[39m     \u001b[38;5;28;01mreturn\u001b[39;00m umr_maximum(a, axis, \u001b[38;5;28;01mNone\u001b[39;00m, out, keepdims, initial, where)\n",
      "\u001b[31mKeyboardInterrupt\u001b[39m: "
     ]
    }
   ],
   "source": []
  },
  {
   "cell_type": "code",
   "execution_count": null,
   "metadata": {},
   "outputs": [
    {
     "name": "stdout",
     "output_type": "stream",
     "text": [
      "Fitted slope: -1.0061233256528448\n"
     ]
    },
    {
     "data": {
      "text/plain": [
       "<matplotlib.legend.Legend at 0x13acf2010>"
      ]
     },
     "execution_count": 71,
     "metadata": {},
     "output_type": "execute_result"
    },
    {
     "data": {
      "image/png": "[encoded data removed]",
      "text/plain": [
       "<Figure size 640x480 with 1 Axes>"
      ]
     },
     "metadata": {},
     "output_type": "display_data"
    }
   ],
   "source": [
    "# testing hva_circ() by confirming Trotter error\n",
    "\n",
    "time = 1\n",
    "init_state = random_sv(ham.num_sites)\n",
    "final_state = ham.evolve(time, init_state)\n",
    "\n",
    "step_opts = [1, 2, 4, 8, 16, 32, 64, 128]\n",
    "err_list = []\n",
    "for num_steps in step_opts:\n",
    "    step_size = time / num_steps\n",
    "    params = [step_size] * num_steps * 2\n",
    "    circ = hva_circ(params, ham)\n",
    "\n",
    "    sim = StatevectorSim(circ, init_state=init_state)\n",
    "    trotter_state = sim.run(progress_bar=False).reshape(2**ham.num_sites)\n",
    "    error = np.linalg.norm(trotter_state - final_state)\n",
    "    err_list.append(error)\n",
    "\n",
    "log_err = np.log(err_list)\n",
    "log_step = np.log(step_opts)\n",
    "slope, intercept = np.polyfit(log_step, log_err, 1)\n",
    "print(f\"Fitted slope: {slope}\")\n",
    "\n",
    "plt.scatter(step_opts, err_list)\n",
    "plt.plot(step_opts, np.exp(intercept) * np.array(step_opts)**slope, label='fit', color='red')\n",
    "plt.xscale('log')\n",
    "plt.yscale('log')\n",
    "plt.xlabel('Number of steps')\n",
    "plt.ylabel('Error')\n",
    "plt.legend()"
   ]
  },
  {
   "cell_type": "code",
   "execution_count": null,
   "metadata": {},
   "outputs": [
    {
     "data": {
      "text/plain": [
       "1.0"
      ]
     },
     "execution_count": 82,
     "metadata": {},
     "output_type": "execute_result"
    }
   ],
   "source": [
    "num_layers = 4\n",
    "params = np.random.rand(num_layers * 2) * 2 \n",
    "hva_cost(params, ham, true_gs)"
   ]
  },
  {
   "cell_type": "code",
   "execution_count": null,
   "metadata": {},
   "outputs": [],
   "source": [
    "# set up ansatz and optimizer\n",
    "num_layers = 2\n",
    "skeleton = brickwall_skeleton(n, num_layers)\n",
    "params = torch.nn.Parameter(torch.randn(15*len(skeleton)))\n",
    "optimizer = torch.optim.Adam([params], lr=0.05)\n",
    "\n",
    "\n",
    "# set up RunContext for logging, checkpointing, and stopping\n",
    "context = RunContext(\n",
    "    progress_interval=10,\n",
    "    max_iter=10000,\n",
    "    checkpoint_file=\"checkpoint.pickle\",\n",
    "    checkpoint_interval=100,\n",
    "    resume=False,\n",
    "    convergence_check=True,\n",
    "    stop_ratio=1e-8, \n",
    "    stop_absolute=1e-7\n",
    ")\n",
    "\n",
    "# initialize the state of the run\n",
    "cost_list = []\n",
    "run_state = {\n",
    "    \"cost_list\": cost_list,\n",
    "    \"step\": context.step\n",
    "}\n",
    "\n",
    "while True: \n",
    "    cost = infidelity(params, skeleton, target_sv)\n",
    "    cost_list.append(cost.item())\n",
    "    optimizer.zero_grad()\n",
    "    cost.backward()\n",
    "    optimizer.step()\n",
    "\n",
    "    # Update run state\n",
    "    run_state[\"step\"] += 1\n",
    "    run_state[\"cost_list\"] = cost_list\n",
    "\n",
    "    # Let RunContext handle logging, checkpointing, and stopping\n",
    "    if context.step_update(run_state):\n",
    "        print(f\"Terminating at step {run_state['step']} with cost {cost_list[-1]}\")\n",
    "        break"
   ]
  },
  {
   "cell_type": "code",
   "execution_count": null,
   "metadata": {},
   "outputs": [],
   "source": []
  },
  {
   "cell_type": "code",
   "execution_count": null,
   "metadata": {},
   "outputs": [],
   "source": [
    "\n",
    "def max_overlap(target_sv, num_layers=2, lr=0.05, func=tfi_hva_cost, gamma=0.1, patience=200):\n",
    "    num_sites = int(np.log2(len(target_sv)))\n",
    "    num_params = num_layers * 2 if func == tfi_hva_cost else num_layers\n",
    "    params = torch.nn.Parameter(torch.randn(num_params))\n",
    "    optimizer = torch.optim.AdamW([params], lr=lr, weight_decay=1e-4)\n",
    "    scheduler = torch.optim.lr_scheduler.ReduceLROnPlateau(\n",
    "        optimizer,\n",
    "        mode='min',             \n",
    "        factor=gamma,           \n",
    "        patience=patience,      \n",
    "        threshold=1e-4,         \n",
    "        threshold_mode='rel'\n",
    "    )\n",
    "\n",
    "    context = RunContext(\n",
    "        progress_interval=10,\n",
    "        max_iter=10000,\n",
    "        checkpoint_file=\"hva_checkpoint.pickle\",\n",
    "        checkpoint_interval=100,\n",
    "        resume=False,\n",
    "        convergence_check=True,\n",
    "        stop_ratio=1e-18,\n",
    "        stop_absolute=1e-7\n",
    "    )\n",
    "\n",
    "    cost_list = []\n",
    "    run_state = {\n",
    "        \"cost_list\": cost_list,\n",
    "        \"step\": context.step\n",
    "    }\n",
    "\n",
    "    while True:\n",
    "        cost = func(params, num_sites, target_sv)\n",
    "        cost_val = cost.item()\n",
    "        cost_list.append(cost_val)\n",
    "        optimizer.zero_grad()\n",
    "        cost.backward()\n",
    "        optimizer.step()\n",
    "\n",
    "        old_lr = optimizer.param_groups[0]['lr']\n",
    "        scheduler.step(cost_val)\n",
    "        new_lr = optimizer.param_groups[0]['lr']\n",
    "        if new_lr < old_lr:\n",
    "            print(f\"[LR Drop] Step {run_state['step']}: cost = {cost:.2e}, LR dropped from {old_lr:.2e} to {new_lr:.2e}\")\n",
    "\n",
    "        run_state[\"step\"] += 1\n",
    "        run_state[\"cost_list\"] = cost_list\n",
    "\n",
    "        if context.step_update(run_state): \n",
    "            break\n",
    "\n",
    "    return cost_list, params"
   ]
  }
 ],
 "metadata": {
  "kernelspec": {
   "display_name": "qaravan-env-final",
   "language": "python",
   "name": "python3"
  },
  "language_info": {
   "codemirror_mode": {
    "name": "ipython",
    "version": 3
   },
   "file_extension": ".py",
   "mimetype": "text/x-python",
   "name": "python",
   "nbconvert_exporter": "python",
   "pygments_lexer": "ipython3",
   "version": "3.11.11"
  },
  "orig_nbformat": 4
 },
 "nbformat": 4,
 "nbformat_minor": 2
}
