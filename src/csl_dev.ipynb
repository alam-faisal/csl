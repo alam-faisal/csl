{
 "cells": [
  {
   "cell_type": "markdown",
   "metadata": {},
   "source": [
    "# Script"
   ]
  },
  {
   "cell_type": "code",
   "execution_count": 1,
   "metadata": {},
   "outputs": [
    {
     "data": {
      "image/png": "[encoded data removed]",
      "text/plain": [
       "<Figure size 800x600 with 1 Axes>"
      ]
     },
     "metadata": {},
     "output_type": "display_data"
    }
   ],
   "source": [
    "from main import *\n",
    "row_layout = [{'num_cells': 1, 'shift': 0.0}, \n",
    "             {'num_cells': 2, 'shift': -0.5}, \n",
    "             {'num_cells': 3, 'shift': -1}]\n",
    "sp = [0,1,9,11,16,17]\n",
    "ham = interp_ham(row_layout, sp, 0.35 * np.pi)\n",
    "ham.lattice.plot()"
   ]
  },
  {
   "cell_type": "code",
   "execution_count": 2,
   "metadata": {},
   "outputs": [
    {
     "name": "stdout",
     "output_type": "stream",
     "text": [
      "[mv 10] Est. Energy: -0.5583300057 (saved)\n",
      "[mv 20] Est. Energy: -2.7898668003 (saved)\n",
      "[mv 30] Est. Energy: -2.8790409382 (saved)\n",
      "[mv 40] Est. Energy: -2.2225811610 (saved)\n",
      "[mv 50] Est. Energy: -0.4571723610 (saved)\n",
      "[mv 60] Est. Energy: -2.3915875414 (saved)\n",
      "[mv 70] Est. Energy: -2.0302138918 (saved)\n",
      "[mv 80] Est. Energy: -1.0615914919 (saved)\n",
      "[mv 90] Est. Energy: -2.4153585678 (saved)\n",
      "Final ground state and energy saved to ground_state_debug.pkl\n"
     ]
    },
    {
     "data": {
      "text/plain": [
       "np.float64(-3.2402151138885484)"
      ]
     },
     "execution_count": 2,
     "metadata": {},
     "output_type": "execute_result"
    }
   ],
   "source": [
    "ge, gs = ground(ham)\n",
    "ge"
   ]
  },
  {
   "cell_type": "markdown",
   "metadata": {},
   "source": [
    "# State prep"
   ]
  },
  {
   "cell_type": "markdown",
   "metadata": {},
   "source": [
    "## 12 qubits"
   ]
  },
  {
   "cell_type": "code",
   "execution_count": 38,
   "metadata": {},
   "outputs": [],
   "source": [
    "from main import *\n",
    "from qaravan.core import brickwall_skeleton, two_local_circ\n",
    "from qaravan.tensorQ import environment_state_prep\n",
    "\n",
    "row_layout = [{'num_cells': 1, 'shift': 0.0}, \n",
    "             {'num_cells': 2, 'shift': -0.5}, \n",
    "             {'num_cells': 3, 'shift': -1}]\n",
    "sp = [0,1,9,11,16,17]\n",
    "ham = interp_ham(row_layout, sp, 0.35 * np.pi)\n",
    "\n",
    "ge, gs = ground(ham, quiet=True)"
   ]
  },
  {
   "cell_type": "code",
   "execution_count": null,
   "metadata": {},
   "outputs": [],
   "source": [
    "gates_per_layer = 5\n",
    "num_instances = 5\n",
    "best_cost = []\n",
    "worst_cost = []\n",
    "for num_layers in [4,8,12,16,20,24]:\n",
    "    geom_skeleton = geometric_skeleton(ham.lattice, gates_per_layer, num_layers)\n",
    "    cost_against_instance = []\n",
    "    for _ in range(num_instances):\n",
    "        circ, cost_list = environment_state_prep(geom_skeleton, gs, num_steps=1000, stop_ratio=1e-6, progress_interval=200)\n",
    "        cost_against_instance.append(cost_list[-1])\n",
    "    \n",
    "    best_cost.append(1-max(cost_against_instance))\n",
    "    worst_cost.append(1-min(cost_against_instance))"
   ]
  },
  {
   "cell_type": "code",
   "execution_count": null,
   "metadata": {},
   "outputs": [],
   "source": [
    "plt.plot([4, 8, 12, 16, 20, 24], best_cost, label='Best cost')\n",
    "plt.plot([4, 8, 12, 16, 20, 24], worst_cost, label='Worst cost')\n",
    "plt.yscale('log')\n",
    "plt.xlabel('Number of layers')\n",
    "plt.ylabel('Cost')\n",
    "plt.legend()"
   ]
  },
  {
   "cell_type": "markdown",
   "metadata": {},
   "source": [
    "## 6 qubits"
   ]
  },
  {
   "cell_type": "code",
   "execution_count": 29,
   "metadata": {},
   "outputs": [],
   "source": [
    "from main import *\n",
    "from qaravan.core import brickwall_skeleton, two_local_circ\n",
    "from qaravan.tensorQ import environment_state_prep\n",
    "\n",
    "row_layout = [{'num_cells': 2, 'shift': -0.5}, \n",
    "             {'num_cells': 1, 'shift': 0.0}]\n",
    "sp = [0,4,8]\n",
    "ham = interp_ham(row_layout, sp, 0.35 * np.pi)\n",
    "ge, gs = ground(ham, quiet=True)"
   ]
  },
  {
   "cell_type": "code",
   "execution_count": 30,
   "metadata": {},
   "outputs": [
    {
     "name": "stdout",
     "output_type": "stream",
     "text": [
      "Step 0: cost = 0.1735873041475644\n",
      "Plateau with cost 0.13700345613890064 at step 14\n"
     ]
    }
   ],
   "source": [
    "geom_skeleton = geometric_skeleton(ham.lattice, 5, 2)\n",
    "circ, cost_list = environment_state_prep(gs, skeleton=geom_skeleton, max_iter=500, stop_ratio=1e-6, progress_interval=200)"
   ]
  },
  {
   "cell_type": "code",
   "execution_count": 31,
   "metadata": {},
   "outputs": [
    {
     "name": "stdout",
     "output_type": "stream",
     "text": [
      "Step 0: cost = 0.13626451569050957\n",
      "Step 200: cost = 0.0005629710566097401\n",
      "Step 400: cost = 0.0003910913763700563\n",
      "Max iterations reached with cost 0.00034746906993543547\n"
     ]
    }
   ],
   "source": [
    "new_circ = circ + two_local_circ(geom_skeleton, mag=1e-2)\n",
    "circ, cost_list = environment_state_prep(gs, circ=new_circ, max_iter=500, stop_ratio=1e-6, progress_interval=200)"
   ]
  },
  {
   "cell_type": "code",
   "execution_count": 33,
   "metadata": {},
   "outputs": [
    {
     "name": "stdout",
     "output_type": "stream",
     "text": [
      "Step 0: cost = 0.87436943588085\n",
      "Step 200: cost = 0.9973449581117553\n",
      "Step 400: cost = 0.9984880782770307\n",
      "Maximum iteration reached with: 0.9986542243231469\n",
      "Step 0: cost = 0.8920696980009468\n",
      "Step 200: cost = 0.9975285470689521\n",
      "Plateau with cost 0.9993156866053418 at step 378\n",
      "Maximum iteration reached with: 0.9993156866053418\n",
      "Step 0: cost = 0.878540117423454\n",
      "Plateau with cost 0.9980490591442543 at step 178\n",
      "Maximum iteration reached with: 0.9980490591442543\n",
      "Step 0: cost = 0.9167317761895117\n",
      "Step 200: cost = 0.9968064556645537\n",
      "Plateau with cost 0.997131285907044 at step 325\n",
      "Maximum iteration reached with: 0.997131285907044\n",
      "Step 0: cost = 0.8886621832015331\n",
      "Step 200: cost = 0.9958710101323328\n",
      "Plateau with cost 0.9958898775036816 at step 216\n",
      "Maximum iteration reached with: 0.9958898775036816\n",
      "Step 0: cost = 0.9292274053459202\n",
      "Plateau with cost 0.9999980558446608 at step 20\n",
      "Maximum iteration reached with: 0.9999980558446608\n",
      "Step 0: cost = 0.9276506371028448\n",
      "Plateau with cost 0.9999969297466059 at step 28\n",
      "Maximum iteration reached with: 0.9999969297466059\n",
      "Step 0: cost = 0.9136204867336797\n",
      "Plateau with cost 0.9999980034503627 at step 18\n",
      "Maximum iteration reached with: 0.9999980034503627\n",
      "Step 0: cost = 0.9294378233863888\n",
      "Plateau with cost 0.9999980849605792 at step 15\n",
      "Maximum iteration reached with: 0.9999980849605792\n",
      "Step 0: cost = 0.9407071841949117\n",
      "Plateau with cost 0.9999976932526399 at step 18\n",
      "Maximum iteration reached with: 0.9999976932526399\n",
      "Step 0: cost = 0.961141018904473\n",
      "Plateau with cost 0.999999900053682 at step 8\n",
      "Maximum iteration reached with: 0.999999900053682\n",
      "Step 0: cost = 0.9733614912981277\n",
      "Plateau with cost 0.9999998069047679 at step 7\n",
      "Maximum iteration reached with: 0.9999998069047679\n",
      "Step 0: cost = 0.9667136625324323\n",
      "Plateau with cost 0.9999998558983094 at step 8\n",
      "Maximum iteration reached with: 0.9999998558983094\n",
      "Step 0: cost = 0.9670416337708958\n",
      "Plateau with cost 0.9999999391342871 at step 7\n",
      "Maximum iteration reached with: 0.9999999391342871\n",
      "Step 0: cost = 0.975415708266572\n",
      "Plateau with cost 0.9999998836803923 at step 6\n",
      "Maximum iteration reached with: 0.9999998836803923\n",
      "Step 0: cost = 0.9826810896215497\n",
      "Plateau with cost 0.9999999848455464 at step 5\n",
      "Maximum iteration reached with: 0.9999999848455464\n",
      "Step 0: cost = 0.9941613792133273\n",
      "Plateau with cost 0.999999990533069 at step 5\n",
      "Maximum iteration reached with: 0.999999990533069\n",
      "Step 0: cost = 0.9901295245133079\n",
      "Plateau with cost 0.9999999898696147 at step 5\n",
      "Maximum iteration reached with: 0.9999999898696147\n",
      "Step 0: cost = 0.9912127319365701\n",
      "Plateau with cost 0.9999999342197176 at step 4\n",
      "Maximum iteration reached with: 0.9999999342197176\n",
      "Step 0: cost = 0.9918945032343389\n",
      "Plateau with cost 0.999999973174536 at step 4\n",
      "Maximum iteration reached with: 0.999999973174536\n",
      "Step 0: cost = 0.9977289682694575\n",
      "Plateau with cost 0.9999999877551531 at step 3\n",
      "Maximum iteration reached with: 0.9999999877551531\n",
      "Step 0: cost = 0.9971297694041927\n",
      "Plateau with cost 0.999999991284678 at step 3\n",
      "Maximum iteration reached with: 0.999999991284678\n",
      "Step 0: cost = 0.9965956148463879\n",
      "Plateau with cost 0.9999999990021143 at step 4\n",
      "Maximum iteration reached with: 0.9999999990021143\n",
      "Step 0: cost = 0.9952335070533185\n",
      "Plateau with cost 0.9999999982448766 at step 4\n",
      "Maximum iteration reached with: 0.9999999982448766\n",
      "Step 0: cost = 0.9958036903278605\n",
      "Plateau with cost 0.9999999991065408 at step 4\n",
      "Maximum iteration reached with: 0.9999999991065408\n",
      "Step 0: cost = 0.9979715966010587\n",
      "Plateau with cost 0.9999999995358331 at step 3\n",
      "Maximum iteration reached with: 0.9999999995358331\n",
      "Step 0: cost = 0.9976620162778163\n",
      "Plateau with cost 0.9999999995935106 at step 3\n",
      "Maximum iteration reached with: 0.9999999995935106\n",
      "Step 0: cost = 0.9990072494247254\n",
      "Plateau with cost 0.9999999997318338 at step 3\n",
      "Maximum iteration reached with: 0.9999999997318338\n",
      "Step 0: cost = 0.9984416231105164\n",
      "Plateau with cost 0.9999999990423368 at step 3\n",
      "Maximum iteration reached with: 0.9999999990423368\n",
      "Step 0: cost = 0.9983171976395713\n",
      "Plateau with cost 0.999999999431063 at step 3\n",
      "Maximum iteration reached with: 0.999999999431063\n"
     ]
    }
   ],
   "source": [
    "gates_per_layer = 5\n",
    "num_instances = 5\n",
    "best_cost = []\n",
    "worst_cost = []\n",
    "for num_layers in [4,8,12,16,20,24]:\n",
    "    geom_skeleton = geometric_skeleton(ham.lattice, gates_per_layer, num_layers)\n",
    "    cost_against_instance = []\n",
    "    for _ in range(num_instances):\n",
    "        circ, cost_list = environment_state_prep(geom_skeleton, gs, num_steps=500, stop_ratio=1e-6, progress_interval=200)\n",
    "        cost_against_instance.append(cost_list[-1])\n",
    "    \n",
    "    best_cost.append(1-max(cost_against_instance))\n",
    "    worst_cost.append(1-min(cost_against_instance))"
   ]
  },
  {
   "cell_type": "code",
   "execution_count": 34,
   "metadata": {},
   "outputs": [
    {
     "data": {
      "text/plain": [
       "<matplotlib.legend.Legend at 0x1206c9c50>"
      ]
     },
     "execution_count": 34,
     "metadata": {},
     "output_type": "execute_result"
    },
    {
     "data": {
      "image/png": "[encoded data removed]",
      "text/plain": [
       "<Figure size 640x480 with 1 Axes>"
      ]
     },
     "metadata": {},
     "output_type": "display_data"
    }
   ],
   "source": [
    "plt.plot([4, 8, 12, 16, 20, 24], best_cost, label='Best cost')\n",
    "plt.plot([4, 8, 12, 16, 20, 24], worst_cost, label='Worst cost')\n",
    "plt.yscale('log')\n",
    "plt.xlabel('Number of layers')\n",
    "plt.ylabel('Cost')\n",
    "plt.legend()"
   ]
  },
  {
   "cell_type": "markdown",
   "metadata": {},
   "source": [
    "## 24 qubits"
   ]
  },
  {
   "cell_type": "code",
   "execution_count": 3,
   "metadata": {},
   "outputs": [],
   "source": [
    "from main import *\n",
    "\n",
    "row_layout = [{'num_cells': 3, 'shift': 0.0}, \n",
    "             {'num_cells': 4, 'shift': -0.5}, \n",
    "             {'num_cells': 3, 'shift': 0.0}, \n",
    "             {'num_cells': 2, 'shift': 0.5}]\n",
    "sp = [0,1,6,7,9,11,30,32,34,35,19,20]\n",
    "ham = interp_ham(row_layout, sp, 0.35 * np.pi)"
   ]
  },
  {
   "cell_type": "code",
   "execution_count": 2,
   "metadata": {},
   "outputs": [
    {
     "name": "stdout",
     "output_type": "stream",
     "text": [
      "Residual: 7.79e-01 for eigenvalue estimate: -5.754822\n",
      "Residual: 6.66e-01 for eigenvalue estimate: -5.960018\n",
      "Residual: 5.70e-01 for eigenvalue estimate: -6.107988\n",
      "Residual: 4.90e-01 for eigenvalue estimate: -6.215886\n",
      "Residual: 4.21e-01 for eigenvalue estimate: -6.294995\n",
      "Residual: 3.64e-01 for eigenvalue estimate: -6.353382\n",
      "Residual: 3.19e-01 for eigenvalue estimate: -6.397374\n",
      "Residual: 2.81e-01 for eigenvalue estimate: -6.431309\n",
      "Residual: 2.50e-01 for eigenvalue estimate: -6.457887\n",
      "Residual: 2.25e-01 for eigenvalue estimate: -6.479057\n",
      "Residual: 2.04e-01 for eigenvalue estimate: -6.496333\n",
      "Residual: 1.86e-01 for eigenvalue estimate: -6.510640\n",
      "Residual: 1.68e-01 for eigenvalue estimate: -6.522404\n",
      "Residual: 1.68e-01 for eigenvalue estimate: -6.522404\n",
      "Residual: 9.69e-02 for eigenvalue estimate: -6.527102\n",
      "Residual: 7.49e-02 for eigenvalue estimate: -6.530860\n",
      "Residual: 6.30e-02 for eigenvalue estimate: -6.534462\n",
      "Residual: 5.52e-02 for eigenvalue estimate: -6.537969\n",
      "Residual: 4.93e-02 for eigenvalue estimate: -6.541386\n",
      "Residual: 4.44e-02 for eigenvalue estimate: -6.544723\n",
      "Residual: 4.01e-02 for eigenvalue estimate: -6.547974\n",
      "Residual: 4.60e-02 for eigenvalue estimate: -6.555723\n",
      "Residual: 3.57e-02 for eigenvalue estimate: -6.556167\n",
      "Residual: 3.13e-02 for eigenvalue estimate: -6.556918\n",
      "Residual: 2.75e-02 for eigenvalue estimate: -6.557918\n",
      "Residual: 2.34e-02 for eigenvalue estimate: -6.559102\n",
      "Residual: 2.17e-02 for eigenvalue estimate: -6.559697\n",
      "Residual: 2.00e-02 for eigenvalue estimate: -6.560463\n",
      "Residual: 1.85e-02 for eigenvalue estimate: -6.561260\n",
      "Residual: 1.70e-02 for eigenvalue estimate: -6.562059\n",
      "Residual: 1.59e-02 for eigenvalue estimate: -6.562669\n",
      "Residual: 1.48e-02 for eigenvalue estimate: -6.563374\n",
      "Residual: 1.69e-02 for eigenvalue estimate: -6.565228\n",
      "Residual: 1.51e-02 for eigenvalue estimate: -6.565300\n",
      "Residual: 1.40e-02 for eigenvalue estimate: -6.565496\n",
      "Residual: 1.23e-02 for eigenvalue estimate: -6.565850\n",
      "Residual: 1.07e-02 for eigenvalue estimate: -6.566176\n",
      "Residual: 1.01e-02 for eigenvalue estimate: -6.566315\n",
      "Residual: 9.52e-03 for eigenvalue estimate: -6.566492\n",
      "Residual: 9.03e-03 for eigenvalue estimate: -6.566684\n",
      "Residual: 8.56e-03 for eigenvalue estimate: -6.566895\n",
      "Residual: 8.19e-03 for eigenvalue estimate: -6.567083\n",
      "Residual: 7.81e-03 for eigenvalue estimate: -6.567290\n",
      "Residual: 7.48e-03 for eigenvalue estimate: -6.567487\n",
      "Residual: 7.20e-03 for eigenvalue estimate: -6.567671\n",
      "Residual: 8.83e-03 for eigenvalue estimate: -6.568789\n",
      "Residual: 8.17e-03 for eigenvalue estimate: -6.568809\n",
      "Residual: 7.70e-03 for eigenvalue estimate: -6.568872\n",
      "Residual: 6.96e-03 for eigenvalue estimate: -6.568996\n",
      "Residual: 6.44e-03 for eigenvalue estimate: -6.569092\n",
      "Residual: 5.94e-03 for eigenvalue estimate: -6.569192\n",
      "Residual: 5.54e-03 for eigenvalue estimate: -6.569273\n",
      "Residual: 5.33e-03 for eigenvalue estimate: -6.569325\n",
      "Residual: 5.17e-03 for eigenvalue estimate: -6.569387\n",
      "Residual: 5.02e-03 for eigenvalue estimate: -6.569459\n",
      "Residual: 4.83e-03 for eigenvalue estimate: -6.569556\n",
      "Residual: 4.65e-03 for eigenvalue estimate: -6.569657\n",
      "Residual: 4.52e-03 for eigenvalue estimate: -6.569732\n",
      "Residual: 4.43e-03 for eigenvalue estimate: -6.569794\n",
      "Residual: 7.73e-03 for eigenvalue estimate: -6.570643\n",
      "Residual: 7.07e-03 for eigenvalue estimate: -6.570658\n",
      "Residual: 6.50e-03 for eigenvalue estimate: -6.570709\n",
      "Residual: 6.01e-03 for eigenvalue estimate: -6.570768\n",
      "Residual: 5.59e-03 for eigenvalue estimate: -6.570832\n",
      "Residual: 5.10e-03 for eigenvalue estimate: -6.570914\n",
      "Residual: 4.57e-03 for eigenvalue estimate: -6.570995\n",
      "Residual: 4.23e-03 for eigenvalue estimate: -6.571045\n",
      "Residual: 4.09e-03 for eigenvalue estimate: -6.571072\n",
      "Residual: 3.95e-03 for eigenvalue estimate: -6.571106\n",
      "Residual: 3.83e-03 for eigenvalue estimate: -6.571146\n",
      "Residual: 3.71e-03 for eigenvalue estimate: -6.571192\n",
      "Residual: 3.59e-03 for eigenvalue estimate: -6.571241\n",
      "Residual: 3.48e-03 for eigenvalue estimate: -6.571291\n",
      "Residual: 3.39e-03 for eigenvalue estimate: -6.571334\n",
      "Residual: 3.33e-03 for eigenvalue estimate: -6.571375\n",
      "Residual: 6.02e-03 for eigenvalue estimate: -6.572053\n",
      "Residual: 5.51e-03 for eigenvalue estimate: -6.572063\n",
      "Residual: 5.17e-03 for eigenvalue estimate: -6.572091\n",
      "Residual: 4.90e-03 for eigenvalue estimate: -6.572124\n",
      "Residual: 4.65e-03 for eigenvalue estimate: -6.572167\n",
      "Residual: 4.41e-03 for eigenvalue estimate: -6.572215\n",
      "Residual: 4.14e-03 for eigenvalue estimate: -6.572276\n",
      "Residual: 3.93e-03 for eigenvalue estimate: -6.572324\n",
      "Residual: 3.80e-03 for eigenvalue estimate: -6.572361\n",
      "Residual: 3.74e-03 for eigenvalue estimate: -6.572384\n",
      "Residual: 3.70e-03 for eigenvalue estimate: -6.572408\n",
      "Residual: 3.67e-03 for eigenvalue estimate: -6.572437\n",
      "Residual: 3.65e-03 for eigenvalue estimate: -6.572460\n",
      "Residual: 1.17e-02 for eigenvalue estimate: -6.573468\n",
      "Residual: 1.05e-02 for eigenvalue estimate: -6.573503\n",
      "Residual: 9.73e-03 for eigenvalue estimate: -6.573600\n",
      "Residual: 8.93e-03 for eigenvalue estimate: -6.573741\n",
      "Residual: 8.27e-03 for eigenvalue estimate: -6.573882\n",
      "Residual: 7.67e-03 for eigenvalue estimate: -6.574023\n",
      "Residual: 7.22e-03 for eigenvalue estimate: -6.574149\n",
      "Residual: 6.89e-03 for eigenvalue estimate: -6.574254\n",
      "Residual: 6.63e-03 for eigenvalue estimate: -6.574364\n",
      "Residual: 6.44e-03 for eigenvalue estimate: -6.574458\n",
      "Residual: 6.28e-03 for eigenvalue estimate: -6.574561\n",
      "Residual: 6.10e-03 for eigenvalue estimate: -6.574693\n",
      "Residual: 5.98e-03 for eigenvalue estimate: -6.574792\n",
      "Residual: 1.48e-02 for eigenvalue estimate: -6.578954\n",
      "Residual: 3.33e-02 for eigenvalue estimate: -6.579141\n",
      "Residual: 3.84e-02 for eigenvalue estimate: -6.579752\n",
      "Residual: 2.51e-02 for eigenvalue estimate: -6.580123\n",
      "Residual: 2.48e-02 for eigenvalue estimate: -6.580366\n",
      "Residual: 2.48e-02 for eigenvalue estimate: -6.580366\n",
      "Residual: 1.32e-02 for eigenvalue estimate: -6.580460\n",
      "Residual: 1.11e-02 for eigenvalue estimate: -6.580527\n",
      "Residual: 9.66e-03 for eigenvalue estimate: -6.580620\n",
      "Residual: 8.60e-03 for eigenvalue estimate: -6.580713\n",
      "Residual: 7.90e-03 for eigenvalue estimate: -6.580807\n",
      "Residual: 7.30e-03 for eigenvalue estimate: -6.580910\n",
      "Residual: 6.58e-03 for eigenvalue estimate: -6.581041\n",
      "Residual: 6.25e-03 for eigenvalue estimate: -6.581107\n",
      "Residual: 6.05e-03 for eigenvalue estimate: -6.581165\n",
      "Residual: 5.68e-03 for eigenvalue estimate: -6.581300\n",
      "Residual: 5.26e-03 for eigenvalue estimate: -6.581444\n",
      "Residual: 4.81e-03 for eigenvalue estimate: -6.581586\n",
      "Residual: 4.45e-03 for eigenvalue estimate: -6.581688\n",
      "Residual: 4.12e-03 for eigenvalue estimate: -6.581776\n",
      "Residual: 3.86e-03 for eigenvalue estimate: -6.581843\n",
      "Residual: 3.61e-03 for eigenvalue estimate: -6.581905\n",
      "Residual: 3.34e-03 for eigenvalue estimate: -6.581969\n",
      "Residual: 3.18e-03 for eigenvalue estimate: -6.582008\n",
      "Residual: 3.53e-03 for eigenvalue estimate: -6.582302\n",
      "Residual: 2.67e-03 for eigenvalue estimate: -6.582304\n",
      "Residual: 2.45e-03 for eigenvalue estimate: -6.582308\n",
      "Residual: 2.27e-03 for eigenvalue estimate: -6.582314\n",
      "Residual: 2.11e-03 for eigenvalue estimate: -6.582321\n",
      "Residual: 1.96e-03 for eigenvalue estimate: -6.582330\n",
      "Residual: 1.82e-03 for eigenvalue estimate: -6.582339\n",
      "Residual: 1.67e-03 for eigenvalue estimate: -6.582349\n",
      "Residual: 1.53e-03 for eigenvalue estimate: -6.582358\n",
      "Residual: 1.38e-03 for eigenvalue estimate: -6.582367\n",
      "Residual: 1.20e-03 for eigenvalue estimate: -6.582375\n",
      "Residual: 1.12e-03 for eigenvalue estimate: -6.582379\n",
      "Residual: 1.03e-03 for eigenvalue estimate: -6.582383\n",
      "Residual: 9.81e-04 for eigenvalue estimate: -6.582385\n",
      "Residual: 9.42e-04 for eigenvalue estimate: -6.582388\n",
      "Residual: 8.98e-04 for eigenvalue estimate: -6.582391\n",
      "Residual: 8.52e-04 for eigenvalue estimate: -6.582394\n",
      "Residual: 7.92e-04 for eigenvalue estimate: -6.582398\n",
      "Residual: 7.35e-04 for eigenvalue estimate: -6.582402\n",
      "Residual: 6.85e-04 for eigenvalue estimate: -6.582405\n",
      "Residual: 6.34e-04 for eigenvalue estimate: -6.582407\n",
      "Residual: 5.77e-04 for eigenvalue estimate: -6.582410\n",
      "Residual: 5.30e-04 for eigenvalue estimate: -6.582412\n",
      "Residual: 4.87e-04 for eigenvalue estimate: -6.582413\n",
      "Residual: 4.46e-04 for eigenvalue estimate: -6.582415\n",
      "Residual: 4.03e-04 for eigenvalue estimate: -6.582416\n",
      "Residual: 3.64e-04 for eigenvalue estimate: -6.582417\n",
      "Residual: 2.72e-04 for eigenvalue estimate: -6.582419\n",
      "Residual: 2.39e-04 for eigenvalue estimate: -6.582419\n",
      "Residual: 2.14e-04 for eigenvalue estimate: -6.582419\n",
      "Residual: 1.97e-04 for eigenvalue estimate: -6.582419\n",
      "Residual: 1.85e-04 for eigenvalue estimate: -6.582419\n",
      "Residual: 1.72e-04 for eigenvalue estimate: -6.582419\n",
      "Residual: 1.59e-04 for eigenvalue estimate: -6.582420\n",
      "Residual: 1.43e-04 for eigenvalue estimate: -6.582420\n",
      "Residual: 1.25e-04 for eigenvalue estimate: -6.582420\n",
      "Residual: 1.08e-04 for eigenvalue estimate: -6.582420\n",
      "Residual: 9.19e-05 for eigenvalue estimate: -6.582420\n",
      "Residual: 7.95e-05 for eigenvalue estimate: -6.582420\n",
      "Residual: 7.02e-05 for eigenvalue estimate: -6.582420\n",
      "Residual: 6.36e-05 for eigenvalue estimate: -6.582420\n",
      "Residual: 5.73e-05 for eigenvalue estimate: -6.582420\n",
      "Residual: 5.25e-05 for eigenvalue estimate: -6.582420\n",
      "Residual: 4.90e-05 for eigenvalue estimate: -6.582420\n",
      "Residual: 4.69e-05 for eigenvalue estimate: -6.582420\n",
      "Residual: 4.37e-05 for eigenvalue estimate: -6.582420\n",
      "Residual: 3.98e-05 for eigenvalue estimate: -6.582420\n",
      "Residual: 3.54e-05 for eigenvalue estimate: -6.582420\n",
      "Residual: 3.18e-05 for eigenvalue estimate: -6.582420\n",
      "Residual: 2.91e-05 for eigenvalue estimate: -6.582420\n",
      "Residual: 3.27e-05 for eigenvalue estimate: -6.582420\n",
      "Residual: 2.46e-05 for eigenvalue estimate: -6.582420\n",
      "Residual: 2.06e-05 for eigenvalue estimate: -6.582420\n",
      "Residual: 1.77e-05 for eigenvalue estimate: -6.582420\n",
      "Residual: 1.56e-05 for eigenvalue estimate: -6.582420\n",
      "Residual: 1.37e-05 for eigenvalue estimate: -6.582420\n",
      "Residual: 1.24e-05 for eigenvalue estimate: -6.582420\n",
      "Residual: 1.13e-05 for eigenvalue estimate: -6.582420\n",
      "Residual: 1.00e-05 for eigenvalue estimate: -6.582420\n",
      "Residual: 8.63e-06 for eigenvalue estimate: -6.582420\n",
      "Residual: 7.11e-06 for eigenvalue estimate: -6.582420\n",
      "Residual: 5.83e-06 for eigenvalue estimate: -6.582420\n",
      "Residual: 4.58e-06 for eigenvalue estimate: -6.582420\n",
      "Residual: 3.99e-06 for eigenvalue estimate: -6.582420\n",
      "Residual: 3.61e-06 for eigenvalue estimate: -6.582420\n",
      "Residual: 3.60e-06 for eigenvalue estimate: -6.582420\n",
      "Residual: 2.70e-06 for eigenvalue estimate: -6.582420\n",
      "Residual: 2.34e-06 for eigenvalue estimate: -6.582420\n",
      "Residual: 1.90e-06 for eigenvalue estimate: -6.582420\n",
      "Residual: 1.56e-06 for eigenvalue estimate: -6.582420\n",
      "Residual: 1.16e-06 for eigenvalue estimate: -6.582420\n",
      "Residual: 9.31e-07 for eigenvalue estimate: -6.582420\n",
      "Residual: 7.03e-07 for eigenvalue estimate: -6.582420\n",
      "Residual: 6.08e-07 for eigenvalue estimate: -6.582420\n",
      "Residual: 5.31e-07 for eigenvalue estimate: -6.582420\n",
      "Residual: 4.54e-07 for eigenvalue estimate: -6.582420\n",
      "Residual: 3.89e-07 for eigenvalue estimate: -6.582420\n",
      "Residual: 3.44e-07 for eigenvalue estimate: -6.582420\n",
      "Residual: 2.78e-07 for eigenvalue estimate: -6.582420\n",
      "Residual: 2.34e-07 for eigenvalue estimate: -6.582420\n",
      "Residual: 2.09e-07 for eigenvalue estimate: -6.582420\n",
      "Residual: 1.89e-07 for eigenvalue estimate: -6.582420\n",
      "Residual: 1.69e-07 for eigenvalue estimate: -6.582420\n",
      "Residual: 1.51e-07 for eigenvalue estimate: -6.582420\n",
      "Residual: 1.36e-07 for eigenvalue estimate: -6.582420\n",
      "Residual: 1.23e-07 for eigenvalue estimate: -6.582420\n",
      "Residual: 1.09e-07 for eigenvalue estimate: -6.582420\n",
      "Residual: 9.84e-08 for eigenvalue estimate: -6.582420\n",
      "Residual: 8.81e-08 for eigenvalue estimate: -6.582420\n",
      "Residual: 7.65e-08 for eigenvalue estimate: -6.582420\n",
      "Residual: 6.30e-08 for eigenvalue estimate: -6.582420\n",
      "Residual: 5.44e-08 for eigenvalue estimate: -6.582420\n",
      "Residual: 4.55e-08 for eigenvalue estimate: -6.582420\n",
      "Residual: 3.70e-08 for eigenvalue estimate: -6.582420\n",
      "Residual: 3.22e-08 for eigenvalue estimate: -6.582420\n",
      "Residual: 5.81e-08 for eigenvalue estimate: -6.582420\n",
      "Residual: 5.87e-08 for eigenvalue estimate: -6.582420\n",
      "Residual: 4.67e-08 for eigenvalue estimate: -6.582420\n",
      "Residual: 4.34e-08 for eigenvalue estimate: -6.582420\n",
      "Residual: 3.03e-08 for eigenvalue estimate: -6.582420\n",
      "Residual: 3.03e-08 for eigenvalue estimate: -6.582420\n",
      "Residual: 2.61e-08 for eigenvalue estimate: -6.582420\n",
      "Residual: 2.07e-08 for eigenvalue estimate: -6.582420\n",
      "Residual: 1.35e-08 for eigenvalue estimate: -6.582420\n",
      "Residual: 1.11e-08 for eigenvalue estimate: -6.582420\n",
      "Residual: 1.24e-08 for eigenvalue estimate: -6.582420\n",
      "Residual: 1.02e-08 for eigenvalue estimate: -6.582420\n",
      "Residual: 7.96e-09 for eigenvalue estimate: -6.582420\n",
      "Residual: 7.96e-09 for eigenvalue estimate: -6.582420\n"
     ]
    }
   ],
   "source": [
    "ge, gs = ground(ham, quiet=False, ncv=20)"
   ]
  },
  {
   "cell_type": "code",
   "execution_count": 3,
   "metadata": {},
   "outputs": [],
   "source": [
    "with open(\"gs24.pickle\", 'wb') as f: \n",
    "    pickle.dump(gs, f)"
   ]
  },
  {
   "cell_type": "code",
   "execution_count": 4,
   "metadata": {},
   "outputs": [
    {
     "data": {
      "text/plain": [
       "np.float64(-0.08470933343414444)"
      ]
     },
     "execution_count": 4,
     "metadata": {},
     "output_type": "execute_result"
    }
   ],
   "source": [
    "A = [16, 17, 18]\n",
    "B = [9, 10, 11]\n",
    "C = [6, 7, 8]\n",
    "top_entropy(gs, [A,B,C])"
   ]
  },
  {
   "cell_type": "markdown",
   "metadata": {},
   "source": [
    "# 30 qubits"
   ]
  },
  {
   "cell_type": "code",
   "execution_count": 4,
   "metadata": {},
   "outputs": [],
   "source": [
    "from main import * \n",
    "\n",
    "row_layout = [{'num_cells': 3, 'shift': 0.0}, \n",
    "             {'num_cells': 4, 'shift': -0.5}, \n",
    "             {'num_cells': 3, 'shift': 0.0}, \n",
    "             {'num_cells': 2, 'shift': 0.5}]\n",
    "sp = [0,7,9,19,32,35]\n",
    "ham = interp_ham(row_layout, sp, 0.35 * np.pi)"
   ]
  },
  {
   "cell_type": "code",
   "execution_count": 6,
   "metadata": {},
   "outputs": [
    {
     "data": {
      "text/plain": [
       "10"
      ]
     },
     "execution_count": 6,
     "metadata": {},
     "output_type": "execute_result"
    }
   ],
   "source": [
    "len(edge_matching(ham.lattice.nn_pairs, 5))"
   ]
  },
  {
   "cell_type": "markdown",
   "metadata": {},
   "source": [
    "# TEE is non-zero for 1D models"
   ]
  },
  {
   "cell_type": "code",
   "execution_count": null,
   "metadata": {},
   "outputs": [],
   "source": [
    "from qaravan.core import * \n",
    "from qaravan.tensorQ import * "
   ]
  },
  {
   "cell_type": "code",
   "execution_count": 4,
   "metadata": {},
   "outputs": [
    {
     "name": "stdout",
     "output_type": "stream",
     "text": [
      "0.029132153208173528\n"
     ]
    }
   ],
   "source": [
    "ham = XY(8)\n",
    "_, gstate = ham.ground()\n",
    "\n",
    "A = [0,1]\n",
    "B = [2,3,4]\n",
    "C = [5,6]\n",
    "regions = [A, B, C]\n",
    "print(top_entropy(gstate, regions))"
   ]
  },
  {
   "cell_type": "markdown",
   "metadata": {},
   "source": [
    "# Progress report"
   ]
  },
  {
   "cell_type": "code",
   "execution_count": 4,
   "metadata": {},
   "outputs": [
    {
     "name": "stdout",
     "output_type": "stream",
     "text": [
      "Residual: 1.01e+00 for eigenvalue estimate: -3.273642\n",
      "Residual: 8.76e-01 for eigenvalue estimate: -3.778566\n",
      "Residual: 7.70e-01 for eigenvalue estimate: -4.142414\n",
      "Residual: 6.62e-01 for eigenvalue estimate: -4.412025\n",
      "Residual: 5.40e-01 for eigenvalue estimate: -4.598694\n",
      "Residual: 4.09e-01 for eigenvalue estimate: -4.714214\n",
      "Residual: 3.07e-01 for eigenvalue estimate: -4.778371\n",
      "Residual: 3.07e-01 for eigenvalue estimate: -4.778371\n",
      "Residual: 1.80e-01 for eigenvalue estimate: -4.799740\n",
      "Residual: 1.41e-01 for eigenvalue estimate: -4.817403\n",
      "Residual: 1.18e-01 for eigenvalue estimate: -4.834453\n",
      "Residual: 1.01e-01 for eigenvalue estimate: -4.850169\n",
      "Residual: 1.18e-01 for eigenvalue estimate: -4.872569\n",
      "Residual: 9.00e-02 for eigenvalue estimate: -4.876738\n",
      "Residual: 7.53e-02 for eigenvalue estimate: -4.883041\n",
      "Residual: 6.54e-02 for eigenvalue estimate: -4.888810\n",
      "Residual: 5.88e-02 for eigenvalue estimate: -4.894626\n",
      "Residual: 5.25e-02 for eigenvalue estimate: -4.900867\n",
      "Residual: 4.86e-02 for eigenvalue estimate: -4.915384\n",
      "Residual: 4.20e-02 for eigenvalue estimate: -4.916607\n",
      "Residual: 3.44e-02 for eigenvalue estimate: -4.918844\n",
      "Residual: 2.94e-02 for eigenvalue estimate: -4.920319\n",
      "Residual: 2.63e-02 for eigenvalue estimate: -4.921849\n",
      "Residual: 2.31e-02 for eigenvalue estimate: -4.923379\n",
      "Residual: 2.12e-02 for eigenvalue estimate: -4.924389\n",
      "Residual: 1.86e-02 for eigenvalue estimate: -4.925900\n",
      "Residual: 1.90e-02 for eigenvalue estimate: -4.928380\n",
      "Residual: 1.73e-02 for eigenvalue estimate: -4.928533\n",
      "Residual: 1.48e-02 for eigenvalue estimate: -4.928981\n",
      "Residual: 1.30e-02 for eigenvalue estimate: -4.929354\n",
      "Residual: 1.17e-02 for eigenvalue estimate: -4.929674\n",
      "Residual: 1.12e-02 for eigenvalue estimate: -4.929854\n",
      "Residual: 1.07e-02 for eigenvalue estimate: -4.930114\n",
      "Residual: 1.03e-02 for eigenvalue estimate: -4.930391\n",
      "Residual: 1.00e-02 for eigenvalue estimate: -4.930669\n",
      "Residual: 1.70e-02 for eigenvalue estimate: -4.932315\n",
      "Residual: 5.10e-02 for eigenvalue estimate: -4.932837\n",
      "Residual: 5.10e-02 for eigenvalue estimate: -4.932837\n",
      "Residual: 5.24e-02 for eigenvalue estimate: -4.934538\n",
      "Residual: 5.69e-02 for eigenvalue estimate: -4.936114\n",
      "Residual: 4.61e-02 for eigenvalue estimate: -4.937475\n",
      "Residual: 4.97e-02 for eigenvalue estimate: -4.938371\n",
      "Residual: 4.85e-02 for eigenvalue estimate: -4.939973\n",
      "Residual: 4.85e-02 for eigenvalue estimate: -4.939973\n",
      "Residual: 5.71e-02 for eigenvalue estimate: -4.941216\n",
      "Residual: 3.93e-02 for eigenvalue estimate: -4.942473\n",
      "Residual: 3.62e-02 for eigenvalue estimate: -4.943418\n",
      "Residual: 3.23e-02 for eigenvalue estimate: -4.943989\n",
      "Residual: 2.83e-02 for eigenvalue estimate: -4.944425\n",
      "Residual: 2.83e-02 for eigenvalue estimate: -4.944425\n",
      "Residual: 2.20e-02 for eigenvalue estimate: -4.944749\n",
      "Residual: 1.95e-02 for eigenvalue estimate: -4.944991\n",
      "Residual: 1.73e-02 for eigenvalue estimate: -4.945139\n",
      "Residual: 1.46e-02 for eigenvalue estimate: -4.945275\n",
      "Residual: 1.47e-02 for eigenvalue estimate: -4.945381\n",
      "Residual: 1.47e-02 for eigenvalue estimate: -4.945381\n",
      "Residual: 1.21e-02 for eigenvalue estimate: -4.945466\n",
      "Residual: 1.05e-02 for eigenvalue estimate: -4.945528\n",
      "Residual: 8.14e-03 for eigenvalue estimate: -4.945581\n",
      "Residual: 6.93e-03 for eigenvalue estimate: -4.945607\n",
      "Residual: 5.69e-03 for eigenvalue estimate: -4.945628\n",
      "Residual: 5.69e-03 for eigenvalue estimate: -4.945628\n",
      "Residual: 4.33e-03 for eigenvalue estimate: -4.945640\n",
      "Residual: 4.19e-03 for eigenvalue estimate: -4.945649\n",
      "Residual: 3.47e-03 for eigenvalue estimate: -4.945657\n",
      "Residual: 2.71e-03 for eigenvalue estimate: -4.945662\n",
      "Residual: 2.55e-03 for eigenvalue estimate: -4.945665\n",
      "Residual: 2.55e-03 for eigenvalue estimate: -4.945665\n",
      "Residual: 2.17e-03 for eigenvalue estimate: -4.945668\n",
      "Residual: 1.52e-03 for eigenvalue estimate: -4.945669\n",
      "Residual: 1.21e-03 for eigenvalue estimate: -4.945670\n",
      "Residual: 1.12e-03 for eigenvalue estimate: -4.945671\n",
      "Residual: 1.09e-03 for eigenvalue estimate: -4.945672\n",
      "Residual: 1.09e-03 for eigenvalue estimate: -4.945672\n",
      "Residual: 1.02e-03 for eigenvalue estimate: -4.945672\n",
      "Residual: 8.26e-04 for eigenvalue estimate: -4.945673\n",
      "Residual: 6.35e-04 for eigenvalue estimate: -4.945673\n",
      "Residual: 5.45e-04 for eigenvalue estimate: -4.945673\n",
      "Residual: 5.14e-04 for eigenvalue estimate: -4.945673\n",
      "Residual: 5.14e-04 for eigenvalue estimate: -4.945673\n",
      "Residual: 5.09e-04 for eigenvalue estimate: -4.945673\n",
      "Residual: 4.90e-04 for eigenvalue estimate: -4.945673\n",
      "Residual: 4.61e-04 for eigenvalue estimate: -4.945674\n",
      "Residual: 3.68e-04 for eigenvalue estimate: -4.945674\n",
      "Residual: 3.07e-04 for eigenvalue estimate: -4.945674\n",
      "Residual: 3.07e-04 for eigenvalue estimate: -4.945674\n",
      "Residual: 2.40e-04 for eigenvalue estimate: -4.945674\n",
      "Residual: 1.87e-04 for eigenvalue estimate: -4.945674\n",
      "Residual: 1.57e-04 for eigenvalue estimate: -4.945674\n",
      "Residual: 1.31e-04 for eigenvalue estimate: -4.945674\n",
      "Residual: 1.19e-04 for eigenvalue estimate: -4.945674\n",
      "Residual: 1.19e-04 for eigenvalue estimate: -4.945674\n",
      "Residual: 1.01e-04 for eigenvalue estimate: -4.945674\n",
      "Residual: 8.12e-05 for eigenvalue estimate: -4.945674\n",
      "Residual: 6.79e-05 for eigenvalue estimate: -4.945674\n",
      "Residual: 5.10e-05 for eigenvalue estimate: -4.945674\n",
      "Residual: 3.63e-05 for eigenvalue estimate: -4.945674\n",
      "Residual: 3.63e-05 for eigenvalue estimate: -4.945674\n",
      "Residual: 3.07e-05 for eigenvalue estimate: -4.945674\n",
      "Residual: 2.66e-05 for eigenvalue estimate: -4.945674\n",
      "Residual: 2.03e-05 for eigenvalue estimate: -4.945674\n",
      "Residual: 1.62e-05 for eigenvalue estimate: -4.945674\n",
      "Residual: 1.27e-05 for eigenvalue estimate: -4.945674\n",
      "Residual: 1.27e-05 for eigenvalue estimate: -4.945674\n",
      "Residual: 1.01e-05 for eigenvalue estimate: -4.945674\n",
      "Residual: 7.22e-06 for eigenvalue estimate: -4.945674\n",
      "Residual: 5.57e-06 for eigenvalue estimate: -4.945674\n",
      "Residual: 4.08e-06 for eigenvalue estimate: -4.945674\n",
      "Residual: 3.25e-06 for eigenvalue estimate: -4.945674\n",
      "Residual: 3.25e-06 for eigenvalue estimate: -4.945674\n",
      "Residual: 2.78e-06 for eigenvalue estimate: -4.945674\n",
      "Residual: 2.36e-06 for eigenvalue estimate: -4.945674\n",
      "Residual: 1.86e-06 for eigenvalue estimate: -4.945674\n",
      "Residual: 1.43e-06 for eigenvalue estimate: -4.945674\n",
      "Residual: 1.01e-06 for eigenvalue estimate: -4.945674\n",
      "Residual: 1.01e-06 for eigenvalue estimate: -4.945674\n",
      "Residual: 7.49e-07 for eigenvalue estimate: -4.945674\n",
      "Residual: 5.96e-07 for eigenvalue estimate: -4.945674\n",
      "Residual: 5.10e-07 for eigenvalue estimate: -4.945674\n",
      "Residual: 4.62e-07 for eigenvalue estimate: -4.945674\n",
      "Residual: 3.96e-07 for eigenvalue estimate: -4.945674\n",
      "Residual: 3.96e-07 for eigenvalue estimate: -4.945674\n",
      "Residual: 3.12e-07 for eigenvalue estimate: -4.945674\n",
      "Residual: 2.23e-07 for eigenvalue estimate: -4.945674\n",
      "Residual: 1.49e-07 for eigenvalue estimate: -4.945674\n",
      "Residual: 1.11e-07 for eigenvalue estimate: -4.945674\n",
      "Residual: 8.23e-08 for eigenvalue estimate: -4.945674\n",
      "Residual: 8.23e-08 for eigenvalue estimate: -4.945674\n",
      "Residual: 5.77e-08 for eigenvalue estimate: -4.945674\n",
      "Residual: 4.59e-08 for eigenvalue estimate: -4.945674\n",
      "Residual: 3.94e-08 for eigenvalue estimate: -4.945674\n",
      "Residual: 3.38e-08 for eigenvalue estimate: -4.945674\n",
      "Residual: 2.80e-08 for eigenvalue estimate: -4.945674\n",
      "Residual: 2.80e-08 for eigenvalue estimate: -4.945674\n",
      "Residual: 2.29e-08 for eigenvalue estimate: -4.945674\n",
      "Residual: 1.80e-08 for eigenvalue estimate: -4.945674\n",
      "Residual: 1.37e-08 for eigenvalue estimate: -4.945674\n",
      "Residual: 1.08e-08 for eigenvalue estimate: -4.945674\n",
      "Residual: 8.27e-09 for eigenvalue estimate: -4.945674\n",
      "Residual: 8.27e-09 for eigenvalue estimate: -4.945674\n",
      "Residual: 6.36e-09 for eigenvalue estimate: -4.945674\n",
      "Residual: 5.26e-09 for eigenvalue estimate: -4.945674\n",
      "Residual: 4.54e-09 for eigenvalue estimate: -4.945674\n",
      "Residual: 3.71e-09 for eigenvalue estimate: -4.945674\n",
      "Residual: 2.89e-09 for eigenvalue estimate: -4.945674\n",
      "Residual: 2.89e-09 for eigenvalue estimate: -4.945674\n",
      "Residual: 2.08e-09 for eigenvalue estimate: -4.945674\n",
      "Residual: 1.61e-09 for eigenvalue estimate: -4.945674\n",
      "Residual: 1.37e-09 for eigenvalue estimate: -4.945674\n",
      "Residual: 1.17e-09 for eigenvalue estimate: -4.945674\n",
      "Residual: 1.05e-09 for eigenvalue estimate: -4.945674\n",
      "Residual: 1.05e-09 for eigenvalue estimate: -4.945674\n",
      "Residual: 9.01e-10 for eigenvalue estimate: -4.945674\n",
      "Residual: 7.69e-10 for eigenvalue estimate: -4.945674\n",
      "Residual: 6.21e-10 for eigenvalue estimate: -4.945674\n",
      "Residual: 5.00e-10 for eigenvalue estimate: -4.945674\n",
      "Residual: 4.18e-10 for eigenvalue estimate: -4.945674\n",
      "Residual: 4.18e-10 for eigenvalue estimate: -4.945674\n",
      "Residual: 3.74e-10 for eigenvalue estimate: -4.945674\n",
      "Residual: 2.97e-10 for eigenvalue estimate: -4.945674\n",
      "Residual: 2.39e-10 for eigenvalue estimate: -4.945674\n",
      "Residual: 1.88e-10 for eigenvalue estimate: -4.945674\n",
      "Residual: 1.42e-10 for eigenvalue estimate: -4.945674\n",
      "Residual: 1.42e-10 for eigenvalue estimate: -4.945674\n",
      "Residual: 1.00e-10 for eigenvalue estimate: -4.945674\n",
      "Residual: 7.40e-11 for eigenvalue estimate: -4.945674\n",
      "Residual: 5.56e-11 for eigenvalue estimate: -4.945674\n",
      "Residual: 4.37e-11 for eigenvalue estimate: -4.945674\n",
      "Residual: 3.72e-11 for eigenvalue estimate: -4.945674\n",
      "Residual: 3.72e-11 for eigenvalue estimate: -4.945674\n",
      "Residual: 3.04e-11 for eigenvalue estimate: -4.945674\n",
      "Residual: 2.18e-11 for eigenvalue estimate: -4.945674\n",
      "Residual: 1.58e-11 for eigenvalue estimate: -4.945674\n",
      "Residual: 1.14e-11 for eigenvalue estimate: -4.945674\n",
      "Residual: 8.56e-12 for eigenvalue estimate: -4.945674\n",
      "Residual: 8.56e-12 for eigenvalue estimate: -4.945674\n",
      "Residual: 6.86e-12 for eigenvalue estimate: -4.945674\n",
      "Residual: 5.32e-12 for eigenvalue estimate: -4.945674\n",
      "Residual: 4.05e-12 for eigenvalue estimate: -4.945674\n",
      "Residual: 3.15e-12 for eigenvalue estimate: -4.945674\n",
      "Residual: 2.38e-12 for eigenvalue estimate: -4.945674\n",
      "Residual: 2.38e-12 for eigenvalue estimate: -4.945674\n",
      "Residual: 1.77e-12 for eigenvalue estimate: -4.945674\n",
      "Residual: 1.31e-12 for eigenvalue estimate: -4.945674\n",
      "Residual: 9.92e-13 for eigenvalue estimate: -4.945674\n"
     ]
    },
    {
     "data": {
      "text/plain": [
       "np.float64(-4.945673773302447)"
      ]
     },
     "execution_count": 4,
     "metadata": {},
     "output_type": "execute_result"
    }
   ],
   "source": [
    "from main import *\n",
    "row_layout = [{'num_cells': 1, 'shift': 0.0}, \n",
    "             {'num_cells': 2, 'shift': -0.5}, \n",
    "             {'num_cells': 3, 'shift': -1}]\n",
    "sp = []\n",
    "ham = interp_ham(row_layout, sp, 0.35 * np.pi)\n",
    "\n",
    "ge, gs = ground(ham, ncv=10)\n",
    "ge"
   ]
  },
  {
   "cell_type": "markdown",
   "metadata": {},
   "source": [
    "# Thin strip, periodic y"
   ]
  },
  {
   "cell_type": "code",
   "execution_count": 217,
   "metadata": {},
   "outputs": [
    {
     "data": {
      "image/png": "[encoded data removed]",
      "text/plain": [
       "<Figure size 800x800 with 1 Axes>"
      ]
     },
     "metadata": {},
     "output_type": "display_data"
    }
   ],
   "source": [
    "afm_ham = interp_ham(2, 8, 0)\n",
    "half_ham = interp_ham(2, 8, 0.35 * np.pi)\n",
    "csl_ham = interp_ham(2, 8, np.pi/2)\n",
    "\n",
    "csl_ham.lattice.plot()"
   ]
  },
  {
   "cell_type": "code",
   "execution_count": 218,
   "metadata": {},
   "outputs": [],
   "source": [
    "energy_a, gstate_a = afm_ham.ground()\n",
    "energy_h, gstate_h = half_ham.ground()\n",
    "energy_c, gstate_c = csl_ham.ground()"
   ]
  },
  {
   "cell_type": "code",
   "execution_count": 219,
   "metadata": {},
   "outputs": [
    {
     "name": "stdout",
     "output_type": "stream",
     "text": [
      "At theta = 0, topological entropy =  -0.11847910900454695  and quantum dimensions is  1.1257833551213658\n",
      "At theta = 0.35 pi, topological entropy =  -7.55045678694638e-05  and quantum dimensions is  1.0000755074184111\n",
      "At theta = pi/2, topological entropy =  1.864158181722055e-15  and quantum dimensions is  0.9999999999999981\n"
     ]
    }
   ],
   "source": [
    "A = [0,1,2]\n",
    "B = [3,4,5]\n",
    "C = [6,7,8]\n",
    "\n",
    "tee_a = top_entropy(gstate_a, [A,B,C])\n",
    "tee_h = top_entropy(gstate_h, [A,B,C])\n",
    "tee_c = top_entropy(gstate_c, [A,B,C])\n",
    "\n",
    "print(\"At theta = 0, topological entropy = \", tee_a, \" and quantum dimensions is \", np.exp(-tee_a))\n",
    "print(\"At theta = 0.35 pi, topological entropy = \", tee_h, \" and quantum dimensions is \", np.exp(-tee_h))\n",
    "print(\"At theta = pi/2, topological entropy = \", tee_c, \" and quantum dimensions is \", np.exp(-tee_c))"
   ]
  },
  {
   "cell_type": "markdown",
   "metadata": {},
   "source": [
    "# 2D lattice "
   ]
  },
  {
   "cell_type": "code",
   "execution_count": 3,
   "metadata": {},
   "outputs": [
    {
     "data": {
      "image/png": "[encoded data removed]",
      "text/plain": [
       "<Figure size 800x600 with 1 Axes>"
      ]
     },
     "metadata": {},
     "output_type": "display_data"
    }
   ],
   "source": [
    "row_layout = [{'num_cells': 3, 'shift': 0.0}, \n",
    "             {'num_cells': 2, 'shift': 0.5}]\n",
    "sp = [0,7,11,14]\n",
    "ham = interp_ham(row_layout, sp, 0.35 * np.pi)\n",
    "ham.lattice.plot()"
   ]
  },
  {
   "cell_type": "code",
   "execution_count": 5,
   "metadata": {},
   "outputs": [],
   "source": [
    "ge, gs = ham.ground()"
   ]
  },
  {
   "cell_type": "code",
   "execution_count": 6,
   "metadata": {},
   "outputs": [
    {
     "data": {
      "text/plain": [
       "array([-2.51160724])"
      ]
     },
     "execution_count": 6,
     "metadata": {},
     "output_type": "execute_result"
    }
   ],
   "source": [
    "ge"
   ]
  },
  {
   "cell_type": "code",
   "execution_count": 17,
   "metadata": {},
   "outputs": [
    {
     "data": {
      "text/plain": [
       "14"
      ]
     },
     "execution_count": 17,
     "metadata": {},
     "output_type": "execute_result"
    }
   ],
   "source": [
    "len(ham.lattice.nn_pairs)"
   ]
  },
  {
   "cell_type": "code",
   "execution_count": 14,
   "metadata": {},
   "outputs": [
    {
     "data": {
      "text/plain": [
       "{(2, 3, 4), (4, 9, 8)}"
      ]
     },
     "execution_count": 14,
     "metadata": {},
     "output_type": "execute_result"
    }
   ],
   "source": [
    "ham.lattice.triangle_terms"
   ]
  },
  {
   "cell_type": "code",
   "execution_count": 16,
   "metadata": {},
   "outputs": [
    {
     "data": {
      "text/plain": [
       "(np.float64(0.4539904997395468), (4, 8), ['z', 'z'])"
      ]
     },
     "execution_count": 16,
     "metadata": {},
     "output_type": "execute_result"
    }
   ],
   "source": [
    "ham.terms[40]"
   ]
  },
  {
   "cell_type": "code",
   "execution_count": 18,
   "metadata": {},
   "outputs": [
    {
     "data": {
      "text/plain": [
       "(54, 54)"
      ]
     },
     "execution_count": 18,
     "metadata": {},
     "output_type": "execute_result"
    }
   ],
   "source": [
    "len(ham.terms), 14*3 + 12"
   ]
  },
  {
   "cell_type": "code",
   "execution_count": 5,
   "metadata": {},
   "outputs": [
    {
     "data": {
      "text/plain": [
       "array([-12.15657315])"
      ]
     },
     "execution_count": 5,
     "metadata": {},
     "output_type": "execute_result"
    }
   ],
   "source": [
    "ge "
   ]
  },
  {
   "cell_type": "code",
   "execution_count": 4,
   "metadata": {},
   "outputs": [],
   "source": [
    "energy_a, gstate_a = afm_ham.ground()\n",
    "energy_h, gstate_h = half_ham.ground()\n",
    "energy_c, gstate_c = csl_ham.ground()"
   ]
  },
  {
   "cell_type": "code",
   "execution_count": 5,
   "metadata": {},
   "outputs": [
    {
     "name": "stdout",
     "output_type": "stream",
     "text": [
      "At theta = 0, topological entropy =  -0.13144561856915726  and quantum dimensions is  1.1404758853254675\n",
      "At theta = 0.35 pi, topological entropy =  -0.5038964667736064  and quantum dimensions is  1.6551579904388816\n",
      "At theta = pi/2, topological entropy =  -0.2930568616631657  and quantum dimensions is  1.3405190124051574\n"
     ]
    }
   ],
   "source": [
    "A = [0,1,2]\n",
    "B = [3,4,5]\n",
    "C = [6,7,8]\n",
    "\n",
    "tee_a = top_entropy(gstate_a, [A,B,C])\n",
    "tee_h = top_entropy(gstate_h, [A,B,C])\n",
    "tee_c = top_entropy(gstate_c, [A,B,C])\n",
    "\n",
    "print(\"At theta = 0, topological entropy = \", tee_a, \" and quantum dimensions is \", np.exp(-tee_a))\n",
    "print(\"At theta = 0.35 pi, topological entropy = \", tee_h, \" and quantum dimensions is \", np.exp(-tee_h))\n",
    "print(\"At theta = pi/2, topological entropy = \", tee_c, \" and quantum dimensions is \", np.exp(-tee_c))"
   ]
  },
  {
   "cell_type": "code",
   "execution_count": 2,
   "metadata": {},
   "outputs": [
    {
     "name": "stdout",
     "output_type": "stream",
     "text": [
      "At theta = 0.35 pi, topological entropy =  -0.35677694103454805  and quantum dimensions is  1.4287171461395662\n"
     ]
    }
   ],
   "source": [
    "import numpy as np\n",
    "tee = -0.35677694103454805\n",
    "print(\"At theta = 0.35 pi, topological entropy = \", tee, \" and quantum dimensions is \", np.exp(-tee))"
   ]
  },
  {
   "cell_type": "code",
   "execution_count": null,
   "metadata": {},
   "outputs": [],
   "source": []
  }
 ],
 "metadata": {
  "kernelspec": {
   "display_name": "qaravan",
   "language": "python",
   "name": "python3"
  },
  "language_info": {
   "codemirror_mode": {
    "name": "ipython",
    "version": 3
   },
   "file_extension": ".py",
   "mimetype": "text/x-python",
   "name": "python",
   "nbconvert_exporter": "python",
   "pygments_lexer": "ipython3",
   "version": "3.11.11"
  }
 },
 "nbformat": 4,
 "nbformat_minor": 2
}
