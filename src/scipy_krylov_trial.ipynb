{
 "cells": [
  {
   "cell_type": "code",
   "execution_count": 4,
   "metadata": {},
   "outputs": [],
   "source": [
    "from qaravan.tensorQ import op_action, rdm_from_sv, environment_state_prep\n",
    "from qaravan.core import ChiralHeisenberg, vN_entropy, two_local_circ, RunContext, TFI\n",
    "import numpy as np\n",
    "from scipy.sparse.linalg import LinearOperator\n",
    "from scipy.sparse.linalg import eigsh\n",
    "import sys, pickle, torch\n",
    "\n",
    "def interp_ham(row_layout, sp, theta): \n",
    "    j = 1 \n",
    "    jx = j * np.cos(theta)\n",
    "    jy = jx\n",
    "    jz = jx\n",
    "    jc = j * np.sin(theta)\n",
    "    return ChiralHeisenberg(row_layout, jx, jy, jz, jc, sp=sp)\n",
    "\n",
    "def ham_action(grouped_terms, sv, local_dim=2): \n",
    "    result = torch.zeros_like(sv, dtype=torch.complex128) if torch.is_tensor(sv) else np.zeros_like(sv, dtype=complex)\n",
    "    for indices, mat in grouped_terms: \n",
    "        result += op_action(mat, indices, sv, local_dim=local_dim)\n",
    "    return result\n",
    "\n",
    "def ground(ham, ncv=10, quiet=False):\n",
    "    grouped_terms = ham.grouped_terms()\n",
    "    dim = 2**ham.num_sites\n",
    "\n",
    "    def mv(v):\n",
    "        if v.ndim == 2 and v.shape[1] == 1:\n",
    "            v = v[:, 0]\n",
    "        return ham_action(grouped_terms, v)\n",
    "\n",
    "    def convtest(eval_, evec, resNorm):\n",
    "        print(f\"Residual: {resNorm:.2e} for eigenvalue estimate: {eval_:.6f}\")\n",
    "        sys.stdout.flush()\n",
    "        if np.abs(resNorm) < 1e-8: \n",
    "            return True\n",
    "        return False\n",
    "    \n",
    "    ctest = convtest if not quiet else None\n",
    "    H_linop = LinearOperator(shape=(dim, dim), matvec=mv, dtype=np.complex128)\n",
    "    vals, vecs = eigsh(\n",
    "        H_linop,\n",
    "        k=1,\n",
    "        which='SA',\n",
    "        ncv=ncv,\n",
    "    )\n",
    "    return vals[0], vecs[:, 0]"
   ]
  },
  {
   "cell_type": "code",
   "execution_count": 6,
   "metadata": {},
   "outputs": [
    {
     "ename": "KeyboardInterrupt",
     "evalue": "",
     "output_type": "error",
     "traceback": [
      "\u001b[31m---------------------------------------------------------------------------\u001b[39m",
      "\u001b[31mKeyboardInterrupt\u001b[39m                         Traceback (most recent call last)",
      "\u001b[36mCell\u001b[39m\u001b[36m \u001b[39m\u001b[32mIn[6]\u001b[39m\u001b[32m, line 10\u001b[39m\n\u001b[32m      8\u001b[39m sp = [\u001b[32m0\u001b[39m,\u001b[32m1\u001b[39m,\u001b[32m6\u001b[39m,\u001b[32m7\u001b[39m,\u001b[32m9\u001b[39m,\u001b[32m11\u001b[39m,\u001b[32m30\u001b[39m,\u001b[32m32\u001b[39m,\u001b[32m34\u001b[39m,\u001b[32m35\u001b[39m,\u001b[32m19\u001b[39m,\u001b[32m20\u001b[39m]\n\u001b[32m      9\u001b[39m ham = interp_ham(row_layout, sp, \u001b[32m0.35\u001b[39m * np.pi)\n\u001b[32m---> \u001b[39m\u001b[32m10\u001b[39m \u001b[43mground\u001b[49m\u001b[43m(\u001b[49m\u001b[43mham\u001b[49m\u001b[43m)\u001b[49m\n",
      "\u001b[36mCell\u001b[39m\u001b[36m \u001b[39m\u001b[32mIn[4]\u001b[39m\u001b[32m, line 33\u001b[39m, in \u001b[36mground\u001b[39m\u001b[34m(ham, ncv, quiet)\u001b[39m\n\u001b[32m     31\u001b[39m ctest = convtest \u001b[38;5;28;01mif\u001b[39;00m \u001b[38;5;129;01mnot\u001b[39;00m quiet \u001b[38;5;28;01melse\u001b[39;00m \u001b[38;5;28;01mNone\u001b[39;00m\n\u001b[32m     32\u001b[39m H_linop = LinearOperator(shape=(dim, dim), matvec=mv, dtype=np.complex128)\n\u001b[32m---> \u001b[39m\u001b[32m33\u001b[39m vals, vecs = \u001b[43meigsh\u001b[49m\u001b[43m(\u001b[49m\n\u001b[32m     34\u001b[39m \u001b[43m    \u001b[49m\u001b[43mH_linop\u001b[49m\u001b[43m,\u001b[49m\n\u001b[32m     35\u001b[39m \u001b[43m    \u001b[49m\u001b[43mk\u001b[49m\u001b[43m=\u001b[49m\u001b[32;43m1\u001b[39;49m\u001b[43m,\u001b[49m\n\u001b[32m     36\u001b[39m \u001b[43m    \u001b[49m\u001b[43mwhich\u001b[49m\u001b[43m=\u001b[49m\u001b[33;43m'\u001b[39;49m\u001b[33;43mSA\u001b[39;49m\u001b[33;43m'\u001b[39;49m\u001b[43m,\u001b[49m\n\u001b[32m     37\u001b[39m \u001b[43m    \u001b[49m\u001b[43mncv\u001b[49m\u001b[43m=\u001b[49m\u001b[43mncv\u001b[49m\u001b[43m,\u001b[49m\n\u001b[32m     38\u001b[39m \u001b[43m\u001b[49m\u001b[43m)\u001b[49m\n\u001b[32m     39\u001b[39m \u001b[38;5;28;01mreturn\u001b[39;00m vals[\u001b[32m0\u001b[39m], vecs[:, \u001b[32m0\u001b[39m]\n",
      "\u001b[36mFile \u001b[39m\u001b[32m~/.conda/envs/qaravan-env-final/lib/python3.11/site-packages/scipy/sparse/linalg/_eigen/arpack/arpack.py:1573\u001b[39m, in \u001b[36meigsh\u001b[39m\u001b[34m(A, k, M, sigma, which, v0, ncv, maxiter, tol, return_eigenvectors, Minv, OPinv, mode)\u001b[39m\n\u001b[32m   1571\u001b[39m \u001b[38;5;28;01melif\u001b[39;00m which == \u001b[33m'\u001b[39m\u001b[33mSA\u001b[39m\u001b[33m'\u001b[39m:\n\u001b[32m   1572\u001b[39m     which = \u001b[33m'\u001b[39m\u001b[33mSR\u001b[39m\u001b[33m'\u001b[39m\n\u001b[32m-> \u001b[39m\u001b[32m1573\u001b[39m ret = \u001b[43meigs\u001b[49m\u001b[43m(\u001b[49m\u001b[43mA\u001b[49m\u001b[43m,\u001b[49m\u001b[43m \u001b[49m\u001b[43mk\u001b[49m\u001b[43m,\u001b[49m\u001b[43m \u001b[49m\u001b[43mM\u001b[49m\u001b[43m=\u001b[49m\u001b[43mM\u001b[49m\u001b[43m,\u001b[49m\u001b[43m \u001b[49m\u001b[43msigma\u001b[49m\u001b[43m=\u001b[49m\u001b[43msigma\u001b[49m\u001b[43m,\u001b[49m\u001b[43m \u001b[49m\u001b[43mwhich\u001b[49m\u001b[43m=\u001b[49m\u001b[43mwhich\u001b[49m\u001b[43m,\u001b[49m\u001b[43m \u001b[49m\u001b[43mv0\u001b[49m\u001b[43m=\u001b[49m\u001b[43mv0\u001b[49m\u001b[43m,\u001b[49m\n\u001b[32m   1574\u001b[39m \u001b[43m           \u001b[49m\u001b[43mncv\u001b[49m\u001b[43m=\u001b[49m\u001b[43mncv\u001b[49m\u001b[43m,\u001b[49m\u001b[43m \u001b[49m\u001b[43mmaxiter\u001b[49m\u001b[43m=\u001b[49m\u001b[43mmaxiter\u001b[49m\u001b[43m,\u001b[49m\u001b[43m \u001b[49m\u001b[43mtol\u001b[49m\u001b[43m=\u001b[49m\u001b[43mtol\u001b[49m\u001b[43m,\u001b[49m\n\u001b[32m   1575\u001b[39m \u001b[43m           \u001b[49m\u001b[43mreturn_eigenvectors\u001b[49m\u001b[43m=\u001b[49m\u001b[43mreturn_eigenvectors\u001b[49m\u001b[43m,\u001b[49m\u001b[43m \u001b[49m\u001b[43mMinv\u001b[49m\u001b[43m=\u001b[49m\u001b[43mMinv\u001b[49m\u001b[43m,\u001b[49m\n\u001b[32m   1576\u001b[39m \u001b[43m           \u001b[49m\u001b[43mOPinv\u001b[49m\u001b[43m=\u001b[49m\u001b[43mOPinv\u001b[49m\u001b[43m)\u001b[49m\n\u001b[32m   1578\u001b[39m \u001b[38;5;28;01mif\u001b[39;00m return_eigenvectors:\n\u001b[32m   1579\u001b[39m     \u001b[38;5;28;01mreturn\u001b[39;00m ret[\u001b[32m0\u001b[39m].real, ret[\u001b[32m1\u001b[39m]\n",
      "\u001b[36mFile \u001b[39m\u001b[32m~/.conda/envs/qaravan-env-final/lib/python3.11/site-packages/scipy/sparse/linalg/_eigen/arpack/arpack.py:1352\u001b[39m, in \u001b[36meigs\u001b[39m\u001b[34m(A, k, M, sigma, which, v0, ncv, maxiter, tol, return_eigenvectors, Minv, OPinv, OPpart)\u001b[39m\n\u001b[32m   1350\u001b[39m \u001b[38;5;28;01mwith\u001b[39;00m _ARPACK_LOCK:\n\u001b[32m   1351\u001b[39m     \u001b[38;5;28;01mwhile\u001b[39;00m \u001b[38;5;129;01mnot\u001b[39;00m params.converged:\n\u001b[32m-> \u001b[39m\u001b[32m1352\u001b[39m         \u001b[43mparams\u001b[49m\u001b[43m.\u001b[49m\u001b[43miterate\u001b[49m\u001b[43m(\u001b[49m\u001b[43m)\u001b[49m\n\u001b[32m   1354\u001b[39m     \u001b[38;5;28;01mreturn\u001b[39;00m params.extract(return_eigenvectors)\n",
      "\u001b[36mFile \u001b[39m\u001b[32m~/.conda/envs/qaravan-env-final/lib/python3.11/site-packages/scipy/sparse/linalg/_eigen/arpack/arpack.py:750\u001b[39m, in \u001b[36m_UnsymmetricArpackParams.iterate\u001b[39m\u001b[34m(self)\u001b[39m\n\u001b[32m    747\u001b[39m \u001b[38;5;28;01melif\u001b[39;00m \u001b[38;5;28mself\u001b[39m.ido == \u001b[32m1\u001b[39m:\n\u001b[32m    748\u001b[39m     \u001b[38;5;66;03m# compute y = Op*x\u001b[39;00m\n\u001b[32m    749\u001b[39m     \u001b[38;5;28;01mif\u001b[39;00m \u001b[38;5;28mself\u001b[39m.mode \u001b[38;5;129;01min\u001b[39;00m (\u001b[32m1\u001b[39m, \u001b[32m2\u001b[39m):\n\u001b[32m--> \u001b[39m\u001b[32m750\u001b[39m         \u001b[38;5;28mself\u001b[39m.workd[yslice] = \u001b[38;5;28;43mself\u001b[39;49m\u001b[43m.\u001b[49m\u001b[43mOP\u001b[49m\u001b[43m(\u001b[49m\u001b[38;5;28;43mself\u001b[39;49m\u001b[43m.\u001b[49m\u001b[43mworkd\u001b[49m\u001b[43m[\u001b[49m\u001b[43mxslice\u001b[49m\u001b[43m]\u001b[49m\u001b[43m)\u001b[49m\n\u001b[32m    751\u001b[39m     \u001b[38;5;28;01melse\u001b[39;00m:\n\u001b[32m    752\u001b[39m         Bxslice = \u001b[38;5;28mslice\u001b[39m(\u001b[38;5;28mself\u001b[39m.ipntr[\u001b[32m2\u001b[39m] - \u001b[32m1\u001b[39m, \u001b[38;5;28mself\u001b[39m.ipntr[\u001b[32m2\u001b[39m] - \u001b[32m1\u001b[39m + \u001b[38;5;28mself\u001b[39m.n)\n",
      "\u001b[36mFile \u001b[39m\u001b[32m~/.conda/envs/qaravan-env-final/lib/python3.11/site-packages/scipy/sparse/linalg/_interface.py:258\u001b[39m, in \u001b[36mLinearOperator.matvec\u001b[39m\u001b[34m(self, x)\u001b[39m\n\u001b[32m    255\u001b[39m \u001b[38;5;28;01mif\u001b[39;00m x.shape != (N,) \u001b[38;5;129;01mand\u001b[39;00m x.shape != (N,\u001b[32m1\u001b[39m):\n\u001b[32m    256\u001b[39m     \u001b[38;5;28;01mraise\u001b[39;00m \u001b[38;5;167;01mValueError\u001b[39;00m(\u001b[33m'\u001b[39m\u001b[33mdimension mismatch\u001b[39m\u001b[33m'\u001b[39m)\n\u001b[32m--> \u001b[39m\u001b[32m258\u001b[39m y = \u001b[38;5;28;43mself\u001b[39;49m\u001b[43m.\u001b[49m\u001b[43m_matvec\u001b[49m\u001b[43m(\u001b[49m\u001b[43mx\u001b[49m\u001b[43m)\u001b[49m\n\u001b[32m    260\u001b[39m \u001b[38;5;28;01mif\u001b[39;00m \u001b[38;5;28misinstance\u001b[39m(x, np.matrix):\n\u001b[32m    261\u001b[39m     y = asmatrix(y)\n",
      "\u001b[36mFile \u001b[39m\u001b[32m~/.conda/envs/qaravan-env-final/lib/python3.11/site-packages/scipy/sparse/linalg/_interface.py:613\u001b[39m, in \u001b[36m_CustomLinearOperator._matvec\u001b[39m\u001b[34m(self, x)\u001b[39m\n\u001b[32m    612\u001b[39m \u001b[38;5;28;01mdef\u001b[39;00m\u001b[38;5;250m \u001b[39m\u001b[34m_matvec\u001b[39m(\u001b[38;5;28mself\u001b[39m, x):\n\u001b[32m--> \u001b[39m\u001b[32m613\u001b[39m     \u001b[38;5;28;01mreturn\u001b[39;00m \u001b[38;5;28;43mself\u001b[39;49m\u001b[43m.\u001b[49m\u001b[43m__matvec_impl\u001b[49m\u001b[43m(\u001b[49m\u001b[43mx\u001b[49m\u001b[43m)\u001b[49m\n",
      "\u001b[36mCell\u001b[39m\u001b[36m \u001b[39m\u001b[32mIn[4]\u001b[39m\u001b[32m, line 22\u001b[39m, in \u001b[36mground.<locals>.mv\u001b[39m\u001b[34m(v)\u001b[39m\n\u001b[32m     20\u001b[39m \u001b[38;5;28;01mif\u001b[39;00m v.ndim == \u001b[32m2\u001b[39m \u001b[38;5;129;01mand\u001b[39;00m v.shape[\u001b[32m1\u001b[39m] == \u001b[32m1\u001b[39m:\n\u001b[32m     21\u001b[39m     v = v[:, \u001b[32m0\u001b[39m]\n\u001b[32m---> \u001b[39m\u001b[32m22\u001b[39m \u001b[38;5;28;01mreturn\u001b[39;00m \u001b[43mham_action\u001b[49m\u001b[43m(\u001b[49m\u001b[43mgrouped_terms\u001b[49m\u001b[43m,\u001b[49m\u001b[43m \u001b[49m\u001b[43mv\u001b[49m\u001b[43m)\u001b[49m\n",
      "\u001b[36mCell\u001b[39m\u001b[36m \u001b[39m\u001b[32mIn[4]\u001b[39m\u001b[32m, line 12\u001b[39m, in \u001b[36mham_action\u001b[39m\u001b[34m(grouped_terms, sv, local_dim)\u001b[39m\n\u001b[32m     10\u001b[39m result = torch.zeros_like(sv, dtype=torch.complex128) \u001b[38;5;28;01mif\u001b[39;00m torch.is_tensor(sv) \u001b[38;5;28;01melse\u001b[39;00m np.zeros_like(sv, dtype=\u001b[38;5;28mcomplex\u001b[39m)\n\u001b[32m     11\u001b[39m \u001b[38;5;28;01mfor\u001b[39;00m indices, mat \u001b[38;5;129;01min\u001b[39;00m grouped_terms: \n\u001b[32m---> \u001b[39m\u001b[32m12\u001b[39m     result += \u001b[43mop_action\u001b[49m\u001b[43m(\u001b[49m\u001b[43mmat\u001b[49m\u001b[43m,\u001b[49m\u001b[43m \u001b[49m\u001b[43mindices\u001b[49m\u001b[43m,\u001b[49m\u001b[43m \u001b[49m\u001b[43msv\u001b[49m\u001b[43m,\u001b[49m\u001b[43m \u001b[49m\u001b[43mlocal_dim\u001b[49m\u001b[43m=\u001b[49m\u001b[43mlocal_dim\u001b[49m\u001b[43m)\u001b[49m\n\u001b[32m     13\u001b[39m \u001b[38;5;28;01mreturn\u001b[39;00m result\n",
      "\u001b[36mFile \u001b[39m\u001b[32m~/.conda/envs/qaravan-env-final/lib/python3.11/site-packages/qaravan/tensorQ/statevector_sim.py:100\u001b[39m, in \u001b[36mop_action\u001b[39m\u001b[34m(op, indices, sv, local_dim)\u001b[39m\n\u001b[32m     97\u001b[39m op = permute(op, perm)\n\u001b[32m     99\u001b[39m gate_indices, state_indices = locs_to_indices(sorted_indices, n)\n\u001b[32m--> \u001b[39m\u001b[32m100\u001b[39m new_sv = \u001b[43mncon\u001b[49m\u001b[43m(\u001b[49m\u001b[43m(\u001b[49m\u001b[43mop\u001b[49m\u001b[43m,\u001b[49m\u001b[43m \u001b[49m\u001b[43mstate\u001b[49m\u001b[43m)\u001b[49m\u001b[43m,\u001b[49m\u001b[43m \u001b[49m\u001b[43m(\u001b[49m\u001b[43mgate_indices\u001b[49m\u001b[43m,\u001b[49m\u001b[43m \u001b[49m\u001b[43mstate_indices\u001b[49m\u001b[43m)\u001b[49m\u001b[43m)\u001b[49m\n\u001b[32m    101\u001b[39m \u001b[38;5;28;01mreturn\u001b[39;00m new_sv.reshape(local_dim**n) \u001b[38;5;28;01mif\u001b[39;00m sv.ndim == \u001b[32m1\u001b[39m \u001b[38;5;28;01melse\u001b[39;00m new_sv\n",
      "\u001b[36mFile \u001b[39m\u001b[32m~/.conda/envs/qaravan-env-final/lib/python3.11/site-packages/ncon_torch/ncon.py:75\u001b[39m, in \u001b[36mncon\u001b[39m\u001b[34m(L, v, order, forder, check_indices)\u001b[39m\n\u001b[32m     72\u001b[39m     new_A = trace(L[tcon[\u001b[32m0\u001b[39m]], axis1=pos1[\u001b[32m0\u001b[39m], axis2=pos1[\u001b[32m1\u001b[39m])\n\u001b[32m     73\u001b[39m \u001b[38;5;28;01melse\u001b[39;00m:\n\u001b[32m     74\u001b[39m     \u001b[38;5;66;03m# Contraction of 2 tensors\u001b[39;00m\n\u001b[32m---> \u001b[39m\u001b[32m75\u001b[39m     new_A = \u001b[43mcon\u001b[49m\u001b[43m(\u001b[49m\u001b[43mL\u001b[49m\u001b[43m[\u001b[49m\u001b[43mtcon\u001b[49m\u001b[43m[\u001b[49m\u001b[32;43m0\u001b[39;49m\u001b[43m]\u001b[49m\u001b[43m]\u001b[49m\u001b[43m,\u001b[49m\u001b[43m \u001b[49m\u001b[43mL\u001b[49m\u001b[43m[\u001b[49m\u001b[43mtcon\u001b[49m\u001b[43m[\u001b[49m\u001b[32;43m1\u001b[39;49m\u001b[43m]\u001b[49m\u001b[43m]\u001b[49m\u001b[43m,\u001b[49m\u001b[43m \u001b[49m\u001b[43m(\u001b[49m\u001b[43mpos1\u001b[49m\u001b[43m,\u001b[49m\u001b[43m \u001b[49m\u001b[43mpos2\u001b[49m\u001b[43m)\u001b[49m\u001b[43m)\u001b[49m\n\u001b[32m     76\u001b[39m L.append(new_A)\n\u001b[32m     77\u001b[39m v.append(find_newv(v, tcon, icon))  \u001b[38;5;66;03m# Add the v for the new tensor\u001b[39;00m\n",
      "\u001b[36mFile \u001b[39m\u001b[32m~/.conda/envs/qaravan-env-final/lib/python3.11/site-packages/ncon_torch/backend.py:30\u001b[39m, in \u001b[36mcon\u001b[39m\u001b[34m(A, B, inds)\u001b[39m\n\u001b[32m     28\u001b[39m     \u001b[38;5;28;01mreturn\u001b[39;00m torch.tensordot(A, B, dims=inds)\n\u001b[32m     29\u001b[39m \u001b[38;5;28;01melif\u001b[39;00m \u001b[38;5;28misinstance\u001b[39m(A, np.ndarray) \u001b[38;5;129;01mand\u001b[39;00m \u001b[38;5;28misinstance\u001b[39m(B, np.ndarray):\n\u001b[32m---> \u001b[39m\u001b[32m30\u001b[39m     \u001b[38;5;28;01mreturn\u001b[39;00m \u001b[43mnp\u001b[49m\u001b[43m.\u001b[49m\u001b[43mtensordot\u001b[49m\u001b[43m(\u001b[49m\u001b[43mA\u001b[49m\u001b[43m,\u001b[49m\u001b[43m \u001b[49m\u001b[43mB\u001b[49m\u001b[43m,\u001b[49m\u001b[43m \u001b[49m\u001b[43minds\u001b[49m\u001b[43m)\u001b[49m\n\u001b[32m     31\u001b[39m \u001b[38;5;28;01melse\u001b[39;00m:\n\u001b[32m     32\u001b[39m     \u001b[38;5;28;01mraise\u001b[39;00m \u001b[38;5;167;01mTypeError\u001b[39;00m(\u001b[33m\"\u001b[39m\u001b[33mcon: both inputs must be either PyTorch tensors or NumPy arrays\u001b[39m\u001b[33m\"\u001b[39m)\n",
      "\u001b[36mFile \u001b[39m\u001b[32m~/.conda/envs/qaravan-env-final/lib/python3.11/site-packages/numpy/core/numeric.py:1120\u001b[39m, in \u001b[36mtensordot\u001b[39m\u001b[34m(a, b, axes)\u001b[39m\n\u001b[32m   1117\u001b[39m oldb = [bs[axis] \u001b[38;5;28;01mfor\u001b[39;00m axis \u001b[38;5;129;01min\u001b[39;00m notin]\n\u001b[32m   1119\u001b[39m at = a.transpose(newaxes_a).reshape(newshape_a)\n\u001b[32m-> \u001b[39m\u001b[32m1120\u001b[39m bt = \u001b[43mb\u001b[49m\u001b[43m.\u001b[49m\u001b[43mtranspose\u001b[49m\u001b[43m(\u001b[49m\u001b[43mnewaxes_b\u001b[49m\u001b[43m)\u001b[49m\u001b[43m.\u001b[49m\u001b[43mreshape\u001b[49m\u001b[43m(\u001b[49m\u001b[43mnewshape_b\u001b[49m\u001b[43m)\u001b[49m\n\u001b[32m   1121\u001b[39m res = dot(at, bt)\n\u001b[32m   1122\u001b[39m \u001b[38;5;28;01mreturn\u001b[39;00m res.reshape(olda + oldb)\n",
      "\u001b[31mKeyboardInterrupt\u001b[39m: "
     ]
    }
   ],
   "source": [
    "from qaravan.core import brickwall_skeleton, two_local_circ\n",
    "from qaravan.tensorQ import environment_state_prep\n",
    "\n",
    "row_layout = [{'num_cells': 3, 'shift': 0.0}, \n",
    "             {'num_cells': 4, 'shift': -0.5}, \n",
    "             {'num_cells': 3, 'shift': 0.0}, \n",
    "             {'num_cells': 2, 'shift': 0.5}]\n",
    "sp = [0,1,6,7,9,11,30,32,34,35,19,20]\n",
    "ham = interp_ham(row_layout, sp, 0.35 * np.pi)\n",
    "ground(ham)"
   ]
  },
  {
   "cell_type": "code",
   "execution_count": null,
   "metadata": {},
   "outputs": [],
   "source": []
  }
 ],
 "metadata": {
  "kernelspec": {
   "display_name": "qaravan-env-final",
   "language": "python",
   "name": "python3"
  },
  "language_info": {
   "codemirror_mode": {
    "name": "ipython",
    "version": 3
   },
   "file_extension": ".py",
   "mimetype": "text/x-python",
   "name": "python",
   "nbconvert_exporter": "python",
   "pygments_lexer": "ipython3",
   "version": "3.11.11"
  },
  "orig_nbformat": 4
 },
 "nbformat": 4,
 "nbformat_minor": 2
}
